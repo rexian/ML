{
  "nbformat": 4,
  "nbformat_minor": 0,
  "metadata": {
    "colab": {
      "provenance": [],
      "gpuType": "V28",
      "authorship_tag": "ABX9TyOuSdpx34NN1Pg3tfbVNW4d",
      "include_colab_link": true
    },
    "kernelspec": {
      "name": "python3",
      "display_name": "Python 3"
    },
    "language_info": {
      "name": "python"
    },
    "accelerator": "TPU"
  },
  "cells": [
    {
      "cell_type": "markdown",
      "metadata": {
        "id": "view-in-github",
        "colab_type": "text"
      },
      "source": [
        "<a href=\"https://colab.research.google.com/github/rexian/ML/blob/main/pytorch/tensor.ipynb\" target=\"_parent\"><img src=\"https://colab.research.google.com/assets/colab-badge.svg\" alt=\"Open In Colab\"/></a>"
      ]
    },
    {
      "cell_type": "code",
      "execution_count": null,
      "metadata": {
        "colab": {
          "base_uri": "https://localhost:8080/"
        },
        "id": "slcjIrHCMlfU",
        "outputId": "1dc6a7b4-5844-4604-8bc7-3322ec76d722"
      },
      "outputs": [
        {
          "output_type": "stream",
          "name": "stdout",
          "text": [
            "tensor([[1, 2, 3],\n",
            "        [4, 5, 6]])\n",
            "torch.int64\n",
            "cpu\n",
            "torch.Size([2, 3])\n",
            "False\n"
          ]
        }
      ],
      "source": [
        "import torch\n",
        "\n",
        "my_tensor = torch.tensor([[1,2,3],[4,5,6]])\n",
        "print(my_tensor)\n",
        "print(my_tensor.dtype)\n",
        "print(my_tensor.device)\n",
        "print(my_tensor.shape)\n",
        "print(my_tensor.requires_grad)"
      ]
    },
    {
      "cell_type": "code",
      "source": [
        "x = torch.randn(3 , requires_grad=True)\n",
        "print(x)\n",
        "\n",
        "y = x + 2\n",
        "print(y)\n",
        "\n",
        "z = y * y * 2\n",
        "z = z.mean()\n",
        "print(z)\n",
        "\n",
        "z.backward()\n",
        "print(x.grad)"
      ],
      "metadata": {
        "id": "Fst0rvE5FKFV",
        "colab": {
          "base_uri": "https://localhost:8080/"
        },
        "outputId": "509facab-b404-4b0c-8ab9-76833489601a"
      },
      "execution_count": null,
      "outputs": [
        {
          "output_type": "stream",
          "name": "stdout",
          "text": [
            "tensor([-0.1265,  0.0422, -0.1212], requires_grad=True)\n",
            "tensor([1.8735, 2.0422, 1.8788], grad_fn=<AddBackward0>)\n",
            "tensor(7.4735, grad_fn=<MeanBackward0>)\n",
            "tensor([2.4980, 2.7229, 2.5050])\n"
          ]
        }
      ]
    },
    {
      "cell_type": "code",
      "source": [],
      "metadata": {
        "id": "_rTJ0yWkIkgc"
      },
      "execution_count": null,
      "outputs": []
    }
  ]
}