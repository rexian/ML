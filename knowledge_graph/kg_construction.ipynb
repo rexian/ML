{
  "cells": [
    {
      "cell_type": "markdown",
      "metadata": {
        "id": "view-in-github",
        "colab_type": "text"
      },
      "source": [
        "<a href=\"https://colab.research.google.com/github/rexian/ML/blob/main/knowledge_graph/kg_construction.ipynb\" target=\"_parent\"><img src=\"https://colab.research.google.com/assets/colab-badge.svg\" alt=\"Open In Colab\"/></a>"
      ]
    },
    {
      "cell_type": "markdown",
      "id": "f5518a01-a2ac-43ab-ae64-5919e771d201",
      "metadata": {
        "id": "f5518a01-a2ac-43ab-ae64-5919e771d201"
      },
      "source": [
        "# API Knowledge Graph Construction"
      ]
    },
    {
      "cell_type": "markdown",
      "id": "64ab0adf-a9c9-47a3-8768-d9ba91558b56",
      "metadata": {
        "id": "64ab0adf-a9c9-47a3-8768-d9ba91558b56"
      },
      "source": []
    },
    {
      "cell_type": "code",
      "execution_count": 1,
      "id": "b4d034b0-6124-4883-8b40-824f759cb95b",
      "metadata": {
        "height": 64,
        "id": "b4d034b0-6124-4883-8b40-824f759cb95b"
      },
      "outputs": [],
      "source": [
        "# Warning control\n",
        "import warnings\n",
        "warnings.filterwarnings('ignore')"
      ]
    },
    {
      "cell_type": "code",
      "source": [
        "!pip install -r requirements.txt"
      ],
      "metadata": {
        "colab": {
          "base_uri": "https://localhost:8080/"
        },
        "collapsed": true,
        "id": "uD-g1jWG-pew",
        "outputId": "1ac2f656-6673-4bff-a618-514e6f5d9b01"
      },
      "id": "uD-g1jWG-pew",
      "execution_count": 2,
      "outputs": [
        {
          "output_type": "stream",
          "name": "stdout",
          "text": [
            "Requirement already satisfied: numpy==1.26.4 in /usr/local/lib/python3.12/dist-packages (from -r requirements.txt (line 1)) (1.26.4)\n",
            "Requirement already satisfied: faiss-cpu==1.8.0 in /usr/local/lib/python3.12/dist-packages (from -r requirements.txt (line 2)) (1.8.0)\n",
            "Requirement already satisfied: langchain==0.3.26 in /usr/local/lib/python3.12/dist-packages (from -r requirements.txt (line 3)) (0.3.26)\n",
            "Requirement already satisfied: langchain-community==0.3.26 in /usr/local/lib/python3.12/dist-packages (from -r requirements.txt (line 4)) (0.3.26)\n",
            "Requirement already satisfied: langchain-openai==0.3.27 in /usr/local/lib/python3.12/dist-packages (from -r requirements.txt (line 5)) (0.3.27)\n",
            "Requirement already satisfied: matplotlib==3.10.3 in /usr/local/lib/python3.12/dist-packages (from -r requirements.txt (line 6)) (3.10.3)\n",
            "Requirement already satisfied: matplotlib-inline==0.1.7 in /usr/local/lib/python3.12/dist-packages (from -r requirements.txt (line 7)) (0.1.7)\n",
            "Requirement already satisfied: networkx==3.2.1 in /usr/local/lib/python3.12/dist-packages (from -r requirements.txt (line 8)) (3.2.1)\n",
            "Requirement already satisfied: openai==1.93.1 in /usr/local/lib/python3.12/dist-packages (from -r requirements.txt (line 9)) (1.93.1)\n",
            "Requirement already satisfied: pandas==2.2.2 in /usr/local/lib/python3.12/dist-packages (from -r requirements.txt (line 10)) (2.2.2)\n",
            "Requirement already satisfied: pyparsing==3.2.3 in /usr/local/lib/python3.12/dist-packages (from -r requirements.txt (line 11)) (3.2.3)\n",
            "Requirement already satisfied: python-dateutil==2.9.0.post0 in /usr/local/lib/python3.12/dist-packages (from -r requirements.txt (line 12)) (2.9.0.post0)\n",
            "Requirement already satisfied: python-dotenv==1.1.0 in /usr/local/lib/python3.12/dist-packages (from -r requirements.txt (line 13)) (1.1.0)\n",
            "Requirement already satisfied: pytz==2025.2 in /usr/local/lib/python3.12/dist-packages (from -r requirements.txt (line 14)) (2025.2)\n",
            "Requirement already satisfied: rdflib==7.1.4 in /usr/local/lib/python3.12/dist-packages (from -r requirements.txt (line 15)) (7.1.4)\n",
            "Requirement already satisfied: scipy==1.15.3 in /usr/local/lib/python3.12/dist-packages (from -r requirements.txt (line 16)) (1.15.3)\n",
            "Requirement already satisfied: six==1.17.0 in /usr/local/lib/python3.12/dist-packages (from -r requirements.txt (line 17)) (1.17.0)\n",
            "Requirement already satisfied: tqdm==4.67.1 in /usr/local/lib/python3.12/dist-packages (from -r requirements.txt (line 18)) (4.67.1)\n",
            "Requirement already satisfied: tzdata==2025.2 in /usr/local/lib/python3.12/dist-packages (from -r requirements.txt (line 19)) (2025.2)\n",
            "Requirement already satisfied: netgraph==4.13.2 in /usr/local/lib/python3.12/dist-packages (from -r requirements.txt (line 20)) (4.13.2)\n",
            "Requirement already satisfied: langchain-core<1.0.0,>=0.3.66 in /usr/local/lib/python3.12/dist-packages (from langchain==0.3.26->-r requirements.txt (line 3)) (0.3.75)\n",
            "Requirement already satisfied: langchain-text-splitters<1.0.0,>=0.3.8 in /usr/local/lib/python3.12/dist-packages (from langchain==0.3.26->-r requirements.txt (line 3)) (0.3.11)\n",
            "Requirement already satisfied: langsmith>=0.1.17 in /usr/local/lib/python3.12/dist-packages (from langchain==0.3.26->-r requirements.txt (line 3)) (0.4.27)\n",
            "Requirement already satisfied: pydantic<3.0.0,>=2.7.4 in /usr/local/lib/python3.12/dist-packages (from langchain==0.3.26->-r requirements.txt (line 3)) (2.11.7)\n",
            "Requirement already satisfied: SQLAlchemy<3,>=1.4 in /usr/local/lib/python3.12/dist-packages (from langchain==0.3.26->-r requirements.txt (line 3)) (2.0.43)\n",
            "Requirement already satisfied: requests<3,>=2 in /usr/local/lib/python3.12/dist-packages (from langchain==0.3.26->-r requirements.txt (line 3)) (2.32.4)\n",
            "Requirement already satisfied: PyYAML>=5.3 in /usr/local/lib/python3.12/dist-packages (from langchain==0.3.26->-r requirements.txt (line 3)) (6.0.2)\n",
            "Requirement already satisfied: aiohttp<4.0.0,>=3.8.3 in /usr/local/lib/python3.12/dist-packages (from langchain-community==0.3.26->-r requirements.txt (line 4)) (3.12.15)\n",
            "Requirement already satisfied: tenacity!=8.4.0,<10,>=8.1.0 in /usr/local/lib/python3.12/dist-packages (from langchain-community==0.3.26->-r requirements.txt (line 4)) (8.5.0)\n",
            "Requirement already satisfied: dataclasses-json<0.7,>=0.5.7 in /usr/local/lib/python3.12/dist-packages (from langchain-community==0.3.26->-r requirements.txt (line 4)) (0.6.7)\n",
            "Requirement already satisfied: pydantic-settings<3.0.0,>=2.4.0 in /usr/local/lib/python3.12/dist-packages (from langchain-community==0.3.26->-r requirements.txt (line 4)) (2.10.1)\n",
            "Requirement already satisfied: httpx-sse<1.0.0,>=0.4.0 in /usr/local/lib/python3.12/dist-packages (from langchain-community==0.3.26->-r requirements.txt (line 4)) (0.4.1)\n",
            "Requirement already satisfied: tiktoken<1,>=0.7 in /usr/local/lib/python3.12/dist-packages (from langchain-openai==0.3.27->-r requirements.txt (line 5)) (0.11.0)\n",
            "Requirement already satisfied: contourpy>=1.0.1 in /usr/local/lib/python3.12/dist-packages (from matplotlib==3.10.3->-r requirements.txt (line 6)) (1.3.3)\n",
            "Requirement already satisfied: cycler>=0.10 in /usr/local/lib/python3.12/dist-packages (from matplotlib==3.10.3->-r requirements.txt (line 6)) (0.12.1)\n",
            "Requirement already satisfied: fonttools>=4.22.0 in /usr/local/lib/python3.12/dist-packages (from matplotlib==3.10.3->-r requirements.txt (line 6)) (4.59.2)\n",
            "Requirement already satisfied: kiwisolver>=1.3.1 in /usr/local/lib/python3.12/dist-packages (from matplotlib==3.10.3->-r requirements.txt (line 6)) (1.4.9)\n",
            "Requirement already satisfied: packaging>=20.0 in /usr/local/lib/python3.12/dist-packages (from matplotlib==3.10.3->-r requirements.txt (line 6)) (25.0)\n",
            "Requirement already satisfied: pillow>=8 in /usr/local/lib/python3.12/dist-packages (from matplotlib==3.10.3->-r requirements.txt (line 6)) (11.3.0)\n",
            "Requirement already satisfied: traitlets in /usr/local/lib/python3.12/dist-packages (from matplotlib-inline==0.1.7->-r requirements.txt (line 7)) (5.7.1)\n",
            "Requirement already satisfied: anyio<5,>=3.5.0 in /usr/local/lib/python3.12/dist-packages (from openai==1.93.1->-r requirements.txt (line 9)) (4.10.0)\n",
            "Requirement already satisfied: distro<2,>=1.7.0 in /usr/local/lib/python3.12/dist-packages (from openai==1.93.1->-r requirements.txt (line 9)) (1.9.0)\n",
            "Requirement already satisfied: httpx<1,>=0.23.0 in /usr/local/lib/python3.12/dist-packages (from openai==1.93.1->-r requirements.txt (line 9)) (0.28.1)\n",
            "Requirement already satisfied: jiter<1,>=0.4.0 in /usr/local/lib/python3.12/dist-packages (from openai==1.93.1->-r requirements.txt (line 9)) (0.10.0)\n",
            "Requirement already satisfied: sniffio in /usr/local/lib/python3.12/dist-packages (from openai==1.93.1->-r requirements.txt (line 9)) (1.3.1)\n",
            "Requirement already satisfied: typing-extensions<5,>=4.11 in /usr/local/lib/python3.12/dist-packages (from openai==1.93.1->-r requirements.txt (line 9)) (4.15.0)\n",
            "Requirement already satisfied: rectangle-packer in /usr/local/lib/python3.12/dist-packages (from netgraph==4.13.2->-r requirements.txt (line 20)) (2.0.4)\n",
            "Requirement already satisfied: grandalf in /usr/local/lib/python3.12/dist-packages (from netgraph==4.13.2->-r requirements.txt (line 20)) (0.8)\n",
            "Requirement already satisfied: aiohappyeyeballs>=2.5.0 in /usr/local/lib/python3.12/dist-packages (from aiohttp<4.0.0,>=3.8.3->langchain-community==0.3.26->-r requirements.txt (line 4)) (2.6.1)\n",
            "Requirement already satisfied: aiosignal>=1.4.0 in /usr/local/lib/python3.12/dist-packages (from aiohttp<4.0.0,>=3.8.3->langchain-community==0.3.26->-r requirements.txt (line 4)) (1.4.0)\n",
            "Requirement already satisfied: attrs>=17.3.0 in /usr/local/lib/python3.12/dist-packages (from aiohttp<4.0.0,>=3.8.3->langchain-community==0.3.26->-r requirements.txt (line 4)) (25.3.0)\n",
            "Requirement already satisfied: frozenlist>=1.1.1 in /usr/local/lib/python3.12/dist-packages (from aiohttp<4.0.0,>=3.8.3->langchain-community==0.3.26->-r requirements.txt (line 4)) (1.7.0)\n",
            "Requirement already satisfied: multidict<7.0,>=4.5 in /usr/local/lib/python3.12/dist-packages (from aiohttp<4.0.0,>=3.8.3->langchain-community==0.3.26->-r requirements.txt (line 4)) (6.6.4)\n",
            "Requirement already satisfied: propcache>=0.2.0 in /usr/local/lib/python3.12/dist-packages (from aiohttp<4.0.0,>=3.8.3->langchain-community==0.3.26->-r requirements.txt (line 4)) (0.3.2)\n",
            "Requirement already satisfied: yarl<2.0,>=1.17.0 in /usr/local/lib/python3.12/dist-packages (from aiohttp<4.0.0,>=3.8.3->langchain-community==0.3.26->-r requirements.txt (line 4)) (1.20.1)\n",
            "Requirement already satisfied: idna>=2.8 in /usr/local/lib/python3.12/dist-packages (from anyio<5,>=3.5.0->openai==1.93.1->-r requirements.txt (line 9)) (3.10)\n",
            "Requirement already satisfied: marshmallow<4.0.0,>=3.18.0 in /usr/local/lib/python3.12/dist-packages (from dataclasses-json<0.7,>=0.5.7->langchain-community==0.3.26->-r requirements.txt (line 4)) (3.26.1)\n",
            "Requirement already satisfied: typing-inspect<1,>=0.4.0 in /usr/local/lib/python3.12/dist-packages (from dataclasses-json<0.7,>=0.5.7->langchain-community==0.3.26->-r requirements.txt (line 4)) (0.9.0)\n",
            "Requirement already satisfied: certifi in /usr/local/lib/python3.12/dist-packages (from httpx<1,>=0.23.0->openai==1.93.1->-r requirements.txt (line 9)) (2025.8.3)\n",
            "Requirement already satisfied: httpcore==1.* in /usr/local/lib/python3.12/dist-packages (from httpx<1,>=0.23.0->openai==1.93.1->-r requirements.txt (line 9)) (1.0.9)\n",
            "Requirement already satisfied: h11>=0.16 in /usr/local/lib/python3.12/dist-packages (from httpcore==1.*->httpx<1,>=0.23.0->openai==1.93.1->-r requirements.txt (line 9)) (0.16.0)\n",
            "Requirement already satisfied: jsonpatch<2.0,>=1.33 in /usr/local/lib/python3.12/dist-packages (from langchain-core<1.0.0,>=0.3.66->langchain==0.3.26->-r requirements.txt (line 3)) (1.33)\n",
            "Requirement already satisfied: orjson>=3.9.14 in /usr/local/lib/python3.12/dist-packages (from langsmith>=0.1.17->langchain==0.3.26->-r requirements.txt (line 3)) (3.11.3)\n",
            "Requirement already satisfied: requests-toolbelt>=1.0.0 in /usr/local/lib/python3.12/dist-packages (from langsmith>=0.1.17->langchain==0.3.26->-r requirements.txt (line 3)) (1.0.0)\n",
            "Requirement already satisfied: zstandard>=0.23.0 in /usr/local/lib/python3.12/dist-packages (from langsmith>=0.1.17->langchain==0.3.26->-r requirements.txt (line 3)) (0.24.0)\n",
            "Requirement already satisfied: annotated-types>=0.6.0 in /usr/local/lib/python3.12/dist-packages (from pydantic<3.0.0,>=2.7.4->langchain==0.3.26->-r requirements.txt (line 3)) (0.7.0)\n",
            "Requirement already satisfied: pydantic-core==2.33.2 in /usr/local/lib/python3.12/dist-packages (from pydantic<3.0.0,>=2.7.4->langchain==0.3.26->-r requirements.txt (line 3)) (2.33.2)\n",
            "Requirement already satisfied: typing-inspection>=0.4.0 in /usr/local/lib/python3.12/dist-packages (from pydantic<3.0.0,>=2.7.4->langchain==0.3.26->-r requirements.txt (line 3)) (0.4.1)\n",
            "Requirement already satisfied: charset_normalizer<4,>=2 in /usr/local/lib/python3.12/dist-packages (from requests<3,>=2->langchain==0.3.26->-r requirements.txt (line 3)) (3.4.3)\n",
            "Requirement already satisfied: urllib3<3,>=1.21.1 in /usr/local/lib/python3.12/dist-packages (from requests<3,>=2->langchain==0.3.26->-r requirements.txt (line 3)) (2.5.0)\n",
            "Requirement already satisfied: greenlet>=1 in /usr/local/lib/python3.12/dist-packages (from SQLAlchemy<3,>=1.4->langchain==0.3.26->-r requirements.txt (line 3)) (3.2.4)\n",
            "Requirement already satisfied: regex>=2022.1.18 in /usr/local/lib/python3.12/dist-packages (from tiktoken<1,>=0.7->langchain-openai==0.3.27->-r requirements.txt (line 5)) (2024.11.6)\n",
            "Requirement already satisfied: jsonpointer>=1.9 in /usr/local/lib/python3.12/dist-packages (from jsonpatch<2.0,>=1.33->langchain-core<1.0.0,>=0.3.66->langchain==0.3.26->-r requirements.txt (line 3)) (3.0.0)\n",
            "Requirement already satisfied: mypy-extensions>=0.3.0 in /usr/local/lib/python3.12/dist-packages (from typing-inspect<1,>=0.4.0->dataclasses-json<0.7,>=0.5.7->langchain-community==0.3.26->-r requirements.txt (line 4)) (1.1.0)\n"
          ]
        }
      ]
    },
    {
      "cell_type": "code",
      "execution_count": 3,
      "id": "e0b71221-3e41-4b8b-becd-94c70ccfc5a5",
      "metadata": {
        "height": 115,
        "id": "e0b71221-3e41-4b8b-becd-94c70ccfc5a5"
      },
      "outputs": [],
      "source": [
        "import pandas as pd\n",
        "from rdflib import Graph\n",
        "import networkx as nx\n",
        "from matplotlib import pyplot as plt\n",
        "\n",
        "# Load the kg.py file\n",
        "import sys\n",
        "sys.path.append('/content/')\n",
        "from kg import rdf_to_nx"
      ]
    },
    {
      "cell_type": "markdown",
      "id": "3864df85-ae1c-4147-98fc-0f4aa36a6964",
      "metadata": {
        "id": "3864df85-ae1c-4147-98fc-0f4aa36a6964"
      },
      "source": [
        "<div style=\"background-color:#fff6ff; padding:13px; border-width:3px; border-color:#efe6ef; border-style:solid; border-radius:6px\">\n",
        "<p> 💻 &nbsp; <b>Access <code>requirements.txt</code> and <code>helper.py</code> files:</b> 1) click on the <em>\"File\"</em> option on the top menu of the notebook and then 2) click on <em>\"Open\"</em>.\n",
        "\n",
        "<p> ⬇ &nbsp; <b>Download Notebooks:</b> 1) click on the <em>\"File\"</em> option on the top menu of the notebook and then 2) click on <em>\"Download as\"</em> and select <em>\"Notebook (.ipynb)\"</em>.</p>\n",
        "</div>"
      ]
    },
    {
      "cell_type": "markdown",
      "id": "cc54888e-843e-4615-9db2-3b152b82b568",
      "metadata": {
        "id": "cc54888e-843e-4615-9db2-3b152b82b568"
      },
      "source": [
        "## Input Data"
      ]
    },
    {
      "cell_type": "code",
      "execution_count": 4,
      "id": "adb61490-3463-4307-9dbe-ccf152bf3e2c",
      "metadata": {
        "height": 64,
        "id": "adb61490-3463-4307-9dbe-ccf152bf3e2c"
      },
      "outputs": [],
      "source": [
        "services_df = pd.read_csv(\"data/services.csv\",\n",
        "                          sep=',',\n",
        "                          dtype={'version': 'string'}).fillna('')"
      ]
    },
    {
      "cell_type": "code",
      "execution_count": null,
      "id": "cc2f7a43-cfb1-4c12-8ccc-1696a1013bb0",
      "metadata": {
        "height": 30,
        "id": "cc2f7a43-cfb1-4c12-8ccc-1696a1013bb0"
      },
      "outputs": [],
      "source": [
        "services_df.head(1)"
      ]
    },
    {
      "cell_type": "code",
      "execution_count": 5,
      "id": "127ef73a-dda0-4587-aa71-8f4035611330",
      "metadata": {
        "height": 64,
        "colab": {
          "base_uri": "https://localhost:8080/",
          "height": 80
        },
        "id": "127ef73a-dda0-4587-aa71-8f4035611330",
        "outputId": "f7c34246-0064-49dc-f577-46b648329b05"
      },
      "outputs": [
        {
          "output_type": "execute_result",
          "data": {
            "text/plain": [
              "                   name                    service\n",
              "0  PurchaseReqnItemType  API_PURCHASEREQUISITION_2"
            ],
            "text/html": [
              "\n",
              "  <div id=\"df-f8d2c07a-5f7b-450b-8b30-481740cabd02\" class=\"colab-df-container\">\n",
              "    <div>\n",
              "<style scoped>\n",
              "    .dataframe tbody tr th:only-of-type {\n",
              "        vertical-align: middle;\n",
              "    }\n",
              "\n",
              "    .dataframe tbody tr th {\n",
              "        vertical-align: top;\n",
              "    }\n",
              "\n",
              "    .dataframe thead th {\n",
              "        text-align: right;\n",
              "    }\n",
              "</style>\n",
              "<table border=\"1\" class=\"dataframe\">\n",
              "  <thead>\n",
              "    <tr style=\"text-align: right;\">\n",
              "      <th></th>\n",
              "      <th>name</th>\n",
              "      <th>service</th>\n",
              "    </tr>\n",
              "  </thead>\n",
              "  <tbody>\n",
              "    <tr>\n",
              "      <th>0</th>\n",
              "      <td>PurchaseReqnItemType</td>\n",
              "      <td>API_PURCHASEREQUISITION_2</td>\n",
              "    </tr>\n",
              "  </tbody>\n",
              "</table>\n",
              "</div>\n",
              "    <div class=\"colab-df-buttons\">\n",
              "\n",
              "  <div class=\"colab-df-container\">\n",
              "    <button class=\"colab-df-convert\" onclick=\"convertToInteractive('df-f8d2c07a-5f7b-450b-8b30-481740cabd02')\"\n",
              "            title=\"Convert this dataframe to an interactive table.\"\n",
              "            style=\"display:none;\">\n",
              "\n",
              "  <svg xmlns=\"http://www.w3.org/2000/svg\" height=\"24px\" viewBox=\"0 -960 960 960\">\n",
              "    <path d=\"M120-120v-720h720v720H120Zm60-500h600v-160H180v160Zm220 220h160v-160H400v160Zm0 220h160v-160H400v160ZM180-400h160v-160H180v160Zm440 0h160v-160H620v160ZM180-180h160v-160H180v160Zm440 0h160v-160H620v160Z\"/>\n",
              "  </svg>\n",
              "    </button>\n",
              "\n",
              "  <style>\n",
              "    .colab-df-container {\n",
              "      display:flex;\n",
              "      gap: 12px;\n",
              "    }\n",
              "\n",
              "    .colab-df-convert {\n",
              "      background-color: #E8F0FE;\n",
              "      border: none;\n",
              "      border-radius: 50%;\n",
              "      cursor: pointer;\n",
              "      display: none;\n",
              "      fill: #1967D2;\n",
              "      height: 32px;\n",
              "      padding: 0 0 0 0;\n",
              "      width: 32px;\n",
              "    }\n",
              "\n",
              "    .colab-df-convert:hover {\n",
              "      background-color: #E2EBFA;\n",
              "      box-shadow: 0px 1px 2px rgba(60, 64, 67, 0.3), 0px 1px 3px 1px rgba(60, 64, 67, 0.15);\n",
              "      fill: #174EA6;\n",
              "    }\n",
              "\n",
              "    .colab-df-buttons div {\n",
              "      margin-bottom: 4px;\n",
              "    }\n",
              "\n",
              "    [theme=dark] .colab-df-convert {\n",
              "      background-color: #3B4455;\n",
              "      fill: #D2E3FC;\n",
              "    }\n",
              "\n",
              "    [theme=dark] .colab-df-convert:hover {\n",
              "      background-color: #434B5C;\n",
              "      box-shadow: 0px 1px 3px 1px rgba(0, 0, 0, 0.15);\n",
              "      filter: drop-shadow(0px 1px 2px rgba(0, 0, 0, 0.3));\n",
              "      fill: #FFFFFF;\n",
              "    }\n",
              "  </style>\n",
              "\n",
              "    <script>\n",
              "      const buttonEl =\n",
              "        document.querySelector('#df-f8d2c07a-5f7b-450b-8b30-481740cabd02 button.colab-df-convert');\n",
              "      buttonEl.style.display =\n",
              "        google.colab.kernel.accessAllowed ? 'block' : 'none';\n",
              "\n",
              "      async function convertToInteractive(key) {\n",
              "        const element = document.querySelector('#df-f8d2c07a-5f7b-450b-8b30-481740cabd02');\n",
              "        const dataTable =\n",
              "          await google.colab.kernel.invokeFunction('convertToInteractive',\n",
              "                                                    [key], {});\n",
              "        if (!dataTable) return;\n",
              "\n",
              "        const docLinkHtml = 'Like what you see? Visit the ' +\n",
              "          '<a target=\"_blank\" href=https://colab.research.google.com/notebooks/data_table.ipynb>data table notebook</a>'\n",
              "          + ' to learn more about interactive tables.';\n",
              "        element.innerHTML = '';\n",
              "        dataTable['output_type'] = 'display_data';\n",
              "        await google.colab.output.renderOutput(dataTable, element);\n",
              "        const docLink = document.createElement('div');\n",
              "        docLink.innerHTML = docLinkHtml;\n",
              "        element.appendChild(docLink);\n",
              "      }\n",
              "    </script>\n",
              "  </div>\n",
              "\n",
              "\n",
              "    </div>\n",
              "  </div>\n"
            ],
            "application/vnd.google.colaboratory.intrinsic+json": {
              "type": "dataframe",
              "variable_name": "entity_types_df",
              "summary": "{\n  \"name\": \"entity_types_df\",\n  \"rows\": 101,\n  \"fields\": [\n    {\n      \"column\": \"name\",\n      \"properties\": {\n        \"dtype\": \"string\",\n        \"num_unique_values\": 98,\n        \"samples\": [\n          \"CnsldtnCustomer_Type\",\n          \"BillingDocumentRequestPartner_Type\",\n          \"PlannedOrderComponentType\"\n        ],\n        \"semantic_type\": \"\",\n        \"description\": \"\"\n      }\n    },\n    {\n      \"column\": \"service\",\n      \"properties\": {\n        \"dtype\": \"category\",\n        \"num_unique_values\": 39,\n        \"samples\": [\n          \"API_CNSLDTNCUSTOMER\",\n          \"API_WAREHOUSE_RESOURCE_2\",\n          \"API_PRODUCT_AVAILY_INFO\"\n        ],\n        \"semantic_type\": \"\",\n        \"description\": \"\"\n      }\n    }\n  ]\n}"
            }
          },
          "metadata": {},
          "execution_count": 5
        }
      ],
      "source": [
        "entity_types_df = pd.read_csv(\"data/entity_types.csv\",\n",
        "                              sep=',').fillna('')\n",
        "entity_types_df.head(1)"
      ]
    },
    {
      "cell_type": "code",
      "execution_count": 6,
      "id": "ea764238-fefc-4a89-9373-7e9d1a5d4dcc",
      "metadata": {
        "height": 64,
        "colab": {
          "base_uri": "https://localhost:8080/",
          "height": 134
        },
        "id": "ea764238-fefc-4a89-9373-7e9d1a5d4dcc",
        "outputId": "0284387e-b3f4-4339-d785-6498a114e5f0"
      },
      "outputs": [
        {
          "output_type": "execute_result",
          "data": {
            "text/plain": [
              "               service          entityType                  name  \\\n",
              "0  API_PURCHASEORDER_2  PURCHASEORDER_TYPE  CashDiscount1Percent   \n",
              "\n",
              "             label     type maxLength key selectProperty  \n",
              "0  CD Percentage 1  Decimal                               "
            ],
            "text/html": [
              "\n",
              "  <div id=\"df-1a6e7077-2f50-4ffe-961d-7508a47a5531\" class=\"colab-df-container\">\n",
              "    <div>\n",
              "<style scoped>\n",
              "    .dataframe tbody tr th:only-of-type {\n",
              "        vertical-align: middle;\n",
              "    }\n",
              "\n",
              "    .dataframe tbody tr th {\n",
              "        vertical-align: top;\n",
              "    }\n",
              "\n",
              "    .dataframe thead th {\n",
              "        text-align: right;\n",
              "    }\n",
              "</style>\n",
              "<table border=\"1\" class=\"dataframe\">\n",
              "  <thead>\n",
              "    <tr style=\"text-align: right;\">\n",
              "      <th></th>\n",
              "      <th>service</th>\n",
              "      <th>entityType</th>\n",
              "      <th>name</th>\n",
              "      <th>label</th>\n",
              "      <th>type</th>\n",
              "      <th>maxLength</th>\n",
              "      <th>key</th>\n",
              "      <th>selectProperty</th>\n",
              "    </tr>\n",
              "  </thead>\n",
              "  <tbody>\n",
              "    <tr>\n",
              "      <th>0</th>\n",
              "      <td>API_PURCHASEORDER_2</td>\n",
              "      <td>PURCHASEORDER_TYPE</td>\n",
              "      <td>CashDiscount1Percent</td>\n",
              "      <td>CD Percentage 1</td>\n",
              "      <td>Decimal</td>\n",
              "      <td></td>\n",
              "      <td></td>\n",
              "      <td></td>\n",
              "    </tr>\n",
              "  </tbody>\n",
              "</table>\n",
              "</div>\n",
              "    <div class=\"colab-df-buttons\">\n",
              "\n",
              "  <div class=\"colab-df-container\">\n",
              "    <button class=\"colab-df-convert\" onclick=\"convertToInteractive('df-1a6e7077-2f50-4ffe-961d-7508a47a5531')\"\n",
              "            title=\"Convert this dataframe to an interactive table.\"\n",
              "            style=\"display:none;\">\n",
              "\n",
              "  <svg xmlns=\"http://www.w3.org/2000/svg\" height=\"24px\" viewBox=\"0 -960 960 960\">\n",
              "    <path d=\"M120-120v-720h720v720H120Zm60-500h600v-160H180v160Zm220 220h160v-160H400v160Zm0 220h160v-160H400v160ZM180-400h160v-160H180v160Zm440 0h160v-160H620v160ZM180-180h160v-160H180v160Zm440 0h160v-160H620v160Z\"/>\n",
              "  </svg>\n",
              "    </button>\n",
              "\n",
              "  <style>\n",
              "    .colab-df-container {\n",
              "      display:flex;\n",
              "      gap: 12px;\n",
              "    }\n",
              "\n",
              "    .colab-df-convert {\n",
              "      background-color: #E8F0FE;\n",
              "      border: none;\n",
              "      border-radius: 50%;\n",
              "      cursor: pointer;\n",
              "      display: none;\n",
              "      fill: #1967D2;\n",
              "      height: 32px;\n",
              "      padding: 0 0 0 0;\n",
              "      width: 32px;\n",
              "    }\n",
              "\n",
              "    .colab-df-convert:hover {\n",
              "      background-color: #E2EBFA;\n",
              "      box-shadow: 0px 1px 2px rgba(60, 64, 67, 0.3), 0px 1px 3px 1px rgba(60, 64, 67, 0.15);\n",
              "      fill: #174EA6;\n",
              "    }\n",
              "\n",
              "    .colab-df-buttons div {\n",
              "      margin-bottom: 4px;\n",
              "    }\n",
              "\n",
              "    [theme=dark] .colab-df-convert {\n",
              "      background-color: #3B4455;\n",
              "      fill: #D2E3FC;\n",
              "    }\n",
              "\n",
              "    [theme=dark] .colab-df-convert:hover {\n",
              "      background-color: #434B5C;\n",
              "      box-shadow: 0px 1px 3px 1px rgba(0, 0, 0, 0.15);\n",
              "      filter: drop-shadow(0px 1px 2px rgba(0, 0, 0, 0.3));\n",
              "      fill: #FFFFFF;\n",
              "    }\n",
              "  </style>\n",
              "\n",
              "    <script>\n",
              "      const buttonEl =\n",
              "        document.querySelector('#df-1a6e7077-2f50-4ffe-961d-7508a47a5531 button.colab-df-convert');\n",
              "      buttonEl.style.display =\n",
              "        google.colab.kernel.accessAllowed ? 'block' : 'none';\n",
              "\n",
              "      async function convertToInteractive(key) {\n",
              "        const element = document.querySelector('#df-1a6e7077-2f50-4ffe-961d-7508a47a5531');\n",
              "        const dataTable =\n",
              "          await google.colab.kernel.invokeFunction('convertToInteractive',\n",
              "                                                    [key], {});\n",
              "        if (!dataTable) return;\n",
              "\n",
              "        const docLinkHtml = 'Like what you see? Visit the ' +\n",
              "          '<a target=\"_blank\" href=https://colab.research.google.com/notebooks/data_table.ipynb>data table notebook</a>'\n",
              "          + ' to learn more about interactive tables.';\n",
              "        element.innerHTML = '';\n",
              "        dataTable['output_type'] = 'display_data';\n",
              "        await google.colab.output.renderOutput(dataTable, element);\n",
              "        const docLink = document.createElement('div');\n",
              "        docLink.innerHTML = docLinkHtml;\n",
              "        element.appendChild(docLink);\n",
              "      }\n",
              "    </script>\n",
              "  </div>\n",
              "\n",
              "\n",
              "    </div>\n",
              "  </div>\n"
            ],
            "application/vnd.google.colaboratory.intrinsic+json": {
              "type": "dataframe",
              "variable_name": "properties_df",
              "summary": "{\n  \"name\": \"properties_df\",\n  \"rows\": 2366,\n  \"fields\": [\n    {\n      \"column\": \"service\",\n      \"properties\": {\n        \"dtype\": \"category\",\n        \"num_unique_values\": 39,\n        \"samples\": [\n          \"API_PRAWELLCOMPLETIONDOWNTIME\",\n          \"API_CONSOLIDATIONTASK\",\n          \"API_SERVICECONTRACT\"\n        ],\n        \"semantic_type\": \"\",\n        \"description\": \"\"\n      }\n    },\n    {\n      \"column\": \"entityType\",\n      \"properties\": {\n        \"dtype\": \"category\",\n        \"num_unique_values\": 98,\n        \"samples\": [\n          \"MSRGPOINTCONDITION_TYPE\",\n          \"CUSTOMERRETURN_TYPE\",\n          \"ATPRLVTPRODUCTMRPAREABATCH_TYPE\"\n        ],\n        \"semantic_type\": \"\",\n        \"description\": \"\"\n      }\n    },\n    {\n      \"column\": \"name\",\n      \"properties\": {\n        \"dtype\": \"string\",\n        \"num_unique_values\": 1391,\n        \"samples\": [\n          \"BillOfOperationsVariant\",\n          \"EffectiveExchangeRate\",\n          \"TranspOrdItemPackageID\"\n        ],\n        \"semantic_type\": \"\",\n        \"description\": \"\"\n      }\n    },\n    {\n      \"column\": \"label\",\n      \"properties\": {\n        \"dtype\": \"string\",\n        \"num_unique_values\": 1222,\n        \"samples\": [\n          \"Payment Terms\",\n          \"Language key\",\n          \"Days 2\"\n        ],\n        \"semantic_type\": \"\",\n        \"description\": \"\"\n      }\n    },\n    {\n      \"column\": \"type\",\n      \"properties\": {\n        \"dtype\": \"category\",\n        \"num_unique_values\": 12,\n        \"samples\": [\n          \"Int32\",\n          \"Double\",\n          \"Decimal\"\n        ],\n        \"semantic_type\": \"\",\n        \"description\": \"\"\n      }\n    },\n    {\n      \"column\": \"maxLength\",\n      \"properties\": {\n        \"dtype\": \"object\",\n        \"num_unique_values\": 33,\n        \"samples\": [\n          22.0,\n          28.0,\n          60.0\n        ],\n        \"semantic_type\": \"\",\n        \"description\": \"\"\n      }\n    },\n    {\n      \"column\": \"key\",\n      \"properties\": {\n        \"dtype\": \"category\",\n        \"num_unique_values\": 2,\n        \"samples\": [\n          true,\n          \"\"\n        ],\n        \"semantic_type\": \"\",\n        \"description\": \"\"\n      }\n    },\n    {\n      \"column\": \"selectProperty\",\n      \"properties\": {\n        \"dtype\": \"category\",\n        \"num_unique_values\": 2,\n        \"samples\": [\n          true,\n          \"\"\n        ],\n        \"semantic_type\": \"\",\n        \"description\": \"\"\n      }\n    }\n  ]\n}"
            }
          },
          "metadata": {},
          "execution_count": 6
        }
      ],
      "source": [
        "properties_df = pd.read_csv(\"data/properties.csv\",\n",
        "                            sep=',').fillna('')\n",
        "properties_df.head(1)"
      ]
    },
    {
      "cell_type": "code",
      "execution_count": 7,
      "id": "20e537bd-5c4e-47cb-8586-4adcd9a18b74",
      "metadata": {
        "height": 64,
        "colab": {
          "base_uri": "https://localhost:8080/",
          "height": 131
        },
        "id": "20e537bd-5c4e-47cb-8586-4adcd9a18b74",
        "outputId": "13b6098e-cdb0-4ffe-d8c5-fe307d34efc3"
      },
      "outputs": [
        {
          "output_type": "execute_result",
          "data": {
            "text/plain": [
              "               service                name            navigateFrom  \\\n",
              "0  API_PURCHASEORDER_2      _PurchaseOrder  PURCHASEORDERITEM_TYPE   \n",
              "1  API_PURCHASEORDER_2  _PurchaseOrderItem      PURCHASEORDER_TYPE   \n",
              "\n",
              "               navigateTo multiplicity  \n",
              "0      PURCHASEORDER_TYPE            1  \n",
              "1  PURCHASEORDERITEM_TYPE            *  "
            ],
            "text/html": [
              "\n",
              "  <div id=\"df-de8d5c36-0e69-4cb2-a57c-1efa045fcd58\" class=\"colab-df-container\">\n",
              "    <div>\n",
              "<style scoped>\n",
              "    .dataframe tbody tr th:only-of-type {\n",
              "        vertical-align: middle;\n",
              "    }\n",
              "\n",
              "    .dataframe tbody tr th {\n",
              "        vertical-align: top;\n",
              "    }\n",
              "\n",
              "    .dataframe thead th {\n",
              "        text-align: right;\n",
              "    }\n",
              "</style>\n",
              "<table border=\"1\" class=\"dataframe\">\n",
              "  <thead>\n",
              "    <tr style=\"text-align: right;\">\n",
              "      <th></th>\n",
              "      <th>service</th>\n",
              "      <th>name</th>\n",
              "      <th>navigateFrom</th>\n",
              "      <th>navigateTo</th>\n",
              "      <th>multiplicity</th>\n",
              "    </tr>\n",
              "  </thead>\n",
              "  <tbody>\n",
              "    <tr>\n",
              "      <th>0</th>\n",
              "      <td>API_PURCHASEORDER_2</td>\n",
              "      <td>_PurchaseOrder</td>\n",
              "      <td>PURCHASEORDERITEM_TYPE</td>\n",
              "      <td>PURCHASEORDER_TYPE</td>\n",
              "      <td>1</td>\n",
              "    </tr>\n",
              "    <tr>\n",
              "      <th>1</th>\n",
              "      <td>API_PURCHASEORDER_2</td>\n",
              "      <td>_PurchaseOrderItem</td>\n",
              "      <td>PURCHASEORDER_TYPE</td>\n",
              "      <td>PURCHASEORDERITEM_TYPE</td>\n",
              "      <td>*</td>\n",
              "    </tr>\n",
              "  </tbody>\n",
              "</table>\n",
              "</div>\n",
              "    <div class=\"colab-df-buttons\">\n",
              "\n",
              "  <div class=\"colab-df-container\">\n",
              "    <button class=\"colab-df-convert\" onclick=\"convertToInteractive('df-de8d5c36-0e69-4cb2-a57c-1efa045fcd58')\"\n",
              "            title=\"Convert this dataframe to an interactive table.\"\n",
              "            style=\"display:none;\">\n",
              "\n",
              "  <svg xmlns=\"http://www.w3.org/2000/svg\" height=\"24px\" viewBox=\"0 -960 960 960\">\n",
              "    <path d=\"M120-120v-720h720v720H120Zm60-500h600v-160H180v160Zm220 220h160v-160H400v160Zm0 220h160v-160H400v160ZM180-400h160v-160H180v160Zm440 0h160v-160H620v160ZM180-180h160v-160H180v160Zm440 0h160v-160H620v160Z\"/>\n",
              "  </svg>\n",
              "    </button>\n",
              "\n",
              "  <style>\n",
              "    .colab-df-container {\n",
              "      display:flex;\n",
              "      gap: 12px;\n",
              "    }\n",
              "\n",
              "    .colab-df-convert {\n",
              "      background-color: #E8F0FE;\n",
              "      border: none;\n",
              "      border-radius: 50%;\n",
              "      cursor: pointer;\n",
              "      display: none;\n",
              "      fill: #1967D2;\n",
              "      height: 32px;\n",
              "      padding: 0 0 0 0;\n",
              "      width: 32px;\n",
              "    }\n",
              "\n",
              "    .colab-df-convert:hover {\n",
              "      background-color: #E2EBFA;\n",
              "      box-shadow: 0px 1px 2px rgba(60, 64, 67, 0.3), 0px 1px 3px 1px rgba(60, 64, 67, 0.15);\n",
              "      fill: #174EA6;\n",
              "    }\n",
              "\n",
              "    .colab-df-buttons div {\n",
              "      margin-bottom: 4px;\n",
              "    }\n",
              "\n",
              "    [theme=dark] .colab-df-convert {\n",
              "      background-color: #3B4455;\n",
              "      fill: #D2E3FC;\n",
              "    }\n",
              "\n",
              "    [theme=dark] .colab-df-convert:hover {\n",
              "      background-color: #434B5C;\n",
              "      box-shadow: 0px 1px 3px 1px rgba(0, 0, 0, 0.15);\n",
              "      filter: drop-shadow(0px 1px 2px rgba(0, 0, 0, 0.3));\n",
              "      fill: #FFFFFF;\n",
              "    }\n",
              "  </style>\n",
              "\n",
              "    <script>\n",
              "      const buttonEl =\n",
              "        document.querySelector('#df-de8d5c36-0e69-4cb2-a57c-1efa045fcd58 button.colab-df-convert');\n",
              "      buttonEl.style.display =\n",
              "        google.colab.kernel.accessAllowed ? 'block' : 'none';\n",
              "\n",
              "      async function convertToInteractive(key) {\n",
              "        const element = document.querySelector('#df-de8d5c36-0e69-4cb2-a57c-1efa045fcd58');\n",
              "        const dataTable =\n",
              "          await google.colab.kernel.invokeFunction('convertToInteractive',\n",
              "                                                    [key], {});\n",
              "        if (!dataTable) return;\n",
              "\n",
              "        const docLinkHtml = 'Like what you see? Visit the ' +\n",
              "          '<a target=\"_blank\" href=https://colab.research.google.com/notebooks/data_table.ipynb>data table notebook</a>'\n",
              "          + ' to learn more about interactive tables.';\n",
              "        element.innerHTML = '';\n",
              "        dataTable['output_type'] = 'display_data';\n",
              "        await google.colab.output.renderOutput(dataTable, element);\n",
              "        const docLink = document.createElement('div');\n",
              "        docLink.innerHTML = docLinkHtml;\n",
              "        element.appendChild(docLink);\n",
              "      }\n",
              "    </script>\n",
              "  </div>\n",
              "\n",
              "\n",
              "    <div id=\"df-5589b9c8-03d3-4f47-ae32-60558eca1eb8\">\n",
              "      <button class=\"colab-df-quickchart\" onclick=\"quickchart('df-5589b9c8-03d3-4f47-ae32-60558eca1eb8')\"\n",
              "                title=\"Suggest charts\"\n",
              "                style=\"display:none;\">\n",
              "\n",
              "<svg xmlns=\"http://www.w3.org/2000/svg\" height=\"24px\"viewBox=\"0 0 24 24\"\n",
              "     width=\"24px\">\n",
              "    <g>\n",
              "        <path d=\"M19 3H5c-1.1 0-2 .9-2 2v14c0 1.1.9 2 2 2h14c1.1 0 2-.9 2-2V5c0-1.1-.9-2-2-2zM9 17H7v-7h2v7zm4 0h-2V7h2v10zm4 0h-2v-4h2v4z\"/>\n",
              "    </g>\n",
              "</svg>\n",
              "      </button>\n",
              "\n",
              "<style>\n",
              "  .colab-df-quickchart {\n",
              "      --bg-color: #E8F0FE;\n",
              "      --fill-color: #1967D2;\n",
              "      --hover-bg-color: #E2EBFA;\n",
              "      --hover-fill-color: #174EA6;\n",
              "      --disabled-fill-color: #AAA;\n",
              "      --disabled-bg-color: #DDD;\n",
              "  }\n",
              "\n",
              "  [theme=dark] .colab-df-quickchart {\n",
              "      --bg-color: #3B4455;\n",
              "      --fill-color: #D2E3FC;\n",
              "      --hover-bg-color: #434B5C;\n",
              "      --hover-fill-color: #FFFFFF;\n",
              "      --disabled-bg-color: #3B4455;\n",
              "      --disabled-fill-color: #666;\n",
              "  }\n",
              "\n",
              "  .colab-df-quickchart {\n",
              "    background-color: var(--bg-color);\n",
              "    border: none;\n",
              "    border-radius: 50%;\n",
              "    cursor: pointer;\n",
              "    display: none;\n",
              "    fill: var(--fill-color);\n",
              "    height: 32px;\n",
              "    padding: 0;\n",
              "    width: 32px;\n",
              "  }\n",
              "\n",
              "  .colab-df-quickchart:hover {\n",
              "    background-color: var(--hover-bg-color);\n",
              "    box-shadow: 0 1px 2px rgba(60, 64, 67, 0.3), 0 1px 3px 1px rgba(60, 64, 67, 0.15);\n",
              "    fill: var(--button-hover-fill-color);\n",
              "  }\n",
              "\n",
              "  .colab-df-quickchart-complete:disabled,\n",
              "  .colab-df-quickchart-complete:disabled:hover {\n",
              "    background-color: var(--disabled-bg-color);\n",
              "    fill: var(--disabled-fill-color);\n",
              "    box-shadow: none;\n",
              "  }\n",
              "\n",
              "  .colab-df-spinner {\n",
              "    border: 2px solid var(--fill-color);\n",
              "    border-color: transparent;\n",
              "    border-bottom-color: var(--fill-color);\n",
              "    animation:\n",
              "      spin 1s steps(1) infinite;\n",
              "  }\n",
              "\n",
              "  @keyframes spin {\n",
              "    0% {\n",
              "      border-color: transparent;\n",
              "      border-bottom-color: var(--fill-color);\n",
              "      border-left-color: var(--fill-color);\n",
              "    }\n",
              "    20% {\n",
              "      border-color: transparent;\n",
              "      border-left-color: var(--fill-color);\n",
              "      border-top-color: var(--fill-color);\n",
              "    }\n",
              "    30% {\n",
              "      border-color: transparent;\n",
              "      border-left-color: var(--fill-color);\n",
              "      border-top-color: var(--fill-color);\n",
              "      border-right-color: var(--fill-color);\n",
              "    }\n",
              "    40% {\n",
              "      border-color: transparent;\n",
              "      border-right-color: var(--fill-color);\n",
              "      border-top-color: var(--fill-color);\n",
              "    }\n",
              "    60% {\n",
              "      border-color: transparent;\n",
              "      border-right-color: var(--fill-color);\n",
              "    }\n",
              "    80% {\n",
              "      border-color: transparent;\n",
              "      border-right-color: var(--fill-color);\n",
              "      border-bottom-color: var(--fill-color);\n",
              "    }\n",
              "    90% {\n",
              "      border-color: transparent;\n",
              "      border-bottom-color: var(--fill-color);\n",
              "    }\n",
              "  }\n",
              "</style>\n",
              "\n",
              "      <script>\n",
              "        async function quickchart(key) {\n",
              "          const quickchartButtonEl =\n",
              "            document.querySelector('#' + key + ' button');\n",
              "          quickchartButtonEl.disabled = true;  // To prevent multiple clicks.\n",
              "          quickchartButtonEl.classList.add('colab-df-spinner');\n",
              "          try {\n",
              "            const charts = await google.colab.kernel.invokeFunction(\n",
              "                'suggestCharts', [key], {});\n",
              "          } catch (error) {\n",
              "            console.error('Error during call to suggestCharts:', error);\n",
              "          }\n",
              "          quickchartButtonEl.classList.remove('colab-df-spinner');\n",
              "          quickchartButtonEl.classList.add('colab-df-quickchart-complete');\n",
              "        }\n",
              "        (() => {\n",
              "          let quickchartButtonEl =\n",
              "            document.querySelector('#df-5589b9c8-03d3-4f47-ae32-60558eca1eb8 button');\n",
              "          quickchartButtonEl.style.display =\n",
              "            google.colab.kernel.accessAllowed ? 'block' : 'none';\n",
              "        })();\n",
              "      </script>\n",
              "    </div>\n",
              "\n",
              "    </div>\n",
              "  </div>\n"
            ],
            "application/vnd.google.colaboratory.intrinsic+json": {
              "type": "dataframe",
              "variable_name": "navigations_df",
              "summary": "{\n  \"name\": \"navigations_df\",\n  \"rows\": 126,\n  \"fields\": [\n    {\n      \"column\": \"service\",\n      \"properties\": {\n        \"dtype\": \"category\",\n        \"num_unique_values\": 26,\n        \"samples\": [\n          \"API_CNSLDTNGROUPSTRUCTURE\",\n          \"API_PROJECTBILLINGREQUEST\",\n          \"API_PURCHASEORDER_2\"\n        ],\n        \"semantic_type\": \"\",\n        \"description\": \"\"\n      }\n    },\n    {\n      \"column\": \"name\",\n      \"properties\": {\n        \"dtype\": \"string\",\n        \"num_unique_values\": 77,\n        \"samples\": [\n          \"_PRAWellCompltnDwnItmTP\",\n          \"_CostCenter\",\n          \"_CnsldtnGroupStructure\"\n        ],\n        \"semantic_type\": \"\",\n        \"description\": \"\"\n      }\n    },\n    {\n      \"column\": \"navigateFrom\",\n      \"properties\": {\n        \"dtype\": \"string\",\n        \"num_unique_values\": 80,\n        \"samples\": [\n          \"PROJECTBILLINGREQUEST_TYPE\",\n          \"PURCHASEORDERITEM_TYPE\",\n          \"BILLINGDOCUMENTREQUEST_TYPE\"\n        ],\n        \"semantic_type\": \"\",\n        \"description\": \"\"\n      }\n    },\n    {\n      \"column\": \"navigateTo\",\n      \"properties\": {\n        \"dtype\": \"string\",\n        \"num_unique_values\": 80,\n        \"samples\": [\n          \"MSRGPOINTCONDITION_TYPE\",\n          \"PURCHASEORDER_TYPE\",\n          \"PLANNEDORDERHEADERTYPE\"\n        ],\n        \"semantic_type\": \"\",\n        \"description\": \"\"\n      }\n    },\n    {\n      \"column\": \"multiplicity\",\n      \"properties\": {\n        \"dtype\": \"category\",\n        \"num_unique_values\": 2,\n        \"samples\": [\n          \"*\",\n          \"1\"\n        ],\n        \"semantic_type\": \"\",\n        \"description\": \"\"\n      }\n    }\n  ]\n}"
            }
          },
          "metadata": {},
          "execution_count": 7
        }
      ],
      "source": [
        "navigations_df = pd.read_csv(\"data/navigations.csv\",\n",
        "                             sep=',').fillna('')\n",
        "navigations_df.head(2)"
      ]
    },
    {
      "cell_type": "code",
      "execution_count": 8,
      "id": "53eca76e-62d1-4fa3-b8e0-7e720925db7d",
      "metadata": {
        "height": 64,
        "colab": {
          "base_uri": "https://localhost:8080/",
          "height": 80
        },
        "id": "53eca76e-62d1-4fa3-b8e0-7e720925db7d",
        "outputId": "f7a810b3-d134-4be0-ac77-413c24219c66"
      },
      "outputs": [
        {
          "output_type": "execute_result",
          "data": {
            "text/plain": [
              "            name              service          entityType\n",
              "0  PurchaseOrder  API_PURCHASEORDER_2  PURCHASEORDER_TYPE"
            ],
            "text/html": [
              "\n",
              "  <div id=\"df-822c22d6-9509-4ce1-b9ad-e1abadc2debd\" class=\"colab-df-container\">\n",
              "    <div>\n",
              "<style scoped>\n",
              "    .dataframe tbody tr th:only-of-type {\n",
              "        vertical-align: middle;\n",
              "    }\n",
              "\n",
              "    .dataframe tbody tr th {\n",
              "        vertical-align: top;\n",
              "    }\n",
              "\n",
              "    .dataframe thead th {\n",
              "        text-align: right;\n",
              "    }\n",
              "</style>\n",
              "<table border=\"1\" class=\"dataframe\">\n",
              "  <thead>\n",
              "    <tr style=\"text-align: right;\">\n",
              "      <th></th>\n",
              "      <th>name</th>\n",
              "      <th>service</th>\n",
              "      <th>entityType</th>\n",
              "    </tr>\n",
              "  </thead>\n",
              "  <tbody>\n",
              "    <tr>\n",
              "      <th>0</th>\n",
              "      <td>PurchaseOrder</td>\n",
              "      <td>API_PURCHASEORDER_2</td>\n",
              "      <td>PURCHASEORDER_TYPE</td>\n",
              "    </tr>\n",
              "  </tbody>\n",
              "</table>\n",
              "</div>\n",
              "    <div class=\"colab-df-buttons\">\n",
              "\n",
              "  <div class=\"colab-df-container\">\n",
              "    <button class=\"colab-df-convert\" onclick=\"convertToInteractive('df-822c22d6-9509-4ce1-b9ad-e1abadc2debd')\"\n",
              "            title=\"Convert this dataframe to an interactive table.\"\n",
              "            style=\"display:none;\">\n",
              "\n",
              "  <svg xmlns=\"http://www.w3.org/2000/svg\" height=\"24px\" viewBox=\"0 -960 960 960\">\n",
              "    <path d=\"M120-120v-720h720v720H120Zm60-500h600v-160H180v160Zm220 220h160v-160H400v160Zm0 220h160v-160H400v160ZM180-400h160v-160H180v160Zm440 0h160v-160H620v160ZM180-180h160v-160H180v160Zm440 0h160v-160H620v160Z\"/>\n",
              "  </svg>\n",
              "    </button>\n",
              "\n",
              "  <style>\n",
              "    .colab-df-container {\n",
              "      display:flex;\n",
              "      gap: 12px;\n",
              "    }\n",
              "\n",
              "    .colab-df-convert {\n",
              "      background-color: #E8F0FE;\n",
              "      border: none;\n",
              "      border-radius: 50%;\n",
              "      cursor: pointer;\n",
              "      display: none;\n",
              "      fill: #1967D2;\n",
              "      height: 32px;\n",
              "      padding: 0 0 0 0;\n",
              "      width: 32px;\n",
              "    }\n",
              "\n",
              "    .colab-df-convert:hover {\n",
              "      background-color: #E2EBFA;\n",
              "      box-shadow: 0px 1px 2px rgba(60, 64, 67, 0.3), 0px 1px 3px 1px rgba(60, 64, 67, 0.15);\n",
              "      fill: #174EA6;\n",
              "    }\n",
              "\n",
              "    .colab-df-buttons div {\n",
              "      margin-bottom: 4px;\n",
              "    }\n",
              "\n",
              "    [theme=dark] .colab-df-convert {\n",
              "      background-color: #3B4455;\n",
              "      fill: #D2E3FC;\n",
              "    }\n",
              "\n",
              "    [theme=dark] .colab-df-convert:hover {\n",
              "      background-color: #434B5C;\n",
              "      box-shadow: 0px 1px 3px 1px rgba(0, 0, 0, 0.15);\n",
              "      filter: drop-shadow(0px 1px 2px rgba(0, 0, 0, 0.3));\n",
              "      fill: #FFFFFF;\n",
              "    }\n",
              "  </style>\n",
              "\n",
              "    <script>\n",
              "      const buttonEl =\n",
              "        document.querySelector('#df-822c22d6-9509-4ce1-b9ad-e1abadc2debd button.colab-df-convert');\n",
              "      buttonEl.style.display =\n",
              "        google.colab.kernel.accessAllowed ? 'block' : 'none';\n",
              "\n",
              "      async function convertToInteractive(key) {\n",
              "        const element = document.querySelector('#df-822c22d6-9509-4ce1-b9ad-e1abadc2debd');\n",
              "        const dataTable =\n",
              "          await google.colab.kernel.invokeFunction('convertToInteractive',\n",
              "                                                    [key], {});\n",
              "        if (!dataTable) return;\n",
              "\n",
              "        const docLinkHtml = 'Like what you see? Visit the ' +\n",
              "          '<a target=\"_blank\" href=https://colab.research.google.com/notebooks/data_table.ipynb>data table notebook</a>'\n",
              "          + ' to learn more about interactive tables.';\n",
              "        element.innerHTML = '';\n",
              "        dataTable['output_type'] = 'display_data';\n",
              "        await google.colab.output.renderOutput(dataTable, element);\n",
              "        const docLink = document.createElement('div');\n",
              "        docLink.innerHTML = docLinkHtml;\n",
              "        element.appendChild(docLink);\n",
              "      }\n",
              "    </script>\n",
              "  </div>\n",
              "\n",
              "\n",
              "    </div>\n",
              "  </div>\n"
            ],
            "application/vnd.google.colaboratory.intrinsic+json": {
              "type": "dataframe",
              "variable_name": "entity_sets_df",
              "summary": "{\n  \"name\": \"entity_sets_df\",\n  \"rows\": 101,\n  \"fields\": [\n    {\n      \"column\": \"name\",\n      \"properties\": {\n        \"dtype\": \"string\",\n        \"num_unique_values\": 97,\n        \"samples\": [\n          \"PlannedOrderComponent\",\n          \"ServiceContractItem\",\n          \"PRAInternalMarketingRate\"\n        ],\n        \"semantic_type\": \"\",\n        \"description\": \"\"\n      }\n    },\n    {\n      \"column\": \"service\",\n      \"properties\": {\n        \"dtype\": \"category\",\n        \"num_unique_values\": 39,\n        \"samples\": [\n          \"API_SALESORDER\",\n          \"BR_CTR_SERVICE_O4\",\n          \"API_PLANNEDORDER\"\n        ],\n        \"semantic_type\": \"\",\n        \"description\": \"\"\n      }\n    },\n    {\n      \"column\": \"entityType\",\n      \"properties\": {\n        \"dtype\": \"string\",\n        \"num_unique_values\": 98,\n        \"samples\": [\n          \"WORKCENTERPOOLEDCAPACITYTYPE\",\n          \"SRVCCANCELLATIONREASONTEXT_TYPE\",\n          \"PRAINTERNALMARKETINGRATEHDR_TYPE\"\n        ],\n        \"semantic_type\": \"\",\n        \"description\": \"\"\n      }\n    }\n  ]\n}"
            }
          },
          "metadata": {},
          "execution_count": 8
        }
      ],
      "source": [
        "entity_sets_df = pd.read_csv(\"data/entity_sets.csv\",\n",
        "                             sep=',').fillna('')\n",
        "entity_sets_df.head(1)"
      ]
    },
    {
      "cell_type": "code",
      "execution_count": 9,
      "id": "8b63a4ba-5d3e-4801-9d67-bcb988a20fff",
      "metadata": {
        "height": 166,
        "colab": {
          "base_uri": "https://localhost:8080/",
          "height": 204
        },
        "id": "8b63a4ba-5d3e-4801-9d67-bcb988a20fff",
        "outputId": "ae586aa4-ec36-4d48-b051-f879baeee220"
      },
      "outputs": [
        {
          "output_type": "execute_result",
          "data": {
            "text/plain": [
              "              Count\n",
              "Services         39\n",
              "Entity Sets     101\n",
              "Entity Types    101\n",
              "Navigations     126\n",
              "Properties     2366"
            ],
            "text/html": [
              "\n",
              "  <div id=\"df-95914c57-9aba-4da0-88ab-2210bd97a1ff\" class=\"colab-df-container\">\n",
              "    <div>\n",
              "<style scoped>\n",
              "    .dataframe tbody tr th:only-of-type {\n",
              "        vertical-align: middle;\n",
              "    }\n",
              "\n",
              "    .dataframe tbody tr th {\n",
              "        vertical-align: top;\n",
              "    }\n",
              "\n",
              "    .dataframe thead th {\n",
              "        text-align: right;\n",
              "    }\n",
              "</style>\n",
              "<table border=\"1\" class=\"dataframe\">\n",
              "  <thead>\n",
              "    <tr style=\"text-align: right;\">\n",
              "      <th></th>\n",
              "      <th>Count</th>\n",
              "    </tr>\n",
              "  </thead>\n",
              "  <tbody>\n",
              "    <tr>\n",
              "      <th>Services</th>\n",
              "      <td>39</td>\n",
              "    </tr>\n",
              "    <tr>\n",
              "      <th>Entity Sets</th>\n",
              "      <td>101</td>\n",
              "    </tr>\n",
              "    <tr>\n",
              "      <th>Entity Types</th>\n",
              "      <td>101</td>\n",
              "    </tr>\n",
              "    <tr>\n",
              "      <th>Navigations</th>\n",
              "      <td>126</td>\n",
              "    </tr>\n",
              "    <tr>\n",
              "      <th>Properties</th>\n",
              "      <td>2366</td>\n",
              "    </tr>\n",
              "  </tbody>\n",
              "</table>\n",
              "</div>\n",
              "    <div class=\"colab-df-buttons\">\n",
              "\n",
              "  <div class=\"colab-df-container\">\n",
              "    <button class=\"colab-df-convert\" onclick=\"convertToInteractive('df-95914c57-9aba-4da0-88ab-2210bd97a1ff')\"\n",
              "            title=\"Convert this dataframe to an interactive table.\"\n",
              "            style=\"display:none;\">\n",
              "\n",
              "  <svg xmlns=\"http://www.w3.org/2000/svg\" height=\"24px\" viewBox=\"0 -960 960 960\">\n",
              "    <path d=\"M120-120v-720h720v720H120Zm60-500h600v-160H180v160Zm220 220h160v-160H400v160Zm0 220h160v-160H400v160ZM180-400h160v-160H180v160Zm440 0h160v-160H620v160ZM180-180h160v-160H180v160Zm440 0h160v-160H620v160Z\"/>\n",
              "  </svg>\n",
              "    </button>\n",
              "\n",
              "  <style>\n",
              "    .colab-df-container {\n",
              "      display:flex;\n",
              "      gap: 12px;\n",
              "    }\n",
              "\n",
              "    .colab-df-convert {\n",
              "      background-color: #E8F0FE;\n",
              "      border: none;\n",
              "      border-radius: 50%;\n",
              "      cursor: pointer;\n",
              "      display: none;\n",
              "      fill: #1967D2;\n",
              "      height: 32px;\n",
              "      padding: 0 0 0 0;\n",
              "      width: 32px;\n",
              "    }\n",
              "\n",
              "    .colab-df-convert:hover {\n",
              "      background-color: #E2EBFA;\n",
              "      box-shadow: 0px 1px 2px rgba(60, 64, 67, 0.3), 0px 1px 3px 1px rgba(60, 64, 67, 0.15);\n",
              "      fill: #174EA6;\n",
              "    }\n",
              "\n",
              "    .colab-df-buttons div {\n",
              "      margin-bottom: 4px;\n",
              "    }\n",
              "\n",
              "    [theme=dark] .colab-df-convert {\n",
              "      background-color: #3B4455;\n",
              "      fill: #D2E3FC;\n",
              "    }\n",
              "\n",
              "    [theme=dark] .colab-df-convert:hover {\n",
              "      background-color: #434B5C;\n",
              "      box-shadow: 0px 1px 3px 1px rgba(0, 0, 0, 0.15);\n",
              "      filter: drop-shadow(0px 1px 2px rgba(0, 0, 0, 0.3));\n",
              "      fill: #FFFFFF;\n",
              "    }\n",
              "  </style>\n",
              "\n",
              "    <script>\n",
              "      const buttonEl =\n",
              "        document.querySelector('#df-95914c57-9aba-4da0-88ab-2210bd97a1ff button.colab-df-convert');\n",
              "      buttonEl.style.display =\n",
              "        google.colab.kernel.accessAllowed ? 'block' : 'none';\n",
              "\n",
              "      async function convertToInteractive(key) {\n",
              "        const element = document.querySelector('#df-95914c57-9aba-4da0-88ab-2210bd97a1ff');\n",
              "        const dataTable =\n",
              "          await google.colab.kernel.invokeFunction('convertToInteractive',\n",
              "                                                    [key], {});\n",
              "        if (!dataTable) return;\n",
              "\n",
              "        const docLinkHtml = 'Like what you see? Visit the ' +\n",
              "          '<a target=\"_blank\" href=https://colab.research.google.com/notebooks/data_table.ipynb>data table notebook</a>'\n",
              "          + ' to learn more about interactive tables.';\n",
              "        element.innerHTML = '';\n",
              "        dataTable['output_type'] = 'display_data';\n",
              "        await google.colab.output.renderOutput(dataTable, element);\n",
              "        const docLink = document.createElement('div');\n",
              "        docLink.innerHTML = docLinkHtml;\n",
              "        element.appendChild(docLink);\n",
              "      }\n",
              "    </script>\n",
              "  </div>\n",
              "\n",
              "\n",
              "    <div id=\"df-6eaf6a0c-013b-4579-a9d9-56c825c2a0c9\">\n",
              "      <button class=\"colab-df-quickchart\" onclick=\"quickchart('df-6eaf6a0c-013b-4579-a9d9-56c825c2a0c9')\"\n",
              "                title=\"Suggest charts\"\n",
              "                style=\"display:none;\">\n",
              "\n",
              "<svg xmlns=\"http://www.w3.org/2000/svg\" height=\"24px\"viewBox=\"0 0 24 24\"\n",
              "     width=\"24px\">\n",
              "    <g>\n",
              "        <path d=\"M19 3H5c-1.1 0-2 .9-2 2v14c0 1.1.9 2 2 2h14c1.1 0 2-.9 2-2V5c0-1.1-.9-2-2-2zM9 17H7v-7h2v7zm4 0h-2V7h2v10zm4 0h-2v-4h2v4z\"/>\n",
              "    </g>\n",
              "</svg>\n",
              "      </button>\n",
              "\n",
              "<style>\n",
              "  .colab-df-quickchart {\n",
              "      --bg-color: #E8F0FE;\n",
              "      --fill-color: #1967D2;\n",
              "      --hover-bg-color: #E2EBFA;\n",
              "      --hover-fill-color: #174EA6;\n",
              "      --disabled-fill-color: #AAA;\n",
              "      --disabled-bg-color: #DDD;\n",
              "  }\n",
              "\n",
              "  [theme=dark] .colab-df-quickchart {\n",
              "      --bg-color: #3B4455;\n",
              "      --fill-color: #D2E3FC;\n",
              "      --hover-bg-color: #434B5C;\n",
              "      --hover-fill-color: #FFFFFF;\n",
              "      --disabled-bg-color: #3B4455;\n",
              "      --disabled-fill-color: #666;\n",
              "  }\n",
              "\n",
              "  .colab-df-quickchart {\n",
              "    background-color: var(--bg-color);\n",
              "    border: none;\n",
              "    border-radius: 50%;\n",
              "    cursor: pointer;\n",
              "    display: none;\n",
              "    fill: var(--fill-color);\n",
              "    height: 32px;\n",
              "    padding: 0;\n",
              "    width: 32px;\n",
              "  }\n",
              "\n",
              "  .colab-df-quickchart:hover {\n",
              "    background-color: var(--hover-bg-color);\n",
              "    box-shadow: 0 1px 2px rgba(60, 64, 67, 0.3), 0 1px 3px 1px rgba(60, 64, 67, 0.15);\n",
              "    fill: var(--button-hover-fill-color);\n",
              "  }\n",
              "\n",
              "  .colab-df-quickchart-complete:disabled,\n",
              "  .colab-df-quickchart-complete:disabled:hover {\n",
              "    background-color: var(--disabled-bg-color);\n",
              "    fill: var(--disabled-fill-color);\n",
              "    box-shadow: none;\n",
              "  }\n",
              "\n",
              "  .colab-df-spinner {\n",
              "    border: 2px solid var(--fill-color);\n",
              "    border-color: transparent;\n",
              "    border-bottom-color: var(--fill-color);\n",
              "    animation:\n",
              "      spin 1s steps(1) infinite;\n",
              "  }\n",
              "\n",
              "  @keyframes spin {\n",
              "    0% {\n",
              "      border-color: transparent;\n",
              "      border-bottom-color: var(--fill-color);\n",
              "      border-left-color: var(--fill-color);\n",
              "    }\n",
              "    20% {\n",
              "      border-color: transparent;\n",
              "      border-left-color: var(--fill-color);\n",
              "      border-top-color: var(--fill-color);\n",
              "    }\n",
              "    30% {\n",
              "      border-color: transparent;\n",
              "      border-left-color: var(--fill-color);\n",
              "      border-top-color: var(--fill-color);\n",
              "      border-right-color: var(--fill-color);\n",
              "    }\n",
              "    40% {\n",
              "      border-color: transparent;\n",
              "      border-right-color: var(--fill-color);\n",
              "      border-top-color: var(--fill-color);\n",
              "    }\n",
              "    60% {\n",
              "      border-color: transparent;\n",
              "      border-right-color: var(--fill-color);\n",
              "    }\n",
              "    80% {\n",
              "      border-color: transparent;\n",
              "      border-right-color: var(--fill-color);\n",
              "      border-bottom-color: var(--fill-color);\n",
              "    }\n",
              "    90% {\n",
              "      border-color: transparent;\n",
              "      border-bottom-color: var(--fill-color);\n",
              "    }\n",
              "  }\n",
              "</style>\n",
              "\n",
              "      <script>\n",
              "        async function quickchart(key) {\n",
              "          const quickchartButtonEl =\n",
              "            document.querySelector('#' + key + ' button');\n",
              "          quickchartButtonEl.disabled = true;  // To prevent multiple clicks.\n",
              "          quickchartButtonEl.classList.add('colab-df-spinner');\n",
              "          try {\n",
              "            const charts = await google.colab.kernel.invokeFunction(\n",
              "                'suggestCharts', [key], {});\n",
              "          } catch (error) {\n",
              "            console.error('Error during call to suggestCharts:', error);\n",
              "          }\n",
              "          quickchartButtonEl.classList.remove('colab-df-spinner');\n",
              "          quickchartButtonEl.classList.add('colab-df-quickchart-complete');\n",
              "        }\n",
              "        (() => {\n",
              "          let quickchartButtonEl =\n",
              "            document.querySelector('#df-6eaf6a0c-013b-4579-a9d9-56c825c2a0c9 button');\n",
              "          quickchartButtonEl.style.display =\n",
              "            google.colab.kernel.accessAllowed ? 'block' : 'none';\n",
              "        })();\n",
              "      </script>\n",
              "    </div>\n",
              "\n",
              "    </div>\n",
              "  </div>\n"
            ],
            "application/vnd.google.colaboratory.intrinsic+json": {
              "type": "dataframe",
              "summary": "{\n  \"name\": \"pd\",\n  \"rows\": 5,\n  \"fields\": [\n    {\n      \"column\": \"Count\",\n      \"properties\": {\n        \"dtype\": \"number\",\n        \"std\": 1017,\n        \"min\": 39,\n        \"max\": 2366,\n        \"num_unique_values\": 4,\n        \"samples\": [\n          101,\n          2366,\n          39\n        ],\n        \"semantic_type\": \"\",\n        \"description\": \"\"\n      }\n    }\n  ]\n}"
            }
          },
          "metadata": {},
          "execution_count": 9
        }
      ],
      "source": [
        "# Show the distribution of concepts in the data\n",
        "data = {\n",
        "    \"Services\": len(services_df),\n",
        "    \"Entity Sets\": len(entity_sets_df),\n",
        "    \"Entity Types\": len(entity_types_df),\n",
        "    \"Navigations\": len(navigations_df),\n",
        "    \"Properties\": len(properties_df)\n",
        "}\n",
        "pd.DataFrame.from_dict(data, orient='index', columns=['Count'])"
      ]
    },
    {
      "cell_type": "markdown",
      "id": "3f9eb6bd-1be7-46ed-bf91-10c9614fc22e",
      "metadata": {
        "id": "3f9eb6bd-1be7-46ed-bf91-10c9614fc22e"
      },
      "source": [
        "## Knowledge Graph Construction"
      ]
    },
    {
      "cell_type": "code",
      "execution_count": 10,
      "id": "e776c4e0-a97c-4543-992e-209106121e51",
      "metadata": {
        "height": 47,
        "id": "e776c4e0-a97c-4543-992e-209106121e51"
      },
      "outputs": [],
      "source": [
        "# The Knowledge Graph\n",
        "kg = Graph()"
      ]
    },
    {
      "cell_type": "code",
      "execution_count": 13,
      "id": "86187b31-4d01-4ebe-aea5-ae12fe6806df",
      "metadata": {
        "height": 251,
        "id": "86187b31-4d01-4ebe-aea5-ae12fe6806df"
      },
      "outputs": [],
      "source": [
        "construct_services = \"\"\"\n",
        "PREFIX odata: <http://example.org/odata#>\n",
        "CONSTRUCT {\n",
        "    ?service a odata:Service .\n",
        "    ?service odata:description ?description .\n",
        "    ?service odata:version ?version .\n",
        "    ?service odata:name ?name .\n",
        "}\n",
        "WHERE\n",
        "{\n",
        "    BIND(IRI(CONCAT(\"http://data.example.org/Service/\", UCASE(?name)))\n",
        "    AS ?service)\n",
        "}\n",
        "\"\"\""
      ]
    },
    {
      "cell_type": "code",
      "execution_count": 11,
      "id": "74f5550c-07db-4d68-82bf-4e5cd347dc2d",
      "metadata": {
        "height": 540,
        "id": "74f5550c-07db-4d68-82bf-4e5cd347dc2d"
      },
      "outputs": [],
      "source": [
        "from rdflib import Dataset, Graph, Literal\n",
        "from rdflib.plugins.sparql.processor import prepareQuery\n",
        "import re\n",
        "\n",
        "def transform(df: pd.DataFrame, construct_query: str,\n",
        "              first: bool = False) -> Graph:\n",
        "    \"\"\"Transform Pandas DataFrame to RDFLib Graph given a\n",
        "    SPARQL Construct Query.\"\"\"\n",
        "\n",
        "    # Setup query graph and result graph\n",
        "    query_graph = Graph()\n",
        "    result_graph = Graph()\n",
        "\n",
        "    # Parse query and get headers\n",
        "    query = prepareQuery(construct_query)\n",
        "    invalid_pattern = re.compile(r\"[^\\w_]+\")\n",
        "    headers = dict((k, invalid_pattern.sub(\"_\", k)) for k in df.columns)\n",
        "    for _, row in df.iterrows():\n",
        "        # Variable -> Value\n",
        "        binding = dict((headers[k], Literal(row[k]))\n",
        "                       for k in df.columns if len(str(row[k])) > 0)\n",
        "\n",
        "        # Replace variables in query with values and execute query\n",
        "        results = query_graph.query(query,\n",
        "                                    initBindings=binding)\n",
        "        for result in results:\n",
        "            # Add triples to graph\n",
        "            result_graph.add(result)\n",
        "        if first:\n",
        "            break\n",
        "    return result_graph"
      ]
    },
    {
      "cell_type": "code",
      "execution_count": 14,
      "id": "3e32f232-717e-474a-8588-b1c28854b8d3",
      "metadata": {
        "height": 47,
        "colab": {
          "base_uri": "https://localhost:8080/"
        },
        "id": "3e32f232-717e-474a-8588-b1c28854b8d3",
        "outputId": "cb67bce1-d073-4599-a324-4453293d3fa9"
      },
      "outputs": [
        {
          "output_type": "stream",
          "name": "stdout",
          "text": [
            "@prefix ns1: <http://example.org/odata#> .\n",
            "\n",
            "<http://data.example.org/Service/API_PURCHASEORDER_2> a ns1:Service ;\n",
            "    ns1:description \"OData service for Purchase Order\" ;\n",
            "    ns1:name \"API_PURCHASEORDER_2\" ;\n",
            "    ns1:version \"4.0\" .\n",
            "\n",
            "\n"
          ]
        }
      ],
      "source": [
        "print(transform(services_df, construct_services, True)\n",
        "    .serialize(format='turtle'))"
      ]
    },
    {
      "cell_type": "code",
      "execution_count": 15,
      "id": "166f3515-98de-4cf2-b0d5-8f0047becba0",
      "metadata": {
        "height": 47,
        "colab": {
          "base_uri": "https://localhost:8080/"
        },
        "id": "166f3515-98de-4cf2-b0d5-8f0047becba0",
        "outputId": "d8d6c5c5-886f-45d5-9447-311e5e54200f"
      },
      "outputs": [
        {
          "output_type": "stream",
          "name": "stdout",
          "text": [
            "Current Knowledge Graph size: 156 triples.\n"
          ]
        }
      ],
      "source": [
        "kg += transform(services_df, construct_services)\n",
        "print(f\"Current Knowledge Graph size: {len(kg)} triples.\")"
      ]
    },
    {
      "cell_type": "code",
      "execution_count": 16,
      "id": "9feca8b8-fcee-40d6-94a1-b7a3f6d07613",
      "metadata": {
        "height": 336,
        "colab": {
          "base_uri": "https://localhost:8080/"
        },
        "id": "9feca8b8-fcee-40d6-94a1-b7a3f6d07613",
        "outputId": "f7c2f362-c351-4542-f543-bd70ba40748c"
      },
      "outputs": [
        {
          "output_type": "stream",
          "name": "stdout",
          "text": [
            "Current Knowledge Graph size: 457 triples.\n"
          ]
        }
      ],
      "source": [
        "construct_entity_sets = \"\"\"\n",
        "PREFIX odata: <http://example.org/odata#>\n",
        "CONSTRUCT {\n",
        "    ?entitySet a odata:EntitySet .\n",
        "    ?entitySet odata:entityType ?entityTypeIri .\n",
        "    ?entitySet odata:name ?name .\n",
        "}\n",
        "WHERE\n",
        "{\n",
        "    BIND(IRI(CONCAT(\"http://data.example.org/Service/\", ?service,\n",
        "                \"/EntitySet/\", UCASE(?name))) AS ?entitySet)\n",
        "    BIND(IRI(CONCAT(\"http://data.example.org/Service/\", ?service,\n",
        "                \"/EntityType/\", UCASE(?entityType))) AS ?entityTypeIri)\n",
        "}\n",
        "\"\"\"\n",
        "\n",
        "# Add the triples to the KG and print the total number of triples\n",
        "kg += transform(entity_sets_df, construct_entity_sets)\n",
        "print(f\"Current Knowledge Graph size: {len(kg)} triples.\")"
      ]
    },
    {
      "cell_type": "code",
      "execution_count": 17,
      "id": "2e74962a-ac1b-4d31-87c6-975a04804bb9",
      "metadata": {
        "height": 336,
        "colab": {
          "base_uri": "https://localhost:8080/"
        },
        "id": "2e74962a-ac1b-4d31-87c6-975a04804bb9",
        "outputId": "c7fd4f46-78bc-4ec2-b3cf-fac47e3e9d73"
      },
      "outputs": [
        {
          "output_type": "stream",
          "name": "stdout",
          "text": [
            "Current Knowledge Graph size: 760 triples.\n"
          ]
        }
      ],
      "source": [
        "construct_entity_types = \"\"\"\n",
        "PREFIX odata: <http://example.org/odata#>\n",
        "CONSTRUCT {\n",
        "    ?entityType a odata:EntityType .\n",
        "    ?entityType odata:name ?name .\n",
        "    ?entityType odata:service ?serviceIRI .\n",
        "}\n",
        "WHERE\n",
        "{\n",
        "    BIND(IRI(CONCAT(\"http://data.example.org/Service/\", ?service,\n",
        "                    \"/EntityType/\", UCASE(?name))) AS ?entityType)\n",
        "    BIND(IRI(CONCAT(\"http://data.example.org/Service/\", ?service))\n",
        "                                                    AS ?serviceIRI)\n",
        "}\n",
        "\"\"\"\n",
        "\n",
        "# Add the triples to the KG and print the total number of triples\n",
        "kg += transform(entity_types_df, construct_entity_types)\n",
        "print(f\"Current Knowledge Graph size: {len(kg)} triples.\")"
      ]
    },
    {
      "cell_type": "code",
      "execution_count": 18,
      "id": "06349cd2-37c7-483d-8087-dc1431794c56",
      "metadata": {
        "height": 523,
        "colab": {
          "base_uri": "https://localhost:8080/"
        },
        "id": "06349cd2-37c7-483d-8087-dc1431794c56",
        "outputId": "a902cc5e-7a77-4dde-a354-d8fd1e3de554"
      },
      "outputs": [
        {
          "output_type": "stream",
          "name": "stdout",
          "text": [
            "Current Knowledge Graph size: 14316 triples.\n"
          ]
        }
      ],
      "source": [
        "construct_properties = \"\"\"\n",
        "PREFIX odata: <http://example.org/odata#>\n",
        "PREFIX xsd: <http://www.w3.org/2001/XMLSchema#>\n",
        "CONSTRUCT\n",
        "{\n",
        "    ?property a odata:Property .\n",
        "    ?property odata:type ?type .\n",
        "    ?property odata:name ?name .\n",
        "    ?property odata:label ?label .\n",
        "    ?property odata:maxLength ?maxLength .\n",
        "    ?property odata:odataKey ?key_bool .\n",
        "    ?property odata:selectProperty ?selectProperty_bool .\n",
        "\n",
        "    # Link EntityType to Property\n",
        "    ?entityTypeIRI odata:property ?property .\n",
        "}\n",
        "{\n",
        "    BIND(IRI(CONCAT(\"http://data.example.org/Service/\", ?service,\n",
        "                    \"/EntityType/\", ?entityType,\n",
        "                    \"/Property/\", UCASE(?name))) AS ?property)\n",
        "    BIND(IRI(CONCAT(\"http://data.example.org/Service/\", ?service,\n",
        "                    \"/EntityType/\", ?entityType )) AS ?entityTypeIRI)\n",
        "    BIND(xsd:boolean(?key) AS ?key_bool)\n",
        "    BIND(xsd:boolean(?selectProperty) AS ?selectProperty_bool)\n",
        "}\n",
        "\"\"\"\n",
        "\n",
        "# Add the triples to the KG and print the total number of triples\n",
        "kg += transform(properties_df, construct_properties)\n",
        "print(f\"Current Knowledge Graph size: {len(kg)} triples.\")"
      ]
    },
    {
      "cell_type": "code",
      "execution_count": 19,
      "id": "ed4bbd47-bd7c-4b16-b21e-a2a802f729be",
      "metadata": {
        "height": 472,
        "colab": {
          "base_uri": "https://localhost:8080/"
        },
        "id": "ed4bbd47-bd7c-4b16-b21e-a2a802f729be",
        "outputId": "264ffaf7-25a1-4503-efc2-024e26771e8a"
      },
      "outputs": [
        {
          "output_type": "stream",
          "name": "stdout",
          "text": [
            "Current Knowledge Graph size: 14942 triples.\n"
          ]
        }
      ],
      "source": [
        "construct_navigations = \"\"\"\n",
        "PREFIX odata: <http://example.org/odata#>\n",
        "CONSTRUCT\n",
        "{\n",
        "    ?navigation a odata:Navigation .\n",
        "    ?navigation odata:name ?name .\n",
        "    ?navigation odata:navigateFrom ?navigateFromIri .\n",
        "    ?navigation odata:navigateTo ?navigateToIri .\n",
        "    ?navigation odata:multiplicity ?multiplicity .\n",
        "}\n",
        "WHERE\n",
        "{\n",
        "    BIND(IRI(CONCAT(\"http://data.example.org/Service/\", ?service,\n",
        "                    \"/EntityType/\", UCASE(?navigateFrom),\n",
        "                    \"/Navigation/\", UCASE(?name))) AS ?navigation)\n",
        "    BIND(IRI(CONCAT(\"http://data.example.org/Service/\", ?service,\n",
        "                    \"/EntityType/\", UCASE(?navigateFrom)))\n",
        "                    AS ?navigateFromIri)\n",
        "    BIND(IRI(CONCAT(\"http://data.example.org/Service/\", ?service,\n",
        "                    \"/EntityType/\", UCASE(?navigateTo)))\n",
        "                    AS ?navigateToIri)\n",
        "}\n",
        "\"\"\"\n",
        "\n",
        "# Add the triples to the KG and print the total number of triples\n",
        "kg += transform(navigations_df, construct_navigations)\n",
        "print(f\"Current Knowledge Graph size: {len(kg)} triples.\")"
      ]
    },
    {
      "cell_type": "code",
      "execution_count": 20,
      "id": "7a42e316-b8fc-4dcb-b11b-0f6998bf1644",
      "metadata": {
        "height": 336,
        "colab": {
          "base_uri": "https://localhost:8080/"
        },
        "id": "7a42e316-b8fc-4dcb-b11b-0f6998bf1644",
        "outputId": "d6cde097-3ad6-4861-aab8-054be75b6ac9"
      },
      "outputs": [
        {
          "output_type": "stream",
          "name": "stdout",
          "text": [
            "URI of the Purchase order entity set:\n",
            "http://data.example.org/Service/API_PURCHASEORDER_2/EntitySet/PURCHASEORDER\n",
            "URI of the Purchase requisition entity set:\n",
            "http://data.example.org/Service/API_PURCHASEREQUISITION_2/EntitySet/PURCHASEREQN\n"
          ]
        }
      ],
      "source": [
        "find_entity_set_query = \"\"\"\n",
        "PREFIX odata: <http://example.org/odata#>\n",
        "SELECT ?uri ?name\n",
        "{{\n",
        "    ?uri a odata:EntitySet .\n",
        "    ?uri odata:name ?name .\n",
        "    FILTER(?name = \"{name}\")\n",
        "}}\n",
        "LIMIT 1\n",
        "\"\"\"\n",
        "# Get Purchase order entity set\n",
        "for res in kg.query(find_entity_set_query.format(name=\"PurchaseOrder\")):\n",
        "    PO_node = str(res.uri)\n",
        "    print(f\"URI of the Purchase order entity set:\\n{PO_node}\")\n",
        "\n",
        "# Get Purchase requistion entity set\n",
        "for res in kg.query(find_entity_set_query.format(name=\"PurchaseReqn\")):\n",
        "    PR_node = str(res.uri)\n",
        "    print(f\"URI of the Purchase requisition entity set:\\n{PR_node}\")"
      ]
    },
    {
      "cell_type": "code",
      "execution_count": 22,
      "id": "07ce1c2c-e0c3-4cb3-b5e7-27395a98dc99",
      "metadata": {
        "height": 149,
        "id": "07ce1c2c-e0c3-4cb3-b5e7-27395a98dc99"
      },
      "outputs": [],
      "source": [
        "# RDF graph to NetworkX graph conversion\n",
        "G = rdf_to_nx(kg)\n",
        "\n",
        "# Construct the subgraphs\n",
        "G_po = G.subgraph(nx.shortest_path(G, PO_node))\n",
        "G_pr = G.subgraph(nx.shortest_path(G, PR_node))\n",
        "G_prpo = nx.union(G_pr, G_po)\n"
      ]
    },
    {
      "cell_type": "code",
      "execution_count": 24,
      "id": "f4271364-8b32-4f95-b15f-4ef4228821e7",
      "metadata": {
        "height": 30,
        "id": "f4271364-8b32-4f95-b15f-4ef4228821e7"
      },
      "outputs": [],
      "source": [
        "from netgraph import Graph as NetGraph"
      ]
    },
    {
      "cell_type": "markdown",
      "id": "75d4ef6c-06a0-4a8d-82b1-4bdf6594ae5c",
      "metadata": {
        "id": "75d4ef6c-06a0-4a8d-82b1-4bdf6594ae5c"
      },
      "source": [
        "<p style=\"background-color:#f7fff8; padding:15px; border-width:3px; border-color:#e0f0e0; border-style:solid; border-radius:6px\"> 🚨\n",
        "&nbsp; <b>Different Run Results:</b> The output visualizations generated may differ from those shown in the video.</p>"
      ]
    },
    {
      "cell_type": "code",
      "execution_count": 25,
      "id": "0c99c3b2-1594-48be-9414-2c50792ba01a",
      "metadata": {
        "height": 591,
        "colab": {
          "base_uri": "https://localhost:8080/",
          "height": 653
        },
        "id": "0c99c3b2-1594-48be-9414-2c50792ba01a",
        "outputId": "0a5b027f-4b79-449d-fdbb-f6f21f88b548"
      },
      "outputs": [
        {
          "output_type": "display_data",
          "data": {
            "text/plain": [
              "<Figure size 2000x800 with 1 Axes>"
            ],
            "image/png": "[encoded data removed]"
          },
          "metadata": {}
        }
      ],
      "source": [
        "node_color= {\n",
        "            node: ('#404040' if node in G_po\n",
        "            else '#0000FF') for node in G_prpo}\n",
        "\n",
        "node_shapes = {}\n",
        "for node in G_prpo:\n",
        "    if \"Property\" in node:\n",
        "        node_shapes[node] = \"^\"\n",
        "    elif \"Navigation\" in node:\n",
        "        node_shapes[node] = \"v\"\n",
        "    elif \"EntityType\" in node:\n",
        "       node_shapes[node] = \"s\"\n",
        "    else:\n",
        "        node_shapes[node] = \"o\"\n",
        "\n",
        "node_size = {}\n",
        "for node in G_prpo:\n",
        "    if \"Property\" in node:\n",
        "        node_size[node] = .9\n",
        "    else:\n",
        "        node_size[node] = 1.3\n",
        "fig, ax = plt.subplots(figsize=(20,8))\n",
        "\n",
        "g = NetGraph(G_prpo,\n",
        "          node_layout=nx.spring_layout(G_prpo, seed=1),\n",
        "          node_edge_width = 0,\n",
        "          node_size = node_size,\n",
        "          edge_width=.1,\n",
        "          node_color = node_color,\n",
        "          node_shape = node_shapes,\n",
        "          arrows=False,\n",
        "          ax=ax\n",
        ")\n",
        "plt.show()"
      ]
    },
    {
      "cell_type": "code",
      "execution_count": 27,
      "id": "293623c6-0137-43b4-9c61-e9a78ffc745c",
      "metadata": {
        "height": 47,
        "colab": {
          "base_uri": "https://localhost:8080/",
          "height": 607
        },
        "id": "293623c6-0137-43b4-9c61-e9a78ffc745c",
        "outputId": "f9ce5971-e4d2-4669-a16c-43066bc4ab47"
      },
      "outputs": [
        {
          "output_type": "execute_result",
          "data": {
            "image/png": "[encoded data removed]",
            "text/plain": [
              "<IPython.core.display.Image object>"
            ]
          },
          "metadata": {},
          "execution_count": 27
        }
      ],
      "source": [
        "from IPython.display import Image\n",
        "Image(filename='data/SampleKG.png')"
      ]
    },
    {
      "cell_type": "code",
      "execution_count": 28,
      "id": "f4516cc6-6b6f-44a3-be5e-c53467741dca",
      "metadata": {
        "height": 30,
        "colab": {
          "base_uri": "https://localhost:8080/"
        },
        "id": "f4516cc6-6b6f-44a3-be5e-c53467741dca",
        "outputId": "aebc055e-90e5-4a43-fc3b-1da32badd36e"
      },
      "outputs": [
        {
          "output_type": "execute_result",
          "data": {
            "text/plain": [
              "<Graph identifier=Nec27dabdb14044a19a102cc378e308ee (<class 'rdflib.graph.Graph'>)>"
            ]
          },
          "metadata": {},
          "execution_count": 28
        }
      ],
      "source": [
        "kg.serialize(destination='api_knowledge_graph.ttl', format='turtle')"
      ]
    },
    {
      "cell_type": "markdown",
      "id": "0abeb229-a837-4c64-97e6-e7a4a12d96f8",
      "metadata": {
        "id": "0abeb229-a837-4c64-97e6-e7a4a12d96f8"
      },
      "source": [
        "### Turle file\n",
        "As briefly discussed in the previous lesson, a Turtle file is a way of writing down an RDF graph in a compact, human-friendly text format.\n",
        "RDF (Resource Description Framework) represents data as triples:\n",
        "- Subject → the thing being described\n",
        "- Predicate → the property or relationship\n",
        "- Object → the value or another thing it links to\n",
        "\n",
        "**For example:**\n",
        "- <code>:Alice :knows :Bob</code>\n",
        "\n",
        "The same triple can be written in different serializations. N-Triples is very simple but verbose (each triple is written in full, one line per triple). Turtle (Terse RDF Triple Language) is more compact: it lets you shorten URIs with prefixes, group statements about the same subject, and use syntactic sugar like semicolons and commas to avoid repetition.\n",
        "\n",
        "Here’s a small example in Turtle:\n",
        "\n",
        "\n",
        "<code>@prefix foaf: <http://xmlns.com/foaf/0.1/> .\n",
        "@prefix ex:   <http://example.org/> .\n",
        "ex:Alice foaf:knows ex:Bob, ex:Charlie ;\n",
        "         foaf:name \"Alice\" .\n",
        "         \n",
        "</code>\n",
        "This expands to multiple RDF triples:\n",
        "- Alice knows Bob\n",
        "- Alice knows Charlie\n",
        "- Alice has the name \"Alice\"\n",
        "\n"
      ]
    },
    {
      "cell_type": "code",
      "execution_count": null,
      "id": "73608465-8efc-46d3-a7f4-23645b09f447",
      "metadata": {
        "height": 30,
        "id": "73608465-8efc-46d3-a7f4-23645b09f447"
      },
      "outputs": [],
      "source": []
    },
    {
      "cell_type": "code",
      "execution_count": null,
      "id": "5712130a-1ea7-463b-b4da-e0fbef0d1c18",
      "metadata": {
        "height": 30,
        "id": "5712130a-1ea7-463b-b4da-e0fbef0d1c18"
      },
      "outputs": [],
      "source": []
    },
    {
      "cell_type": "code",
      "execution_count": null,
      "id": "e3af8720-c186-45db-9b63-c90cd00db0cf",
      "metadata": {
        "height": 30,
        "id": "e3af8720-c186-45db-9b63-c90cd00db0cf"
      },
      "outputs": [],
      "source": []
    },
    {
      "cell_type": "code",
      "execution_count": null,
      "id": "ef19df09-fa3f-46b4-82b6-5d22d37a908a",
      "metadata": {
        "height": 30,
        "id": "ef19df09-fa3f-46b4-82b6-5d22d37a908a"
      },
      "outputs": [],
      "source": []
    },
    {
      "cell_type": "code",
      "execution_count": null,
      "id": "2fe124d4-1a2e-442c-8a73-a5ee0f35499c",
      "metadata": {
        "height": 30,
        "id": "2fe124d4-1a2e-442c-8a73-a5ee0f35499c"
      },
      "outputs": [],
      "source": []
    },
    {
      "cell_type": "code",
      "execution_count": null,
      "id": "fdd6e842-a429-4374-a50c-df311f99562e",
      "metadata": {
        "height": 30,
        "id": "fdd6e842-a429-4374-a50c-df311f99562e"
      },
      "outputs": [],
      "source": []
    }
  ],
  "metadata": {
    "kernelspec": {
      "display_name": "Python 3 (ipykernel)",
      "language": "python",
      "name": "python3"
    },
    "language_info": {
      "codemirror_mode": {
        "name": "ipython",
        "version": 3
      },
      "file_extension": ".py",
      "mimetype": "text/x-python",
      "name": "python",
      "nbconvert_exporter": "python",
      "pygments_lexer": "ipython3",
      "version": "3.11.3"
    },
    "colab": {
      "provenance": [],
      "include_colab_link": true
    }
  },
  "nbformat": 4,
  "nbformat_minor": 5
}