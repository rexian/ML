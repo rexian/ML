{
  "nbformat": 4,
  "nbformat_minor": 0,
  "metadata": {
    "colab": {
      "provenance": [],
      "authorship_tag": "ABX9TyNQ6KZSYsvOTloil19QyKn4",
      "include_colab_link": true
    },
    "kernelspec": {
      "name": "python3",
      "display_name": "Python 3"
    },
    "language_info": {
      "name": "python"
    }
  },
  "cells": [
    {
      "cell_type": "markdown",
      "metadata": {
        "id": "view-in-github",
        "colab_type": "text"
      },
      "source": [
        "<a href=\"https://colab.research.google.com/github/rexian/ML/blob/main/ML/agenticai/langgraph/Multi_agent_llm_pipeline.ipynb\" target=\"_parent\"><img src=\"https://colab.research.google.com/assets/colab-badge.svg\" alt=\"Open In Colab\"/></a>"
      ]
    },
    {
      "cell_type": "code",
      "source": [
        "!pip install -q -U langgraph"
      ],
      "metadata": {
        "id": "J2Tg7aQ275Sd"
      },
      "execution_count": 25,
      "outputs": []
    },
    {
      "cell_type": "code",
      "execution_count": 26,
      "metadata": {
        "id": "6qGDquhU7kL4"
      },
      "outputs": [],
      "source": [
        "import os\n",
        "import getpass\n",
        "import functools\n",
        "import operator\n",
        "from typing import TypedDict, Annotated, List\n",
        "\n",
        "from langchain_google_genai import ChatGoogleGenerativeAI\n",
        "from langchain_core.messages import HumanMessage, ToolMessage\n",
        "from langchain_core.tools import Tool\n",
        "from langgraph.graph import StateGraph, END"
      ]
    },
    {
      "cell_type": "code",
      "source": [
        "if not os.environ.get(\"GOOGLE_API_KEY\"):\n",
        "  os.environ[\"GOOGLE_API_KEY\"] = getpass.getpass(\"Enter API key for GOOGLE AI Endpoints: \")"
      ],
      "metadata": {
        "id": "kpTjK4OkGxdi"
      },
      "execution_count": 27,
      "outputs": []
    },
    {
      "cell_type": "code",
      "source": [
        "llm = ChatGoogleGenerativeAI(model=\"gemini-2.0-flash\", temperature=0)"
      ],
      "metadata": {
        "id": "sd0Cxzh3-tpv"
      },
      "execution_count": 28,
      "outputs": []
    },
    {
      "cell_type": "code",
      "source": [
        "def google_search(query: str) -> str:\n",
        "    \"\"\"\n",
        "    Simulates a web search and returns a predefined response based on the query.\n",
        "    In a real application, this would integrate with a web search API (e.g., Google Search API).\n",
        "    \"\"\"\n",
        "    print(f\"Simulating search for: '{query}'...\")\n",
        "    if \"LangGraph\" in query.lower() and \"multi-agent\" in query.lower():\n",
        "        return \"LangGraph is a framework for building stateful, multi-actor applications with LLMs, enabling complex workflows and agentic behaviors.\"\n",
        "    elif \"multi-agent pipeline\" in query.lower():\n",
        "        return \"A multi-agent pipeline involves multiple AI agents collaborating sequentially or in parallel to achieve a larger goal, often managed by an orchestration framework.\"\n",
        "    elif \"large language models\" in query.lower() or \"llm\" in query.lower():\n",
        "        return \"Large Language Models (LLMs) are deep learning models trained on vast amounts of text data, capable of understanding and generating human-like text.\"\n",
        "    else:\n",
        "        return \"No specific information found for your query in our dummy database. Try a more specific query related to AI agents or LangGraph.\""
      ],
      "metadata": {
        "id": "vG_U6WzE-y-I"
      },
      "execution_count": 29,
      "outputs": []
    },
    {
      "cell_type": "code",
      "source": [
        "search_tool = Tool(\n",
        "    name=\"search\",\n",
        "    func=google_search,\n",
        "    description=\"Useful for searching information on the internet about AI, LangGraph, or multi-agent systems.\"\n",
        ")\n",
        "llm_with_tools = llm.bind_tools([search_tool])"
      ],
      "metadata": {
        "id": "RZhUnf7P_BjB"
      },
      "execution_count": 30,
      "outputs": []
    },
    {
      "cell_type": "code",
      "source": [
        "class AgentState(TypedDict):\n",
        "    query: str\n",
        "    research_results: Annotated[List[str], operator.add]\n",
        "    summary: str\n",
        "    messages: Annotated[List[HumanMessage | ToolMessage], operator.add]"
      ],
      "metadata": {
        "id": "ZeZqjM3P_Mdh"
      },
      "execution_count": 31,
      "outputs": []
    },
    {
      "cell_type": "code",
      "source": [
        "def researcher_node(state: AgentState) -> AgentState:\n",
        "    \"\"\"\n",
        "    The Researcher agent node.\n",
        "    \"\"\"\n",
        "    print(\" RESEARCHER AGENT \")\n",
        "    current_query = state[\"query\"]\n",
        "    messages = state[\"messages\"]\n",
        "\n",
        "    if not state[\"research_results\"]:\n",
        "        llm_response = llm_with_tools.invoke(\n",
        "            messages + [HumanMessage(content=f\"Based on the main query '{current_query}', what specific information should I search for to gather relevant details?\")]\n",
        "        )\n",
        "\n",
        "        tool_calls = llm_response.tool_calls\n",
        "\n",
        "        if tool_calls and tool_calls[0].name == \"search\":\n",
        "            search_term = tool_calls[0].args.get(\"query\", current_query)\n",
        "            print(f\"Researcher found a search tool call: {search_term}\")\n",
        "            tool_output = search_tool.invoke({\"query\": search_term})\n",
        "            messages.append(ToolMessage(tool_output, tool_call_id=tool_calls[0].id))\n",
        "            state[\"research_results\"].append(tool_output)\n",
        "            print(f\"Research results added: {tool_output[:50]}...\")\n",
        "        else:\n",
        "            tool_output = search_tool.invoke({\"query\": current_query})\n",
        "            messages.append(ToolMessage(tool_output, tool_call_id=\"fallback_search_id\"))\n",
        "            state[\"research_results\"].append(tool_output)\n",
        "            print(f\"Research results added (fallback): {tool_output[:50]}...\")\n",
        "\n",
        "    else:\n",
        "        print(\"Research already performed. Moving to next stage.\")\n",
        "    return {\"research_results\": state[\"research_results\"], \"messages\": messages}"
      ],
      "metadata": {
        "id": "HLVdto82_Oqo"
      },
      "execution_count": 32,
      "outputs": []
    },
    {
      "cell_type": "code",
      "source": [
        "def summarizer_node(state: AgentState) -> AgentState:\n",
        "    \"\"\"\n",
        "    The Summarizer agent node.\n",
        "    \"\"\"\n",
        "    print(\" SUMMARIZER AGENT \")\n",
        "    all_research_results = \"\\n\\n\".join(state[\"research_results\"])\n",
        "    messages = state[\"messages\"]\n",
        "\n",
        "    if not all_research_results:\n",
        "        summary = \"No research results available to summarize.\"\n",
        "        print(summary)\n",
        "    else:\n",
        "        summary_prompt = (\n",
        "            f\"Please provide a concise summary of the following information. \"\n",
        "            f\"Focus on key concepts related to multi-agent pipelines and LangGraph:\\n\\n\"\n",
        "            f\"{all_research_results}\"\n",
        "        )\n",
        "\n",
        "        summary_response = llm.invoke(messages + [HumanMessage(content=summary_prompt)])\n",
        "        summary = summary_response.content\n",
        "        print(f\"Generated summary: {summary[:100]}...\") # Print a snippet\n",
        "\n",
        "    state[\"summary\"] = summary\n",
        "    messages.append(HumanMessage(content=f\"Final Summary: {summary}\"))\n",
        "    return {\"summary\": summary, \"messages\": messages}"
      ],
      "metadata": {
        "id": "AisUaoSF_SML"
      },
      "execution_count": 33,
      "outputs": []
    },
    {
      "cell_type": "code",
      "source": [
        "def should_continue(state: AgentState) -> str:\n",
        "    \"\"\"\n",
        "    Determines whether the pipeline should continue with research or proceed to summarization.\n",
        "    \"\"\"\n",
        "    print(\" DECIDING NEXT STEP \")\n",
        "    if state[\"research_results\"]:\n",
        "        print(\"Research results found. Proceeding to summarize.\")\n",
        "        return \"summarize\"\n",
        "    else:\n",
        "        return \"research\""
      ],
      "metadata": {
        "id": "xKFe3JXv_VXV"
      },
      "execution_count": 34,
      "outputs": []
    },
    {
      "cell_type": "code",
      "source": [
        "# Initialize the StateGraph with the defined AgentState\n",
        "workflow = StateGraph(AgentState)\n",
        "\n",
        "# Add the nodes to the workflow\n",
        "workflow.add_node(\"researcher\", researcher_node)\n",
        "workflow.add_node(\"summarizer\", summarizer_node)\n",
        "\n",
        "# Set the entry point for the graph\n",
        "workflow.set_entry_point(\"researcher\")\n",
        "\n",
        "workflow.add_conditional_edges(\n",
        "    \"researcher\",\n",
        "    should_continue,\n",
        "    {\n",
        "        \"research\": \"researcher\",  # In this simple setup, this path might not be taken often\n",
        "        \"summarize\": \"summarizer\",\n",
        "    },\n",
        ")\n",
        "\n",
        "workflow.add_edge(\"summarizer\", END)\n",
        "app = workflow.compile()\n",
        "\n",
        "# Run the Pipeline\n",
        "\n",
        "# Define the initial input for the pipeline\n",
        "initial_inputs = {\n",
        "    \"query\": \"Explain multi-agent pipelines and LangGraph.\",\n",
        "    \"research_results\": [],\n",
        "    \"summary\": \"\",\n",
        "    \"messages\": [HumanMessage(content=\"Initial request: Explain multi-agent pipelines and LangGraph.\")]\n",
        "}\n",
        "\n",
        "print(\" STARTING MULTI-AGENT PIPELINE \")\n",
        "final_state = app.invoke(initial_inputs)\n",
        "\n",
        "print(\" PIPELINE EXECUTION COMPLETE \")\n",
        "print(\" FINAL STATE \")\n",
        "print(f\"Original Query: {final_state['query']}\")\n",
        "print(f\"Accumulated Research Results: {final_state['research_results']}\")\n",
        "print(f\"Final Summary: {final_state['summary']}\")\n",
        "print(\" MESSAGE HISTORY \")\n",
        "for msg in final_state['messages']:\n",
        "    if isinstance(msg, HumanMessage):\n",
        "        print(f\"Human: {msg.content}\")\n",
        "    elif isinstance(msg, ToolMessage):\n",
        "        print(f\"Tool Output (from {msg.tool_call_id}): {msg.content}\")\n",
        "    else:\n",
        "        print(f\"Other Message: {msg}\")"
      ],
      "metadata": {
        "colab": {
          "base_uri": "https://localhost:8080/"
        },
        "id": "FGKdRd23_Zoi",
        "outputId": "314bab32-d084-4b06-8389-4654e233f500"
      },
      "execution_count": 37,
      "outputs": [
        {
          "output_type": "stream",
          "name": "stdout",
          "text": [
            " STARTING MULTI-AGENT PIPELINE \n",
            " RESEARCHER AGENT \n",
            "Simulating search for: 'Explain multi-agent pipelines and LangGraph.'...\n",
            "Research results added (fallback): A multi-agent pipeline involves multiple AI agents...\n",
            " DECIDING NEXT STEP \n",
            "Research results found. Proceeding to summarize.\n",
            " SUMMARIZER AGENT \n",
            "Generated summary: Multi-agent pipelines involve multiple AI agents working together, either sequentially or in paralle...\n",
            " PIPELINE EXECUTION COMPLETE \n",
            " FINAL STATE \n",
            "Original Query: Explain multi-agent pipelines and LangGraph.\n",
            "Accumulated Research Results: ['A multi-agent pipeline involves multiple AI agents collaborating sequentially or in parallel to achieve a larger goal, often managed by an orchestration framework.', 'A multi-agent pipeline involves multiple AI agents collaborating sequentially or in parallel to achieve a larger goal, often managed by an orchestration framework.']\n",
            "Final Summary: Multi-agent pipelines involve multiple AI agents working together, either sequentially or in parallel, to accomplish a complex task. These pipelines are often managed by an orchestration framework.\n",
            " MESSAGE HISTORY \n",
            "Human: Initial request: Explain multi-agent pipelines and LangGraph.\n",
            "Tool Output (from fallback_search_id): A multi-agent pipeline involves multiple AI agents collaborating sequentially or in parallel to achieve a larger goal, often managed by an orchestration framework.\n",
            "Human: Initial request: Explain multi-agent pipelines and LangGraph.\n",
            "Tool Output (from fallback_search_id): A multi-agent pipeline involves multiple AI agents collaborating sequentially or in parallel to achieve a larger goal, often managed by an orchestration framework.\n",
            "Human: Final Summary: Multi-agent pipelines involve multiple AI agents working together, either sequentially or in parallel, to accomplish a complex task. These pipelines are often managed by an orchestration framework.\n",
            "Human: Initial request: Explain multi-agent pipelines and LangGraph.\n",
            "Tool Output (from fallback_search_id): A multi-agent pipeline involves multiple AI agents collaborating sequentially or in parallel to achieve a larger goal, often managed by an orchestration framework.\n",
            "Human: Initial request: Explain multi-agent pipelines and LangGraph.\n",
            "Tool Output (from fallback_search_id): A multi-agent pipeline involves multiple AI agents collaborating sequentially or in parallel to achieve a larger goal, often managed by an orchestration framework.\n",
            "Human: Final Summary: Multi-agent pipelines involve multiple AI agents working together, either sequentially or in parallel, to accomplish a complex task. These pipelines are often managed by an orchestration framework.\n"
          ]
        }
      ]
    },
    {
      "cell_type": "code",
      "source": [
        "from IPython.display import Image, display\n",
        "from langchain_core.runnables.graph import CurveStyle, MermaidDrawMethod, NodeStyles\n",
        "import nest_asyncio\n",
        "\n",
        "nest_asyncio.apply()\n",
        "\n",
        "try:\n",
        "    display(Image(app.get_graph().draw_mermaid_png(\n",
        "            curve_style=CurveStyle.LINEAR,\n",
        "            node_colors=NodeStyles(first=\"#ffdfba\", last=\"#baffc9\", default=\"#fad7de\"),\n",
        "            wrap_label_n_words=9,\n",
        "            output_file_path=None,\n",
        "            draw_method=MermaidDrawMethod.API,\n",
        "            background_color=\"green\",\n",
        "            padding=10,\n",
        "        )))\n",
        "except Exception:\n",
        "    # This requires some extra dependencies and is optional\n",
        "    pass"
      ],
      "metadata": {
        "colab": {
          "base_uri": "https://localhost:8080/",
          "height": 417
        },
        "id": "1FJGdDfSJifR",
        "outputId": "7e86d2ad-087b-4b71-f992-2fa96c1ea547"
      },
      "execution_count": 38,
      "outputs": [
        {
          "output_type": "display_data",
          "data": {
            "image/png": "[encoded data removed]",
            "text/plain": [
              "<IPython.core.display.Image object>"
            ]
          },
          "metadata": {}
        }
      ]
    }
  ]
}