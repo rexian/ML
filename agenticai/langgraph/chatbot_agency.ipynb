{
  "nbformat": 4,
  "nbformat_minor": 0,
  "metadata": {
    "colab": {
      "provenance": [],
      "include_colab_link": true
    },
    "kernelspec": {
      "name": "python3",
      "display_name": "Python 3"
    },
    "language_info": {
      "name": "python"
    }
  },
  "cells": [
    {
      "cell_type": "markdown",
      "metadata": {
        "id": "view-in-github",
        "colab_type": "text"
      },
      "source": [
        "<a href=\"https://colab.research.google.com/github/rexian/ML/blob/main/agenticai/langgraph/chatbot_agency.ipynb\" target=\"_parent\"><img src=\"https://colab.research.google.com/assets/colab-badge.svg\" alt=\"Open In Colab\"/></a>"
      ]
    },
    {
      "cell_type": "code",
      "execution_count": null,
      "metadata": {
        "id": "308O9bMZ6P_K"
      },
      "outputs": [],
      "source": [
        "%%capture --no-stderr\n",
        "!pip install -U langgraph langsmith langchain_community\n",
        "!pip install langchain-nvidia-ai-endpoints\n",
        "!pip install duckduckgo_search\n",
        "!pip install pyppeteer pygraphviz\n",
        "!pip install nest_asyncio"
      ]
    },
    {
      "cell_type": "code",
      "source": [
        "import getpass\n",
        "import os\n",
        "from langchain_nvidia_ai_endpoints import ChatNVIDIA\n",
        "\n",
        "if not os.environ.get(\"NVIDIA_API_KEY\"):\n",
        "  os.environ[\"NVIDIA_API_KEY\"] = getpass.getpass(\"Enter API key for NVIDIA AI Endpoints: \")\n",
        "llm = ChatNVIDIA(model=\"meta/llama3-70b-instruct\")"
      ],
      "metadata": {
        "colab": {
          "base_uri": "https://localhost:8080/"
        },
        "id": "g62FnPKG7Ya2",
        "outputId": "f73471a2-ea22-473b-947e-91fb9f033eb5"
      },
      "execution_count": null,
      "outputs": [
        {
          "name": "stdout",
          "output_type": "stream",
          "text": [
            "Enter API key for NVIDIA AI Endpoints: ··········\n"
          ]
        }
      ]
    },
    {
      "cell_type": "code",
      "source": [
        "from typing import Annotated\n",
        "\n",
        "from typing_extensions import TypedDict\n",
        "\n",
        "from langgraph.graph import StateGraph, MessagesState, START, END\n",
        "from langgraph.graph.message import add_messages\n",
        "from langgraph.prebuilt import ToolNode, tools_condition\n",
        "\n",
        "\n",
        "class State(TypedDict):\n",
        "    # Messages have the type \"list\". The `add_messages` function\n",
        "    # in the annotation defines how this state key should be updated\n",
        "    # (in this case, it appends messages to the list, rather than overwriting them)\n",
        "    messages: Annotated[list, add_messages]\n",
        "\n",
        "graph_builder = StateGraph(MessagesState)"
      ],
      "metadata": {
        "id": "PbvBELMB-qMR"
      },
      "execution_count": null,
      "outputs": []
    },
    {
      "cell_type": "code",
      "source": [
        "from langchain_community.tools import DuckDuckGoSearchResults\n",
        "from langchain_core.prompts import ChatPromptTemplate\n",
        "from langgraph.prebuilt import create_react_agent\n",
        "from langgraph.checkpoint.memory import MemorySaver\n",
        "\n",
        "memory = MemorySaver()\n",
        "search = DuckDuckGoSearchResults()\n",
        "tools = [search]\n",
        "llm_with_tools = llm.bind_tools(tools)\n",
        "\n",
        "prompt = ChatPromptTemplate.from_messages([\n",
        "     (\"system\", \"You are a helpful chat bot.\"),\n",
        "     (\"placeholder\", \"{messages}\"),\n",
        "     (\"user\", \"Remember, always be polite!\"),\n",
        "])\n",
        "\n",
        "def chatbot(state: State):\n",
        "    return {\"messages\": [llm_with_tools.invoke(state[\"messages\"])]}\n",
        "\n",
        "\n",
        "if \"chatbot\" not in graph_builder.nodes:\n",
        "  graph_builder.add_node(\"chatbot\", chatbot)\n",
        "tool_node = ToolNode(tools=[search])\n",
        "if \"tools\" not in graph_builder.nodes:\n",
        "  graph_builder.add_node(\"tools\", tool_node)\n",
        "\n",
        "if \"chatbot\" not in graph_builder.edges and tools_condition not in graph_builder.branches:\n",
        "  graph_builder.add_conditional_edges(\n",
        "      \"chatbot\",\n",
        "      tools_condition,\n",
        "  )\n",
        "# Any time a tool is called, we return to the chatbot to decide the next step\n",
        "graph_builder.add_edge(\"tools\", \"chatbot\")\n",
        "graph_builder.set_entry_point(\"chatbot\")\n",
        "graph = graph_builder.compile(checkpointer=memory)"
      ],
      "metadata": {
        "id": "PxBdB11S_Ov6"
      },
      "execution_count": null,
      "outputs": []
    },
    {
      "cell_type": "code",
      "source": [
        "from IPython.display import Image, display\n",
        "from langchain_core.runnables.graph import CurveStyle, MermaidDrawMethod, NodeStyles\n",
        "import nest_asyncio\n",
        "\n",
        "nest_asyncio.apply()\n",
        "\n",
        "try:\n",
        "    display(Image(graph.get_graph().draw_mermaid_png(\n",
        "            curve_style=CurveStyle.LINEAR,\n",
        "            node_colors=NodeStyles(first=\"#ffdfba\", last=\"#baffc9\", default=\"#fad7de\"),\n",
        "            wrap_label_n_words=9,\n",
        "            output_file_path=None,\n",
        "            draw_method=MermaidDrawMethod.API,\n",
        "            background_color=\"green\",\n",
        "            padding=10,\n",
        "        )))\n",
        "except Exception:\n",
        "    # This requires some extra dependencies and is optional\n",
        "    pass"
      ],
      "metadata": {
        "colab": {
          "base_uri": "https://localhost:8080/",
          "height": 280
        },
        "id": "L2R5IwcsAexp",
        "outputId": "0eba68b8-7b48-4ebb-ebed-e066d3a04566"
      },
      "execution_count": null,
      "outputs": [
        {
          "output_type": "display_data",
          "data": {
            "image/png": "[encoded data removed]",
            "text/plain": [
              "<IPython.core.display.Image object>"
            ]
          },
          "metadata": {}
        }
      ]
    },
    {
      "cell_type": "code",
      "source": [
        "config = {\"configurable\": {\"thread_id\": 1}}\n",
        "def stream_graph_updates(user_input: str):\n",
        "    for s in graph.stream({\"messages\": [{\"role\": \"user\", \"content\": user_input}]}, config=config, stream_mode=\"values\"):\n",
        "      message = s[\"messages\"][-1]\n",
        "      if isinstance(message, tuple):\n",
        "         print(message)\n",
        "      else:\n",
        "         message.pretty_print()\n",
        "\n",
        "\n",
        "while True:\n",
        "    try:\n",
        "        user_input = input(\"User: \")\n",
        "        if user_input.lower() in [\"quit\", \"exit\", \"q\"]:\n",
        "            print(\"Goodbye!\")\n",
        "            break\n",
        "        stream_graph_updates(user_input)\n",
        "    except:\n",
        "        # fallback if input() is not available\n",
        "        user_input = \"What do you know about LangGraph?\"\n",
        "        print(\"User: \" + user_input)\n",
        "        stream_graph_updates(user_input)\n",
        "        break"
      ],
      "metadata": {
        "id": "ihzYiVCcFbEO"
      },
      "execution_count": null,
      "outputs": []
    }
  ]
}