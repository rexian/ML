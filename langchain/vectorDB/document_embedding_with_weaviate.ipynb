{
  "nbformat": 4,
  "nbformat_minor": 0,
  "metadata": {
    "colab": {
      "provenance": [],
      "authorship_tag": "ABX9TyP45/UDYQ29Ty0xgrvoc4x8",
      "include_colab_link": true
    },
    "kernelspec": {
      "name": "python3",
      "display_name": "Python 3"
    },
    "language_info": {
      "name": "python"
    }
  },
  "cells": [
    {
      "cell_type": "markdown",
      "metadata": {
        "id": "view-in-github",
        "colab_type": "text"
      },
      "source": [
        "<a href=\"https://colab.research.google.com/github/rexian/ML/blob/main/langchain/vectorDB/document_embedding_with_weaviate.ipynb\" target=\"_parent\"><img src=\"https://colab.research.google.com/assets/colab-badge.svg\" alt=\"Open In Colab\"/></a>"
      ]
    },
    {
      "cell_type": "markdown",
      "source": [
        "Weaviate is an open-source, AI-native vector database designed to store both objects and vectors.\n",
        "Key features:\n",
        "\n",
        "\n",
        "*   Vector Search: Combines vector search with structured filtering, allowing for precise and contextual search results.\n",
        "*   Hybrid Search: Merges vector search with keyword search techniques to deliver accurate results across various data modalities.\n",
        "*   Generative AI Integration: Supports Retrieval-Augmented Generation (RAG) to build trustworthy generative AI applications using your own data.\n",
        "*   Customization: Offers flexible schema definition and supports custom modules for integration with popular services and model hubs.\n",
        "*   Scalability: Built with cloud-native architecture, ensuring fault tolerance, scalability, and production-readiness."
      ],
      "metadata": {
        "id": "gyAd7rEaMnei"
      }
    },
    {
      "cell_type": "code",
      "execution_count": null,
      "metadata": {
        "id": "fh_wO16_JruJ"
      },
      "outputs": [],
      "source": [
        "!pip install weaviate-client\n",
        "!pip install langchain\n",
        "!pip install openai"
      ]
    },
    {
      "cell_type": "code",
      "source": [
        "OPENAI_API_KEY = \"\"\n",
        "WEAVIATE_API_KEY = \"\"\n",
        "WEAVIATE_CLUSTER = \"\""
      ],
      "metadata": {
        "id": "mc3KWM5lKAx6"
      },
      "execution_count": null,
      "outputs": []
    },
    {
      "cell_type": "code",
      "source": [
        "!pip install unstructured\n",
        "!pip install \"unstructured[pdf]\""
      ],
      "metadata": {
        "id": "C-KmWXzrKIl8"
      },
      "execution_count": null,
      "outputs": []
    },
    {
      "cell_type": "code",
      "source": [
        "from langchain.document_loaders import DirectoryLoader\n",
        "loader = DirectoryLoader(\"./spaul\",glob = \"**/*.pdf\")\n",
        "data = loader.load()"
      ],
      "metadata": {
        "id": "q1Bbq5OGKPuP"
      },
      "execution_count": null,
      "outputs": []
    },
    {
      "cell_type": "markdown",
      "source": [
        "Split text into chunks"
      ],
      "metadata": {
        "id": "FdezZnzPKXK2"
      }
    },
    {
      "cell_type": "code",
      "source": [
        "from langchain.text_splitter import RecursiveCharacterTextSplitter\n",
        "text_splitter = RecursiveCharacterTextSplitter(chunk_size=1000, chunk_overlap=20)\n",
        "docs = text_splitter.split_documents(data)"
      ],
      "metadata": {
        "id": "m6wRx9oEKSwk"
      },
      "execution_count": null,
      "outputs": []
    },
    {
      "cell_type": "markdown",
      "source": [
        "Create embedding"
      ],
      "metadata": {
        "id": "txxfhstnKhFj"
      }
    },
    {
      "cell_type": "code",
      "source": [
        "from langchain.embeddings.openai import OpenAIEmbeddings\n",
        "embeddings = OpenAIEmbeddings(openai_api_key= OPENAI_API_KEY)"
      ],
      "metadata": {
        "id": "ym3ivur1KbKG"
      },
      "execution_count": null,
      "outputs": []
    },
    {
      "cell_type": "markdown",
      "source": [
        "Create vector database client"
      ],
      "metadata": {
        "id": "TaW0--tiKpSm"
      }
    },
    {
      "cell_type": "code",
      "source": [
        "import weaviate\n",
        "from langchain.vectorstores import Weaviate\n",
        "\n",
        "#Connect to weaviate Cluster\n",
        "auth_config = weaviate.auth.AuthApiKey(api_key = WEAVIATE_API_KEY)\n",
        "WEAVIATE_URL = WEAVIATE_CLUSTER\n",
        "\n",
        "client = weaviate.Client(\n",
        "    url = WEAVIATE_URL,\n",
        "    additional_headers = {\"X-OpenAI-Api-key\": OPENAI_API_KEY},\n",
        "    auth_client_secret = auth_config,\n",
        "    startup_period = 10\n",
        ")"
      ],
      "metadata": {
        "id": "-wy-LVkxKjL-"
      },
      "execution_count": null,
      "outputs": []
    },
    {
      "cell_type": "code",
      "source": [
        "client.is_ready()"
      ],
      "metadata": {
        "id": "xL8yLwBTKy5P"
      },
      "execution_count": null,
      "outputs": []
    },
    {
      "cell_type": "markdown",
      "source": [
        "Define input structure"
      ],
      "metadata": {
        "id": "2_rAm586K7U5"
      }
    },
    {
      "cell_type": "code",
      "source": [
        "client.schema.delete_all()\n",
        "client.schema.get()\n",
        "schema = {\n",
        "    \"classes\": [\n",
        "        {\n",
        "            \"class\": \"Chatbot\",\n",
        "            \"description\": \"Documents for chatbot\",\n",
        "            \"vectorizer\": \"text2vec-openai\",\n",
        "            \"moduleConfig\": {\"text2vec-openai\": {\"model\": \"ada\", \"type\": \"text\"}},\n",
        "            \"properties\": [\n",
        "                {\n",
        "                    \"dataType\": [\"text\"],\n",
        "                    \"description\": \"The content of the paragraph\",\n",
        "                    \"moduleConfig\": {\n",
        "                        \"text2vec-openai\": {\n",
        "                            \"skip\": False,\n",
        "                            \"vectorizePropertyName\": False,\n",
        "                        }\n",
        "                    },\n",
        "                    \"name\": \"content\",\n",
        "                },\n",
        "            ],\n",
        "        },\n",
        "    ]\n",
        "}\n",
        "\n",
        "client.schema.create(schema)\n",
        "vectorstore = Weaviate(client, \"Chatbot\", \"content\", attributes=[\"source\"])"
      ],
      "metadata": {
        "id": "xovd25HlK37s"
      },
      "execution_count": null,
      "outputs": []
    },
    {
      "cell_type": "markdown",
      "source": [
        "Load vector embedding to the vector store"
      ],
      "metadata": {
        "id": "cc1YmyhPLMDC"
      }
    },
    {
      "cell_type": "code",
      "source": [
        "text_meta_pair = [(doc.page_content, doc.metadata) for doc in docs]\n",
        "texts, meta = list(zip(*text_meta_pair))\n",
        "vectorstore.add_texts(texts, meta)"
      ],
      "metadata": {
        "id": "pk4pvIXFLPpR"
      },
      "execution_count": null,
      "outputs": []
    },
    {
      "cell_type": "code",
      "source": [
        "query = \"What is Natural Language Processing?\"\n",
        "# retrieve text related to the query\n",
        "docs = vectorstore.similarity_search(query, top_k=10)"
      ],
      "metadata": {
        "id": "hIksFtH3LW0s"
      },
      "execution_count": null,
      "outputs": []
    },
    {
      "cell_type": "code",
      "source": [
        "from langchain.chains.question_answering import load_qa_chain\n",
        "from langchain.llms import OpenAI"
      ],
      "metadata": {
        "id": "I-3bOxSsLg11"
      },
      "execution_count": null,
      "outputs": []
    },
    {
      "cell_type": "markdown",
      "source": [
        "Define chain"
      ],
      "metadata": {
        "id": "vSivScI9Ll9z"
      }
    },
    {
      "cell_type": "code",
      "source": [
        "chain = load_qa_chain(\n",
        "    OpenAI(openai_api_key = OPENAI_API_KEY,temperature=0),\n",
        "    chain_type=\"stuff\")\n",
        "chain.run(input_documents=docs, question=query)"
      ],
      "metadata": {
        "id": "gBjTKXURLhha"
      },
      "execution_count": null,
      "outputs": []
    }
  ]
}