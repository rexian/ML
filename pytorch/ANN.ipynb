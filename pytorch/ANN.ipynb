{
  "nbformat": 4,
  "nbformat_minor": 0,
  "metadata": {
    "colab": {
      "provenance": [],
      "gpuType": "T4",
      "authorship_tag": "ABX9TyNkpCffIJiyGKzPFEZYFrLZ",
      "include_colab_link": true
    },
    "kernelspec": {
      "name": "python3",
      "display_name": "Python 3"
    },
    "language_info": {
      "name": "python"
    },
    "accelerator": "GPU"
  },
  "cells": [
    {
      "cell_type": "markdown",
      "metadata": {
        "id": "view-in-github",
        "colab_type": "text"
      },
      "source": [
        "<a href=\"https://colab.research.google.com/github/rexian/ML/blob/main/pytorch/ANN.ipynb\" target=\"_parent\"><img src=\"https://colab.research.google.com/assets/colab-badge.svg\" alt=\"Open In Colab\"/></a>"
      ]
    },
    {
      "cell_type": "markdown",
      "source": [
        "Tensors"
      ],
      "metadata": {
        "id": "pNnLVundx778"
      }
    },
    {
      "cell_type": "code",
      "execution_count": null,
      "metadata": {
        "id": "QZuVmbgeqddw"
      },
      "outputs": [],
      "source": [
        "import torch\n",
        "import numpy as np"
      ]
    },
    {
      "cell_type": "code",
      "source": [
        "np1 = np.random.rand(3,4)\n",
        "np1"
      ],
      "metadata": {
        "colab": {
          "base_uri": "https://localhost:8080/"
        },
        "id": "yBBKcrmcxMAa",
        "outputId": "0808d14a-29ca-4b08-a92c-82e0ebf4d230"
      },
      "execution_count": null,
      "outputs": [
        {
          "output_type": "execute_result",
          "data": {
            "text/plain": [
              "array([[0.65727173, 0.31390899, 0.30395187, 0.73049325],\n",
              "       [0.15984294, 0.83121918, 0.18757679, 0.65298281],\n",
              "       [0.91511112, 0.09521331, 0.0380786 , 0.70434974]])"
            ]
          },
          "metadata": {},
          "execution_count": 39
        }
      ]
    },
    {
      "cell_type": "code",
      "source": [
        "tensor_2d = torch.randn(3,4)\n",
        "tensor_2d"
      ],
      "metadata": {
        "colab": {
          "base_uri": "https://localhost:8080/"
        },
        "id": "kqf7zWHcziyi",
        "outputId": "ce2e3541-7b7f-43d5-d01b-33306212699e"
      },
      "execution_count": null,
      "outputs": [
        {
          "output_type": "execute_result",
          "data": {
            "text/plain": [
              "tensor([[-0.0203,  0.1082,  0.9384,  0.4005],\n",
              "        [ 1.0729, -1.7529, -0.9982,  0.1582],\n",
              "        [-1.6172,  0.6904,  0.9998, -2.5733]])"
            ]
          },
          "metadata": {},
          "execution_count": 40
        }
      ]
    },
    {
      "cell_type": "code",
      "source": [
        "tensor_np = torch.from_numpy(np1)\n",
        "tensor_np"
      ],
      "metadata": {
        "colab": {
          "base_uri": "https://localhost:8080/"
        },
        "id": "d4RfRqQj0Bq3",
        "outputId": "a2d17b34-b182-4ba1-d665-584fc4669525"
      },
      "execution_count": null,
      "outputs": [
        {
          "output_type": "execute_result",
          "data": {
            "text/plain": [
              "tensor([[0.6573, 0.3139, 0.3040, 0.7305],\n",
              "        [0.1598, 0.8312, 0.1876, 0.6530],\n",
              "        [0.9151, 0.0952, 0.0381, 0.7043]], dtype=torch.float64)"
            ]
          },
          "metadata": {},
          "execution_count": 41
        }
      ]
    },
    {
      "cell_type": "code",
      "source": [
        "tensor = torch.arange(10)\n",
        "tensor"
      ],
      "metadata": {
        "colab": {
          "base_uri": "https://localhost:8080/"
        },
        "id": "A2Ywg5pP1Jc4",
        "outputId": "7167cfe6-614b-44e2-ecbc-3c2848feedfb"
      },
      "execution_count": null,
      "outputs": [
        {
          "output_type": "execute_result",
          "data": {
            "text/plain": [
              "tensor([0, 1, 2, 3, 4, 5, 6, 7, 8, 9])"
            ]
          },
          "metadata": {},
          "execution_count": 42
        }
      ]
    },
    {
      "cell_type": "code",
      "source": [
        "# Reshape and View\n",
        "t1 = tensor.reshape(2,5)\n",
        "t1"
      ],
      "metadata": {
        "colab": {
          "base_uri": "https://localhost:8080/"
        },
        "id": "opyUejM91O0E",
        "outputId": "2b325003-d20d-4eb1-bb53-d95a952650d2"
      },
      "execution_count": null,
      "outputs": [
        {
          "output_type": "execute_result",
          "data": {
            "text/plain": [
              "tensor([[0, 1, 2, 3, 4],\n",
              "        [5, 6, 7, 8, 9]])"
            ]
          },
          "metadata": {},
          "execution_count": 43
        }
      ]
    },
    {
      "cell_type": "code",
      "source": [
        "t2 = torch.arange(12)\n",
        "t2"
      ],
      "metadata": {
        "colab": {
          "base_uri": "https://localhost:8080/"
        },
        "id": "ybm-6Mud2CLc",
        "outputId": "17d19ffa-6178-44c8-8d4c-11cb48c5b92e"
      },
      "execution_count": null,
      "outputs": [
        {
          "output_type": "execute_result",
          "data": {
            "text/plain": [
              "tensor([ 0,  1,  2,  3,  4,  5,  6,  7,  8,  9, 10, 11])"
            ]
          },
          "metadata": {},
          "execution_count": 44
        }
      ]
    },
    {
      "cell_type": "code",
      "source": [
        "t3 = t2.view(4,3)\n",
        "t3"
      ],
      "metadata": {
        "colab": {
          "base_uri": "https://localhost:8080/"
        },
        "id": "k8eMNmN02Op0",
        "outputId": "ac09bdb5-705f-484b-fd8a-9367dea78827"
      },
      "execution_count": null,
      "outputs": [
        {
          "output_type": "execute_result",
          "data": {
            "text/plain": [
              "tensor([[ 0,  1,  2],\n",
              "        [ 3,  4,  5],\n",
              "        [ 6,  7,  8],\n",
              "        [ 9, 10, 11]])"
            ]
          },
          "metadata": {},
          "execution_count": 45
        }
      ]
    },
    {
      "cell_type": "code",
      "source": [
        "t3[1][2] = 34\n",
        "t3"
      ],
      "metadata": {
        "colab": {
          "base_uri": "https://localhost:8080/"
        },
        "id": "X5q7VcL52lZt",
        "outputId": "24674705-5e3c-4280-f554-93dc45da5aec"
      },
      "execution_count": null,
      "outputs": [
        {
          "output_type": "execute_result",
          "data": {
            "text/plain": [
              "tensor([[ 0,  1,  2],\n",
              "        [ 3,  4, 34],\n",
              "        [ 6,  7,  8],\n",
              "        [ 9, 10, 11]])"
            ]
          },
          "metadata": {},
          "execution_count": 46
        }
      ]
    },
    {
      "cell_type": "code",
      "source": [
        "t3[1][2]"
      ],
      "metadata": {
        "colab": {
          "base_uri": "https://localhost:8080/"
        },
        "id": "5oCfuRqO2ubY",
        "outputId": "2927ec98-b963-4742-94cb-1a80288ca335"
      },
      "execution_count": null,
      "outputs": [
        {
          "output_type": "execute_result",
          "data": {
            "text/plain": [
              "tensor(34)"
            ]
          },
          "metadata": {},
          "execution_count": 47
        }
      ]
    },
    {
      "cell_type": "code",
      "source": [
        "t3[:,1]"
      ],
      "metadata": {
        "colab": {
          "base_uri": "https://localhost:8080/"
        },
        "id": "2oEzLgy43F3o",
        "outputId": "23e36c3b-d395-43aa-bd5d-8e96c33dd851"
      },
      "execution_count": null,
      "outputs": [
        {
          "output_type": "execute_result",
          "data": {
            "text/plain": [
              "tensor([ 1,  4,  7, 10])"
            ]
          },
          "metadata": {},
          "execution_count": 48
        }
      ]
    },
    {
      "cell_type": "code",
      "source": [
        "t3[1, :]"
      ],
      "metadata": {
        "colab": {
          "base_uri": "https://localhost:8080/"
        },
        "id": "NAdum7TG3MPH",
        "outputId": "cf9b986a-613e-42e2-e37d-cd16e66bf0a0"
      },
      "execution_count": null,
      "outputs": [
        {
          "output_type": "execute_result",
          "data": {
            "text/plain": [
              "tensor([ 3,  4, 34])"
            ]
          },
          "metadata": {},
          "execution_count": 49
        }
      ]
    },
    {
      "cell_type": "code",
      "source": [
        "tensor_a = torch.tensor([1,2,3,4,5])\n",
        "tensor_b = torch.tensor([6,7,8,9,10])\n",
        "result = torch.add(tensor_a, tensor_b)\n",
        "result"
      ],
      "metadata": {
        "id": "nxvpfDXrdS72",
        "colab": {
          "base_uri": "https://localhost:8080/"
        },
        "outputId": "6ff47a34-27bb-456b-92a5-846d3bd275d1"
      },
      "execution_count": null,
      "outputs": [
        {
          "output_type": "execute_result",
          "data": {
            "text/plain": [
              "tensor([ 7,  9, 11, 13, 15])"
            ]
          },
          "metadata": {},
          "execution_count": 50
        }
      ]
    },
    {
      "cell_type": "code",
      "source": [
        "result = torch.sub(tensor_b, tensor_a)\n",
        "result"
      ],
      "metadata": {
        "colab": {
          "base_uri": "https://localhost:8080/"
        },
        "id": "KIQmAGCzeIUH",
        "outputId": "87ceb334-ab13-4472-fd23-7c6f8aea37cf"
      },
      "execution_count": null,
      "outputs": [
        {
          "output_type": "execute_result",
          "data": {
            "text/plain": [
              "tensor([5, 5, 5, 5, 5])"
            ]
          },
          "metadata": {},
          "execution_count": 51
        }
      ]
    },
    {
      "cell_type": "code",
      "source": [
        "result = torch.mul(tensor_a, tensor_b)\n",
        "result"
      ],
      "metadata": {
        "colab": {
          "base_uri": "https://localhost:8080/"
        },
        "id": "WIh-8SCKeUeB",
        "outputId": "7f88c5bb-bea7-4bb0-da98-dfa4a3fcbf55"
      },
      "execution_count": null,
      "outputs": [
        {
          "output_type": "execute_result",
          "data": {
            "text/plain": [
              "tensor([ 6, 14, 24, 36, 50])"
            ]
          },
          "metadata": {},
          "execution_count": 52
        }
      ]
    },
    {
      "cell_type": "code",
      "source": [
        "result = torch.div(tensor_b, tensor_a)\n",
        "result"
      ],
      "metadata": {
        "colab": {
          "base_uri": "https://localhost:8080/"
        },
        "id": "nJncGtxIeYxD",
        "outputId": "886434aa-bfff-44c1-9919-3347a695f7ff"
      },
      "execution_count": null,
      "outputs": [
        {
          "output_type": "execute_result",
          "data": {
            "text/plain": [
              "tensor([6.0000, 3.5000, 2.6667, 2.2500, 2.0000])"
            ]
          },
          "metadata": {},
          "execution_count": 53
        }
      ]
    },
    {
      "cell_type": "code",
      "source": [
        "result = torch.remainder(tensor_b, tensor_a)\n",
        "result"
      ],
      "metadata": {
        "colab": {
          "base_uri": "https://localhost:8080/"
        },
        "id": "L4dVJkMBe3bv",
        "outputId": "d171b3c0-05b2-464f-ff9a-fc4105280fb9"
      },
      "execution_count": null,
      "outputs": [
        {
          "output_type": "execute_result",
          "data": {
            "text/plain": [
              "tensor([0, 1, 2, 1, 0])"
            ]
          },
          "metadata": {},
          "execution_count": 54
        }
      ]
    },
    {
      "cell_type": "code",
      "source": [
        "result = torch.pow(tensor_a, tensor_b)\n",
        "result"
      ],
      "metadata": {
        "colab": {
          "base_uri": "https://localhost:8080/"
        },
        "id": "VP6VKTM-fXDs",
        "outputId": "ce83a697-b46b-488c-a644-24f94a9cc87c"
      },
      "execution_count": null,
      "outputs": [
        {
          "output_type": "execute_result",
          "data": {
            "text/plain": [
              "tensor([      1,     128,    6561,  262144, 9765625])"
            ]
          },
          "metadata": {},
          "execution_count": 55
        }
      ]
    },
    {
      "cell_type": "markdown",
      "source": [
        "Neural Network"
      ],
      "metadata": {
        "id": "pq77MnZptGHI"
      }
    },
    {
      "cell_type": "code",
      "source": [
        "import torch\n",
        "import torch.nn as nn\n",
        "import torch.nn.functional as F\n",
        "\n",
        "# Create a Model class that inherits Module\n",
        "class Model(nn.Module):\n",
        "  def __init__(self, in_features=4, h1=8, h2=9, out_features=3):\n",
        "    super().__init__()\n",
        "    self.fc1 = nn.Linear(in_features, h1)\n",
        "    self.fc2 = nn.Linear(h1, h2)\n",
        "    self.out = nn.Linear(h2, out_features)\n",
        "\n",
        "  def forward(self, x):\n",
        "    x = f.relu(self.fc1(x))\n",
        "    x = f.relu(self.fc2(x))\n",
        "    x = self.out(x)\n",
        "    return x"
      ],
      "metadata": {
        "id": "95ot9KBStK-R"
      },
      "execution_count": null,
      "outputs": []
    },
    {
      "cell_type": "code",
      "source": [
        "torch.manual_seed(42)\n",
        "model = Model()"
      ],
      "metadata": {
        "id": "2trfbF1fvzgi"
      },
      "execution_count": null,
      "outputs": []
    },
    {
      "cell_type": "code",
      "source": [
        "import pandas as pd\n",
        "import matplotlib.pyplot as plt\n",
        "%matplotlib inline\n",
        "\n",
        "url = 'https://gist.githubusercontent.com/curran/a08a1080b88344b0c8a7/raw/0e7a9b0a5d22642a06d3d5b9bcbad9890c8ee534/iris.csv'\n",
        "df = pd.read_csv(url)\n"
      ],
      "metadata": {
        "id": "sFartSd4dTDs"
      },
      "execution_count": null,
      "outputs": []
    },
    {
      "cell_type": "code",
      "source": [
        "# Change species column from string to float\n",
        "df['species'] = df['species'].replace({'setosa':0.0, 'versicolor':1.0, 'virginica':2.0})"
      ],
      "metadata": {
        "colab": {
          "base_uri": "https://localhost:8080/"
        },
        "id": "0YstZ0bUeJBh",
        "outputId": "aa1a5293-ee40-401f-8e02-c5ee26bf590f"
      },
      "execution_count": null,
      "outputs": [
        {
          "output_type": "stream",
          "name": "stderr",
          "text": [
            "<ipython-input-59-2ddcb624bd75>:2: FutureWarning: Downcasting behavior in `replace` is deprecated and will be removed in a future version. To retain the old behavior, explicitly call `result.infer_objects(copy=False)`. To opt-in to the future behavior, set `pd.set_option('future.no_silent_downcasting', True)`\n",
            "  df['species'] = df['species'].replace({'setosa':0.0, 'versicolor':1.0, 'virginica':2.0})\n"
          ]
        }
      ]
    },
    {
      "cell_type": "code",
      "source": [
        "# Train test split: Set X, Y\n",
        "X = df.drop('species', axis=1).values\n",
        "y = df['species'].values\n",
        "\n",
        "# Convert these to numpy arrays\n",
        "x = X\n",
        "y = y"
      ],
      "metadata": {
        "id": "-BEm3qEsfieh"
      },
      "execution_count": null,
      "outputs": []
    },
    {
      "cell_type": "code",
      "source": [
        "import torch\n",
        "import torch.nn as nn\n",
        "from sklearn.model_selection import train_test_split\n",
        "X_train, X_test, y_train, y_test = train_test_split(X, y, test_size=0.2, random_state=41)\n",
        "X_train = torch.FloatTensor(X_train)\n",
        "X_test = torch.FloatTensor(X_test)\n",
        "y_train = torch.LongTensor(y_train)\n",
        "y_test = torch.LongTensor(y_test)\n",
        "\n",
        "# Set the criterion of model to measure the error, how far off the prediction from data\n",
        "criterion = nn.CrossEntropyLoss()\n",
        "# Choose Adam optimizer, lr = learning rate (if eror does not go down after a bunch of iteration)\n",
        "optimizer = torch.optim.Adam(model.parameters(), lr=0.01)"
      ],
      "metadata": {
        "id": "A3ZaNSTRhcsc"
      },
      "execution_count": null,
      "outputs": []
    },
    {
      "cell_type": "code",
      "source": [
        "# Train our model\n",
        "# Epochs? (one run thru all the training data in our network)\n",
        "import torch.nn.functional as f\n",
        "epochs = 100\n",
        "losses = []\n",
        "for i in range(epochs):\n",
        "  y_pred = model.forward(X_train)\n",
        "  loss = criterion(y_pred, y_train)\n",
        "\n",
        "  # Keep track of losses\n",
        "  losses.append(loss.detach().numpy())\n",
        "\n",
        "  # Print every 10 epochs\n",
        "  if i % 10 == 0:\n",
        "    print(f'Epoch {i}, loss {loss}')\n",
        "\n",
        "  # Do some back propagation: take the error rate of forward propagation and feed it back thru the network to fine tune the weights\n",
        "  optimizer.zero_grad()\n",
        "  loss.backward()\n",
        "  optimizer.step()"
      ],
      "metadata": {
        "colab": {
          "base_uri": "https://localhost:8080/"
        },
        "id": "1NYyamunkVY1",
        "outputId": "679bbcfb-57aa-4cfe-9b30-049a73257e7f"
      },
      "execution_count": null,
      "outputs": [
        {
          "output_type": "stream",
          "name": "stdout",
          "text": [
            "Epoch 0, loss 1.0935204029083252\n",
            "Epoch 10, loss 0.9156657457351685\n",
            "Epoch 20, loss 0.7562994360923767\n",
            "Epoch 30, loss 0.6108629107475281\n",
            "Epoch 40, loss 0.44145309925079346\n",
            "Epoch 50, loss 0.2723323404788971\n",
            "Epoch 60, loss 0.16078141331672668\n",
            "Epoch 70, loss 0.09846454113721848\n",
            "Epoch 80, loss 0.06856968998908997\n",
            "Epoch 90, loss 0.053720779716968536\n"
          ]
        }
      ]
    },
    {
      "cell_type": "code",
      "source": [
        "# Graph it out\n",
        "\n",
        "plt.plot(range(epochs), losses)\n",
        "plt.ylabel('Loss/error')\n",
        "plt.xlabel('epoch')"
      ],
      "metadata": {
        "colab": {
          "base_uri": "https://localhost:8080/",
          "height": 466
        },
        "id": "z9uY0iqknItv",
        "outputId": "c236904a-8d22-4e66-a2c3-d45bfee990bb"
      },
      "execution_count": null,
      "outputs": [
        {
          "output_type": "execute_result",
          "data": {
            "text/plain": [
              "Text(0.5, 0, 'epoch')"
            ]
          },
          "metadata": {},
          "execution_count": 63
        },
        {
          "output_type": "display_data",
          "data": {
            "text/plain": [
              "<Figure size 640x480 with 1 Axes>"
            ],
            "image/png": "[encoded data removed]"
          },
          "metadata": {}
        }
      ]
    },
    {
      "cell_type": "code",
      "source": [
        "# Evaluate Model on test data set (validate model on test set)\n",
        "with torch.no_grad(): # Turn off back propagation\n",
        "  y_eval = model.forward(X_test) # X_test are features from test data set, y_eval will be predictions\n",
        "  loss = criterion(y_eval, y_test) # Find the loss or error"
      ],
      "metadata": {
        "id": "7KYpgdHaSe-_"
      },
      "execution_count": null,
      "outputs": []
    },
    {
      "cell_type": "code",
      "source": [
        "correct = 0\n",
        "with torch.no_grad():\n",
        "  for i, data in enumerate(X_test):\n",
        "    y_val = model.forward(data)\n",
        "    # Will indicate what type of flower the network thinks it is\n",
        "    print(f'{i+1}. {str(y_val)}')\n",
        "\n",
        "    # Correct or not\n",
        "    if y_val.argmax().item() == y_test[i]:\n",
        "      correct += 1\n",
        "print(f'Correct: {correct}')"
      ],
      "metadata": {
        "colab": {
          "base_uri": "https://localhost:8080/"
        },
        "id": "PeNYZs0vUzNg",
        "outputId": "fa4156f6-ca2a-455a-c18f-e1846856bb94"
      },
      "execution_count": null,
      "outputs": [
        {
          "output_type": "stream",
          "name": "stdout",
          "text": [
            "1. tensor([-4.9014,  3.6766,  6.4883])\n",
            "2. tensor([-7.4458,  2.4418,  9.1490])\n",
            "3. tensor([-7.6378,  3.5400,  9.5076])\n",
            "4. tensor([-1.0001,  6.3459,  2.5383])\n",
            "5. tensor([-6.0028,  3.7181,  7.7264])\n",
            "6. tensor([0.7767, 6.8187, 0.7138])\n",
            "7. tensor([-4.0793,  4.4034,  5.6892])\n",
            "8. tensor([-0.6248,  6.4670,  2.1489])\n",
            "9. tensor([-4.9591,  4.0803,  6.6220])\n",
            "10. tensor([-7.7881,  2.6545,  9.5597])\n",
            "11. tensor([-3.6737,  4.5547,  5.2627])\n",
            "12. tensor([ 7.9123,  2.5814, -6.5529])\n",
            "13. tensor([ 7.1133,  2.2449, -5.8508])\n",
            "14. tensor([1.2906, 5.4687, 0.0467])\n",
            "15. tensor([ 7.0514,  2.8953, -5.7034])\n",
            "16. tensor([-3.4022,  5.0488,  5.0158])\n",
            "17. tensor([ 7.3751,  2.4968, -6.0614])\n",
            "18. tensor([-4.4830,  4.0366,  6.0780])\n",
            "19. tensor([ 7.6580,  2.4743, -6.3294])\n",
            "20. tensor([ 6.4883,  2.3806, -5.2468])\n",
            "21. tensor([1.0048, 6.1252, 0.4048])\n",
            "22. tensor([-6.9013,  3.2458,  8.6608])\n",
            "23. tensor([ 7.2306,  2.7325, -5.8936])\n",
            "24. tensor([ 7.4680,  2.3943, -6.1625])\n",
            "25. tensor([1.3257, 6.0880, 0.0990])\n",
            "26. tensor([0.5316, 6.7756, 0.9375])\n",
            "27. tensor([-1.1439,  6.4320,  2.7148])\n",
            "28. tensor([0.8173, 6.6180, 0.6481])\n",
            "29. tensor([ 7.7827,  2.5268, -6.4391])\n",
            "30. tensor([-1.6038,  5.9694,  3.1536])\n",
            "Correct: 28\n"
          ]
        }
      ]
    },
    {
      "cell_type": "code",
      "source": [
        "new_iris = torch.tensor([5.6, 3.7, 2.2, 0.5])\n",
        "with torch.no_grad():\n",
        "  print(model.forward(new_iris))"
      ],
      "metadata": {
        "colab": {
          "base_uri": "https://localhost:8080/"
        },
        "id": "dXRocfDrY6mi",
        "outputId": "52f82ea4-7664-402c-ec61-085a161a0348"
      },
      "execution_count": null,
      "outputs": [
        {
          "output_type": "stream",
          "name": "stdout",
          "text": [
            "tensor([ 6.9530,  3.5579, -5.5200])\n"
          ]
        }
      ]
    },
    {
      "cell_type": "code",
      "source": [
        "new_iris = torch.tensor([5.6, 4.2, 1.2, 0.5])\n",
        "with torch.no_grad():\n",
        "  print(model.forward(new_iris))"
      ],
      "metadata": {
        "colab": {
          "base_uri": "https://localhost:8080/"
        },
        "id": "GL5daewcZXin",
        "outputId": "cc6085e9-2544-40a5-e5af-8a6e1a296210"
      },
      "execution_count": null,
      "outputs": [
        {
          "output_type": "stream",
          "name": "stdout",
          "text": [
            "tensor([ 8.5487,  2.8494, -7.1122])\n"
          ]
        }
      ]
    },
    {
      "cell_type": "code",
      "source": [
        "# Save and load NN model\n",
        "torch.save(model.state_dict(), 'iris_model.pt')\n"
      ],
      "metadata": {
        "id": "AqH6uN2uZ0HJ"
      },
      "execution_count": null,
      "outputs": []
    },
    {
      "cell_type": "code",
      "source": [
        "new_model = Model()\n",
        "new_model.load_state_dict(torch.load('iris_model.pt', weights_only=True))\n",
        "new_model.eval()"
      ],
      "metadata": {
        "colab": {
          "base_uri": "https://localhost:8080/"
        },
        "id": "oCcmnjvjaRHP",
        "outputId": "4fc99d8e-ca6f-4688-f6fc-bbc709fe1990"
      },
      "execution_count": null,
      "outputs": [
        {
          "output_type": "execute_result",
          "data": {
            "text/plain": [
              "Model(\n",
              "  (fc1): Linear(in_features=4, out_features=8, bias=True)\n",
              "  (fc2): Linear(in_features=8, out_features=9, bias=True)\n",
              "  (out): Linear(in_features=9, out_features=3, bias=True)\n",
              ")"
            ]
          },
          "metadata": {},
          "execution_count": 79
        }
      ]
    },
    {
      "cell_type": "code",
      "source": [
        "# Convolutional NN\n"
      ],
      "metadata": {
        "id": "o-nRI0b2ajh3"
      },
      "execution_count": null,
      "outputs": []
    }
  ]
}