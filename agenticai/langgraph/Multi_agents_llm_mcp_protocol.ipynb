{
  "nbformat": 4,
  "nbformat_minor": 0,
  "metadata": {
    "colab": {
      "provenance": [],
      "authorship_tag": "ABX9TyPAYpOLF06kTY0QGbDZczEj",
      "include_colab_link": true
    },
    "kernelspec": {
      "name": "python3",
      "display_name": "Python 3"
    },
    "language_info": {
      "name": "python"
    }
  },
  "cells": [
    {
      "cell_type": "markdown",
      "metadata": {
        "id": "view-in-github",
        "colab_type": "text"
      },
      "source": [
        "<a href=\"https://colab.research.google.com/github/rexian/ML/blob/main/agenticai/langgraph/Multi_agents_llm_mcp_protocol.ipynb\" target=\"_parent\"><img src=\"https://colab.research.google.com/assets/colab-badge.svg\" alt=\"Open In Colab\"/></a>"
      ]
    },
    {
      "cell_type": "markdown",
      "source": [
        "### The notebook contains a multi-agents LLM pipeline\n",
        "### The pipeline contains 2 agents:\n",
        "* Research Agent: The agent uses MCP protocol to search web using an external tool - Duckduckgo\n",
        "* Summarizer Agent: The agent summarizes the search result and generate the final summary"
      ],
      "metadata": {
        "id": "etXkA6abyiz_"
      }
    },
    {
      "cell_type": "code",
      "source": [
        "!pip install -q -U langgraph langchain_google_genai duckduckgo-mcp mcp-use fastmcp"
      ],
      "metadata": {
        "id": "J2Tg7aQ275Sd"
      },
      "execution_count": 42,
      "outputs": []
    },
    {
      "cell_type": "markdown",
      "source": [
        "# MCP server configuration for Duckduckgo search"
      ],
      "metadata": {
        "id": "81UQI8w6ZGyY"
      }
    },
    {
      "cell_type": "code",
      "source": [
        "!pip install --upgrade duckduckgo-mcp"
      ],
      "metadata": {
        "id": "a1e1iib2pV4y"
      },
      "execution_count": null,
      "outputs": []
    },
    {
      "cell_type": "code",
      "source": [
        "!duckduckgo-mcp serve"
      ],
      "metadata": {
        "colab": {
          "base_uri": "https://localhost:8080/"
        },
        "id": "shOEI0XFZc2X",
        "outputId": "6f6a9fc3-2a7a-4d58-ba73-cb629740ddd8"
      },
      "execution_count": 46,
      "outputs": [
        {
          "output_type": "stream",
          "name": "stdout",
          "text": [
            "2025-06-05 06:03:21,476 - root - INFO - Starting DuckDuckGo MCP Server v1.2 (STDIO transport)\n",
            "2025-06-05 06:03:21,476 - root - INFO - Press Ctrl+C to stop the server\n",
            "\u001b[2;36m[06/05/25 06:03:21]\u001b[0m\u001b[2;36m \u001b[0m\u001b[34mINFO    \u001b[0m Starting MCP server \u001b[32m'duckduckgo_mcp'\u001b[0m  \u001b]8;id=651843;file:///usr/local/lib/python3.11/dist-packages/fastmcp/server/server.py\u001b\\\u001b[2mserver.py\u001b[0m\u001b]8;;\u001b\\\u001b[2m:\u001b[0m\u001b]8;id=122218;file:///usr/local/lib/python3.11/dist-packages/fastmcp/server/server.py#797\u001b\\\u001b[2m797\u001b[0m\u001b]8;;\u001b\\\n",
            "\u001b[2;36m                    \u001b[0m         with transport \u001b[32m'stdio'\u001b[0m                \u001b[2m             \u001b[0m\n",
            "2025-06-05 06:03:21,496 - FastMCP.fastmcp.server.server - INFO - Starting MCP server 'duckduckgo_mcp' with transport 'stdio'\n",
            "2025-06-05 06:03:34,601 - root - INFO - Server stopped by user\n",
            "Exception ignored in: <module 'threading' from '/usr/lib/python3.11/threading.py'>\n",
            "Traceback (most recent call last):\n",
            "  File \"/usr/lib/python3.11/threading.py\", line 1590, in _shutdown\n",
            "^C\n"
          ]
        }
      ]
    },
    {
      "cell_type": "code",
      "source": [
        "!duckduckgo-mcp search \"What is A2A protocol\" --max-results 5"
      ],
      "metadata": {
        "colab": {
          "base_uri": "https://localhost:8080/"
        },
        "id": "1H65QTjoZm7N",
        "outputId": "745117d3-7ac3-4859-fa53-58435fd47f0e"
      },
      "execution_count": 47,
      "outputs": [
        {
          "output_type": "stream",
          "name": "stdout",
          "text": [
            "2025-06-05 06:03:45,133 - primp - INFO - response: https://html.duckduckgo.com/html 200\n",
            "[\n",
            "  {\n",
            "    \"title\": \"A2A Protocol - Agent-to-Agent Communication\",\n",
            "    \"url\": \"https://a2aprotocol.ai/\",\n",
            "    \"snippet\": \"A2A Protocol is an open standard that enables AI agents to communicate and collaborate across different platforms and frameworks, regardless of their underlying technologies. It's designed to maximize the benefits of agentic AI by enabling true multi-agent scenarios.\"\n",
            "  },\n",
            "  {\n",
            "    \"title\": \"What is The Agent2Agent Protocol (A2A) and Why You Must Learn It Now\",\n",
            "    \"url\": \"https://huggingface.co/blog/lynn-mikami/agent2agent\",\n",
            "    \"snippet\": \"The A2A protocol addresses these challenges by defining a standard set of rules and message formats for inter-agent communication. It acts as an abstraction layer, hiding the underlying implementation details of individual agents. Key Principles of A2A: Openness: A2A is an open protocol, fostering collaboration and preventing vendor lock-in ...\"\n",
            "  },\n",
            "  {\n",
            "    \"title\": \"Agent2Agent (A2A): Definition, Examples, MCP Comparison\",\n",
            "    \"url\": \"https://www.datacamp.com/blog/a2a-agent2agent\",\n",
            "    \"snippet\": \"A2A is an open, vendor-neutral protocol developed by Google to standardize collaboration among AI agents across different systems. In this tutorial, I'll guide you through understanding how A2A works, its design principles, and how it can power real-world, multi-agent workflows across domains, and how different it is from MCP.\"\n",
            "  },\n",
            "  {\n",
            "    \"title\": \"What Is the A2A (Agent2Agent) Protocol and How It Works\",\n",
            "    \"url\": \"https://www.descope.com/learn/post/a2a\",\n",
            "    \"snippet\": \"A2A Server: An agent that exposes HTTP endpoints that use the A2A protocol. This is the \\\"remote agent\\\" in A2A, which receives requests from the client agent and handles tasks. Servers advertise their capabilities via Agent Cards. A2A Client: The app or AI system that consumes A2A services. The client constructs tasks and distributes them to ...\"\n",
            "  },\n",
            "  {\n",
            "    \"title\": \"Google Agent-to-Agent (A2A) Protocol Explained - Medium\",\n",
            "    \"url\": \"https://medium.com/@shamim_ru/google-agent-to-agent-a2a-protocol-explained-with-real-working-examples-99e362b61ba8\",\n",
            "    \"snippet\": \"Google's Agent-to-Agent (A2A) protocol is an open specification that allows AI agents to: Expose capabilities (like \\\"get weather\\\" or \\\"search the web\\\"),\"\n",
            "  }\n",
            "]\n"
          ]
        }
      ]
    },
    {
      "cell_type": "code",
      "source": [
        "import os\n",
        "import getpass\n",
        "import functools\n",
        "import operator\n",
        "from typing import TypedDict, Annotated, List\n",
        "\n",
        "from langchain_google_genai import ChatGoogleGenerativeAI\n",
        "from langchain_core.messages import HumanMessage, ToolMessage\n",
        "from langchain_core.tools import Tool\n",
        "from langgraph.graph import StateGraph, END"
      ],
      "metadata": {
        "id": "9Fo7MTdafEzU"
      },
      "execution_count": 64,
      "outputs": []
    },
    {
      "cell_type": "code",
      "source": [
        "if not os.environ.get(\"GOOGLE_API_KEY\"):\n",
        "  os.environ[\"GOOGLE_API_KEY\"] = getpass.getpass(\"Enter API key for GOOGLE AI Endpoints: \")"
      ],
      "metadata": {
        "id": "E33JRkYyttm_"
      },
      "execution_count": 65,
      "outputs": []
    },
    {
      "cell_type": "code",
      "source": [
        "llm = ChatGoogleGenerativeAI(model=\"gemini-2.0-flash\", temperature=0)"
      ],
      "metadata": {
        "id": "g_RUtRmBe-o_"
      },
      "execution_count": 69,
      "outputs": []
    },
    {
      "cell_type": "markdown",
      "source": [
        "# MCP Client application for Duckduckgo search"
      ],
      "metadata": {
        "id": "5KvwVfZmxgl_"
      }
    },
    {
      "cell_type": "code",
      "source": [
        "from fastmcp import FastMCP\n",
        "from duckduckgo_mcp import duckduckgo_search\n",
        "mcp = FastMCP(name=\"DuckDuckGoServer\")\n",
        "\n",
        "@mcp.tool()\n",
        "def search(query: str, max_results: int = 5) -> list:\n",
        "    \"\"\"Search DuckDuckGo for the given query.\"\"\"\n",
        "    return duckduckgo_search(query, max_results)\n",
        "result = search('Compare A2A with mcp protocol', 3)\n",
        "print(result)"
      ],
      "metadata": {
        "colab": {
          "base_uri": "https://localhost:8080/"
        },
        "id": "t4Nf36uOcbAa",
        "outputId": "3c79726d-8d07-481f-b323-0131632d7954"
      },
      "execution_count": 70,
      "outputs": [
        {
          "output_type": "stream",
          "name": "stdout",
          "text": [
            "[{'title': 'A2A vs MCP: Compare AI Agent Communication Protocols', 'url': 'https://a2a-mcp.org/', 'snippet': 'A2A vs MCP: AI Protocol Evolution Shaping the Future of AI Agent Collaboration. AI is moving towards an ecosystem of tools and agents that reason, delegate, and collaborate. In an era where protocols become the new battleground, A2A and MCP emerge, attempting to establish standards for two key aspects of agent interaction.'}, {'title': 'MCP vs A2A: Comprehensive Comparison of AI Agent Protocols', 'url': 'https://medium.com/@neo-cruz/mcp-vs-a2a-comprehensive-comparison-of-ai-agent-protocols-862a969bac47', 'snippet': \"Origin and Development. Google introduced A2A with an emphasis on creating a standard for interoperable, multi-agent systems. The timing of A2A's release shortly after OpenAI's adoption of MCP ...\"}, {'title': 'A2A vs MCP: The Protocol Revolution in AI Architecture | A2A Protocol ...', 'url': 'https://a2aprotocol.ai/docs/guide/a2a-vs-mcp.html', 'snippet': 'The A2A vs MCP comparison is crucial for understanding the future of AI development. The Fundamental Distinction: Tools vs Agents MCP (Model Context Protocol) is essentially a protocol for tool access. It defines a standard way for large language models to interact with various tools, data, and resources.'}]\n"
          ]
        }
      ]
    },
    {
      "cell_type": "code",
      "source": [
        "@mcp.tool()\n",
        "def google_search(query: str, max_results: int = 3) -> str:\n",
        "    \"\"\"\n",
        "    A web search and returns a predefined response based on the query.\n",
        "    \"\"\"\n",
        "    print(f\"Search for: '{query}'...\")\n",
        "    result = []\n",
        "    for res in duckduckgo_search(query, max_results):\n",
        "      result.append(res['snippet'])\n",
        "    return ''.join(result)"
      ],
      "metadata": {
        "colab": {
          "base_uri": "https://localhost:8080/",
          "height": 50
        },
        "id": "vG_U6WzE-y-I",
        "outputId": "ecc9ce5f-155b-400f-dd37-50b351f0a6eb"
      },
      "execution_count": 81,
      "outputs": [
        {
          "output_type": "display_data",
          "data": {
            "text/plain": [
              "\u001b[2;36m[06/05/25 06:21:22]\u001b[0m\u001b[2;36m \u001b[0m\u001b[33mWARNING \u001b[0m Tool already exists: google_search                                  \u001b]8;id=212822;file:///usr/local/lib/python3.11/dist-packages/fastmcp/tools/tool_manager.py\u001b\\\u001b[2mtool_manager.py\u001b[0m\u001b]8;;\u001b\\\u001b[2m:\u001b[0m\u001b]8;id=151878;file:///usr/local/lib/python3.11/dist-packages/fastmcp/tools/tool_manager.py#89\u001b\\\u001b[2m89\u001b[0m\u001b]8;;\u001b\\\n"
            ],
            "text/html": [
              "<pre style=\"white-space:pre;overflow-x:auto;line-height:normal;font-family:Menlo,'DejaVu Sans Mono',consolas,'Courier New',monospace\"><span style=\"color: #7fbfbf; text-decoration-color: #7fbfbf\">[06/05/25 06:21:22] </span><span style=\"color: #808000; text-decoration-color: #808000\">WARNING </span> Tool already exists: google_search                                  <a href=\"file:///usr/local/lib/python3.11/dist-packages/fastmcp/tools/tool_manager.py\" target=\"_blank\"><span style=\"color: #7f7f7f; text-decoration-color: #7f7f7f\">tool_manager.py</span></a><span style=\"color: #7f7f7f; text-decoration-color: #7f7f7f\">:</span><a href=\"file:///usr/local/lib/python3.11/dist-packages/fastmcp/tools/tool_manager.py#89\" target=\"_blank\"><span style=\"color: #7f7f7f; text-decoration-color: #7f7f7f\">89</span></a>\n",
              "</pre>\n"
            ]
          },
          "metadata": {}
        },
        {
          "output_type": "stream",
          "name": "stderr",
          "text": [
            "WARNING:FastMCP.fastmcp.tools.tool_manager:Tool already exists: google_search\n"
          ]
        }
      ]
    },
    {
      "cell_type": "code",
      "source": [
        "search_tool = Tool(\n",
        "    name=\"search\",\n",
        "    func=google_search,\n",
        "    description=\"Google searching information on the internet about AI, LangGraph, or multi-agent systems.\"\n",
        ")\n",
        "llm_with_tools = llm.bind_tools([search_tool])"
      ],
      "metadata": {
        "id": "RZhUnf7P_BjB"
      },
      "execution_count": 83,
      "outputs": []
    },
    {
      "cell_type": "code",
      "source": [
        "class AgentState(TypedDict):\n",
        "    query: str\n",
        "    research_results: Annotated[List[str], operator.add]\n",
        "    summary: str\n",
        "    messages: Annotated[List[HumanMessage | ToolMessage], operator.add]"
      ],
      "metadata": {
        "id": "ZeZqjM3P_Mdh"
      },
      "execution_count": 84,
      "outputs": []
    },
    {
      "cell_type": "code",
      "source": [
        "def researcher_node(state: AgentState) -> AgentState:\n",
        "    \"\"\"\n",
        "    The Researcher agent node.\n",
        "    \"\"\"\n",
        "    print(\" RESEARCHER AGENT \")\n",
        "    current_query = state[\"query\"]\n",
        "    messages = state[\"messages\"]\n",
        "\n",
        "    if not state[\"research_results\"]:\n",
        "        llm_response = llm_with_tools.invoke(\n",
        "            messages + [HumanMessage(content=f\"Based on the main query '{current_query}', what specific information should I search for to gather relevant details?\")]\n",
        "        )\n",
        "\n",
        "        tool_calls = llm_response.tool_calls\n",
        "\n",
        "        if tool_calls and tool_calls[0].name == \"search\":\n",
        "            search_term = tool_calls[0].args.get(\"query\", current_query)\n",
        "            print(f\"Researcher found a search tool call: {search_term}\")\n",
        "            tool_output = search_tool.invoke({\"query\": search_term})\n",
        "            messages.append(ToolMessage(tool_output, tool_call_id=tool_calls[0].id))\n",
        "            state[\"research_results\"].append(tool_output)\n",
        "            print(f\"Research results added: {tool_output[:50]}...\")\n",
        "        else:\n",
        "            tool_output = search_tool.invoke({\"query\": current_query})\n",
        "            messages.append(ToolMessage(tool_output, tool_call_id=\"fallback_search_id\"))\n",
        "            state[\"research_results\"].append(tool_output)\n",
        "            print(f\"Research results added (fallback): {tool_output[:50]}...\")\n",
        "\n",
        "    else:\n",
        "        print(\"Research already performed. Moving to next stage.\")\n",
        "    return {\"research_results\": state[\"research_results\"], \"messages\": messages}"
      ],
      "metadata": {
        "id": "HLVdto82_Oqo"
      },
      "execution_count": 85,
      "outputs": []
    },
    {
      "cell_type": "code",
      "source": [
        "def summarizer_node(state: AgentState) -> AgentState:\n",
        "    \"\"\"\n",
        "    The Summarizer agent node.\n",
        "    \"\"\"\n",
        "    print(\" SUMMARIZER AGENT \")\n",
        "    all_research_results = \"\\n\\n\".join(state[\"research_results\"])\n",
        "    messages = state[\"messages\"]\n",
        "\n",
        "    if not all_research_results:\n",
        "        summary = \"No research results available to summarize.\"\n",
        "        print(summary)\n",
        "    else:\n",
        "        summary_prompt = (\n",
        "            f\"Please provide a concise summary of the following information. \"\n",
        "            f\"Focus on key concepts related to multi-agent pipelines and LangGraph:\\n\\n\"\n",
        "            f\"{all_research_results}\"\n",
        "        )\n",
        "\n",
        "        summary_response = llm.invoke(messages + [HumanMessage(content=summary_prompt)])\n",
        "        summary = summary_response.content\n",
        "        print(f\"Generated summary: {summary[:100]}...\") # Print a snippet\n",
        "\n",
        "    state[\"summary\"] = summary\n",
        "    messages.append(HumanMessage(content=f\"Final Summary: {summary}\"))\n",
        "    return {\"summary\": summary, \"messages\": messages}"
      ],
      "metadata": {
        "id": "AisUaoSF_SML"
      },
      "execution_count": 86,
      "outputs": []
    },
    {
      "cell_type": "code",
      "source": [
        "def should_continue(state: AgentState) -> str:\n",
        "    \"\"\"\n",
        "    Determines whether the pipeline should continue with research or proceed to summarization.\n",
        "    \"\"\"\n",
        "    print(\" DECIDING NEXT STEP \")\n",
        "    if state[\"research_results\"]:\n",
        "        print(\"Research results found. Proceeding to summarize.\")\n",
        "        return \"summarize\"\n",
        "    else:\n",
        "        return \"research\""
      ],
      "metadata": {
        "id": "xKFe3JXv_VXV"
      },
      "execution_count": 87,
      "outputs": []
    },
    {
      "cell_type": "code",
      "source": [
        "# Initialize the StateGraph with the defined AgentState\n",
        "workflow = StateGraph(AgentState)\n",
        "\n",
        "# Add the nodes to the workflow\n",
        "workflow.add_node(\"researcher\", researcher_node)\n",
        "workflow.add_node(\"summarizer\", summarizer_node)\n",
        "\n",
        "# Set the entry point for the graph\n",
        "workflow.set_entry_point(\"researcher\")\n",
        "\n",
        "workflow.add_conditional_edges(\n",
        "    \"researcher\",\n",
        "    should_continue,\n",
        "    {\n",
        "        \"research\": \"researcher\",\n",
        "        \"summarize\": \"summarizer\",\n",
        "    },\n",
        ")\n",
        "\n",
        "workflow.add_edge(\"summarizer\", END)\n",
        "app = workflow.compile()\n",
        "\n",
        "# Run the Pipeline\n",
        "\n",
        "# Define the initial input for the pipeline\n",
        "initial_inputs = {\n",
        "    \"query\": \"Compare A2A with mcp protocol\",\n",
        "    \"research_results\": [],\n",
        "    \"summary\": \"\",\n",
        "    \"messages\": [HumanMessage(content=\"Initial request: Compare A2A with mcp protocol\")]\n",
        "}\n",
        "\n",
        "print(\" STARTING MULTI-AGENT PIPELINE \")\n",
        "final_state = app.invoke(initial_inputs)\n",
        "\n",
        "print(\" PIPELINE EXECUTION COMPLETE \")\n",
        "print(\" FINAL STATE \")\n",
        "print(f\"Original Query: {final_state['query']}\")\n",
        "print(f\"Accumulated Research Results: {final_state['research_results']}\")\n",
        "print(f\"Final Summary: {final_state['summary']}\")\n",
        "print(\" MESSAGE HISTORY \")\n",
        "for msg in final_state['messages']:\n",
        "    if isinstance(msg, HumanMessage):\n",
        "        print(f\"Human: {msg.content}\")\n",
        "    elif isinstance(msg, ToolMessage):\n",
        "        print(f\"Tool Output (from {msg.tool_call_id}): {msg.content}\")\n",
        "    else:\n",
        "        print(f\"Other Message: {msg}\")"
      ],
      "metadata": {
        "colab": {
          "base_uri": "https://localhost:8080/"
        },
        "id": "FGKdRd23_Zoi",
        "outputId": "5759356f-ce1f-417b-aa82-c9a8755c6106"
      },
      "execution_count": 88,
      "outputs": [
        {
          "output_type": "stream",
          "name": "stdout",
          "text": [
            " STARTING MULTI-AGENT PIPELINE \n",
            " RESEARCHER AGENT \n",
            "Search for: 'Compare A2A with mcp protocol'...\n",
            "Research results added (fallback): A2A vs MCP: AI Protocol Evolution Shaping the Futu...\n",
            " DECIDING NEXT STEP \n",
            "Research results found. Proceeding to summarize.\n",
            " SUMMARIZER AGENT \n",
            "Generated summary: A2A and MCP are emerging protocols aiming to standardize AI agent interaction. **MCP (Model Context ...\n",
            " PIPELINE EXECUTION COMPLETE \n",
            " FINAL STATE \n",
            "Original Query: Compare A2A with mcp protocol\n",
            "Accumulated Research Results: [\"A2A vs MCP: AI Protocol Evolution Shaping the Future of AI Agent Collaboration. AI is moving towards an ecosystem of tools and agents that reason, delegate, and collaborate. In an era where protocols become the new battleground, A2A and MCP emerge, attempting to establish standards for two key aspects of agent interaction.Origin and Development. Google introduced A2A with an emphasis on creating a standard for interoperable, multi-agent systems. The timing of A2A's release shortly after OpenAI's adoption of MCP ...The A2A vs MCP comparison is crucial for understanding the future of AI development. The Fundamental Distinction: Tools vs Agents MCP (Model Context Protocol) is essentially a protocol for tool access. It defines a standard way for large language models to interact with various tools, data, and resources.\", \"A2A vs MCP: AI Protocol Evolution Shaping the Future of AI Agent Collaboration. AI is moving towards an ecosystem of tools and agents that reason, delegate, and collaborate. In an era where protocols become the new battleground, A2A and MCP emerge, attempting to establish standards for two key aspects of agent interaction.Origin and Development. Google introduced A2A with an emphasis on creating a standard for interoperable, multi-agent systems. The timing of A2A's release shortly after OpenAI's adoption of MCP ...The A2A vs MCP comparison is crucial for understanding the future of AI development. The Fundamental Distinction: Tools vs Agents MCP (Model Context Protocol) is essentially a protocol for tool access. It defines a standard way for large language models to interact with various tools, data, and resources.\"]\n",
            "Final Summary: A2A and MCP are emerging protocols aiming to standardize AI agent interaction. **MCP (Model Context Protocol) focuses on standardizing tool access for LLMs**, defining how they interact with external tools and data. **A2A (Agent-to-Agent) aims to create a standard for interoperable, multi-agent systems**, enabling agents to reason, delegate, and collaborate effectively. The key distinction is that MCP is about tool interaction, while A2A is about agent interaction.\n",
            " MESSAGE HISTORY \n",
            "Human: Initial request: Compare A2A with mcp protocol\n",
            "Tool Output (from fallback_search_id): A2A vs MCP: AI Protocol Evolution Shaping the Future of AI Agent Collaboration. AI is moving towards an ecosystem of tools and agents that reason, delegate, and collaborate. In an era where protocols become the new battleground, A2A and MCP emerge, attempting to establish standards for two key aspects of agent interaction.Origin and Development. Google introduced A2A with an emphasis on creating a standard for interoperable, multi-agent systems. The timing of A2A's release shortly after OpenAI's adoption of MCP ...The A2A vs MCP comparison is crucial for understanding the future of AI development. The Fundamental Distinction: Tools vs Agents MCP (Model Context Protocol) is essentially a protocol for tool access. It defines a standard way for large language models to interact with various tools, data, and resources.\n",
            "Human: Initial request: Compare A2A with mcp protocol\n",
            "Tool Output (from fallback_search_id): A2A vs MCP: AI Protocol Evolution Shaping the Future of AI Agent Collaboration. AI is moving towards an ecosystem of tools and agents that reason, delegate, and collaborate. In an era where protocols become the new battleground, A2A and MCP emerge, attempting to establish standards for two key aspects of agent interaction.Origin and Development. Google introduced A2A with an emphasis on creating a standard for interoperable, multi-agent systems. The timing of A2A's release shortly after OpenAI's adoption of MCP ...The A2A vs MCP comparison is crucial for understanding the future of AI development. The Fundamental Distinction: Tools vs Agents MCP (Model Context Protocol) is essentially a protocol for tool access. It defines a standard way for large language models to interact with various tools, data, and resources.\n",
            "Human: Final Summary: A2A and MCP are emerging protocols aiming to standardize AI agent interaction. **MCP (Model Context Protocol) focuses on standardizing tool access for LLMs**, defining how they interact with external tools and data. **A2A (Agent-to-Agent) aims to create a standard for interoperable, multi-agent systems**, enabling agents to reason, delegate, and collaborate effectively. The key distinction is that MCP is about tool interaction, while A2A is about agent interaction.\n",
            "Human: Initial request: Compare A2A with mcp protocol\n",
            "Tool Output (from fallback_search_id): A2A vs MCP: AI Protocol Evolution Shaping the Future of AI Agent Collaboration. AI is moving towards an ecosystem of tools and agents that reason, delegate, and collaborate. In an era where protocols become the new battleground, A2A and MCP emerge, attempting to establish standards for two key aspects of agent interaction.Origin and Development. Google introduced A2A with an emphasis on creating a standard for interoperable, multi-agent systems. The timing of A2A's release shortly after OpenAI's adoption of MCP ...The A2A vs MCP comparison is crucial for understanding the future of AI development. The Fundamental Distinction: Tools vs Agents MCP (Model Context Protocol) is essentially a protocol for tool access. It defines a standard way for large language models to interact with various tools, data, and resources.\n",
            "Human: Initial request: Compare A2A with mcp protocol\n",
            "Tool Output (from fallback_search_id): A2A vs MCP: AI Protocol Evolution Shaping the Future of AI Agent Collaboration. AI is moving towards an ecosystem of tools and agents that reason, delegate, and collaborate. In an era where protocols become the new battleground, A2A and MCP emerge, attempting to establish standards for two key aspects of agent interaction.Origin and Development. Google introduced A2A with an emphasis on creating a standard for interoperable, multi-agent systems. The timing of A2A's release shortly after OpenAI's adoption of MCP ...The A2A vs MCP comparison is crucial for understanding the future of AI development. The Fundamental Distinction: Tools vs Agents MCP (Model Context Protocol) is essentially a protocol for tool access. It defines a standard way for large language models to interact with various tools, data, and resources.\n",
            "Human: Final Summary: A2A and MCP are emerging protocols aiming to standardize AI agent interaction. **MCP (Model Context Protocol) focuses on standardizing tool access for LLMs**, defining how they interact with external tools and data. **A2A (Agent-to-Agent) aims to create a standard for interoperable, multi-agent systems**, enabling agents to reason, delegate, and collaborate effectively. The key distinction is that MCP is about tool interaction, while A2A is about agent interaction.\n"
          ]
        }
      ]
    },
    {
      "cell_type": "code",
      "source": [
        "from IPython.display import Image, display\n",
        "from langchain_core.runnables.graph import CurveStyle, MermaidDrawMethod, NodeStyles\n",
        "import nest_asyncio\n",
        "\n",
        "nest_asyncio.apply()\n",
        "\n",
        "try:\n",
        "    display(Image(app.get_graph().draw_mermaid_png(\n",
        "            curve_style=CurveStyle.LINEAR,\n",
        "            node_colors=NodeStyles(first=\"#ffdfba\", last=\"#baffc9\", default=\"#fad7de\"),\n",
        "            wrap_label_n_words=9,\n",
        "            output_file_path=None,\n",
        "            draw_method=MermaidDrawMethod.API,\n",
        "            background_color=\"grey\",\n",
        "            padding=10,\n",
        "        )))\n",
        "except Exception:\n",
        "    pass"
      ],
      "metadata": {
        "colab": {
          "base_uri": "https://localhost:8080/",
          "height": 417
        },
        "id": "1FJGdDfSJifR",
        "outputId": "5c7e8c14-8b9b-4452-8180-3716c47c362d"
      },
      "execution_count": 89,
      "outputs": [
        {
          "output_type": "display_data",
          "data": {
            "image/png": "[encoded data removed]",
            "text/plain": [
              "<IPython.core.display.Image object>"
            ]
          },
          "metadata": {}
        }
      ]
    }
  ]
}