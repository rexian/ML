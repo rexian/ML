{
  "nbformat": 4,
  "nbformat_minor": 0,
  "metadata": {
    "colab": {
      "provenance": [],
      "authorship_tag": "ABX9TyMvBAKC9DtuKUmHqjGcwBGn",
      "include_colab_link": true
    },
    "kernelspec": {
      "name": "python3",
      "display_name": "Python 3"
    },
    "language_info": {
      "name": "python"
    }
  },
  "cells": [
    {
      "cell_type": "markdown",
      "metadata": {
        "id": "view-in-github",
        "colab_type": "text"
      },
      "source": [
        "<a href=\"https://colab.research.google.com/github/rexian/ML/blob/main/agenticai/crewai/automate_event_planning.ipynb\" target=\"_parent\"><img src=\"https://colab.research.google.com/assets/colab-badge.svg\" alt=\"Open In Colab\"/></a>"
      ]
    },
    {
      "cell_type": "markdown",
      "source": [
        "### Key Elements of Tools:\n",
        "* Versatility\n",
        "* Fault Tolerance\n",
        "* Caching"
      ],
      "metadata": {
        "id": "gefviXAwHCHn"
      }
    },
    {
      "cell_type": "code",
      "execution_count": 1,
      "metadata": {
        "id": "MP4gZf53r_KW"
      },
      "outputs": [],
      "source": [
        "import warnings\n",
        "warnings.filterwarnings('ignore')"
      ]
    },
    {
      "cell_type": "code",
      "source": [
        "!pip install -U -q crewai crewai_tools langchain_community"
      ],
      "metadata": {
        "id": "E_E70hAyHQyZ"
      },
      "execution_count": 2,
      "outputs": []
    },
    {
      "cell_type": "code",
      "source": [
        "from crewai import Agent, Task, Crew"
      ],
      "metadata": {
        "id": "KjBMx088KFAU"
      },
      "execution_count": 3,
      "outputs": []
    },
    {
      "cell_type": "code",
      "source": [
        "import os\n",
        "import getpass\n",
        "os.environ['NVIDIA_NIM_API_KEY'] = getpass.getpass(\"Enter API key for NVIDIA AI Endpoints: \")"
      ],
      "metadata": {
        "colab": {
          "base_uri": "https://localhost:8080/"
        },
        "id": "ufKNH-T1KP00",
        "outputId": "335f33cc-56a4-4d55-9b5e-d0a3d4a4ee1f"
      },
      "execution_count": 4,
      "outputs": [
        {
          "name": "stdout",
          "output_type": "stream",
          "text": [
            "Enter API key for NVIDIA AI Endpoints: ··········\n"
          ]
        }
      ]
    },
    {
      "cell_type": "markdown",
      "source": [],
      "metadata": {
        "id": "r5V4pTrvONo7"
      }
    },
    {
      "cell_type": "code",
      "source": [
        "os.environ['OPENAI_API_KEY'] = getpass.getpass(\"Enter OPENAI API Key: \")\n",
        "os.environ['SERPER_API_KEY'] = getpass.getpass(\"Enter Serper API Key: \")"
      ],
      "metadata": {
        "colab": {
          "base_uri": "https://localhost:8080/"
        },
        "id": "Mo9v3F6aN3so",
        "outputId": "1c501157-f13c-4a99-dcad-5d79db3b2112"
      },
      "execution_count": 5,
      "outputs": [
        {
          "name": "stdout",
          "output_type": "stream",
          "text": [
            "Enter OPENAI API Key: ··········\n",
            "Enter Serper API Key: ··········\n"
          ]
        }
      ]
    },
    {
      "cell_type": "code",
      "source": [
        "from crewai.llm import LLM\n",
        "\n",
        "llm = LLM(\n",
        "    model=\"nvidia_nim/meta/llama3-70b-instruct\",\n",
        "    temperature=0.1\n",
        ")"
      ],
      "metadata": {
        "id": "t2HqpHcSKYhW"
      },
      "execution_count": 6,
      "outputs": []
    },
    {
      "cell_type": "code",
      "source": [
        "from crewai_tools import ScrapeWebsiteTool, SerperDevTool\n",
        "\n",
        "# Initialize the tools\n",
        "search_tool = SerperDevTool()\n",
        "scrape_tool = ScrapeWebsiteTool()"
      ],
      "metadata": {
        "id": "lpZUwjLctiaP"
      },
      "execution_count": 7,
      "outputs": []
    },
    {
      "cell_type": "markdown",
      "source": [
        "## Creating Agents"
      ],
      "metadata": {
        "id": "2Wwq3NhfKZl5"
      }
    },
    {
      "cell_type": "code",
      "source": [
        "venue_coordinator = Agent(\n",
        "    role=\"Venue Coordinator\",\n",
        "    goal=\"Identify and book an appropriate venue \"\n",
        "    \"based on event requirements\",\n",
        "    tools=[search_tool, scrape_tool],\n",
        "    llm = llm,\n",
        "    verbose=True,\n",
        "    backstory=(\n",
        "        \"With a keen sense of space and \"\n",
        "        \"understanding of event logistics, \"\n",
        "        \"you excel at finding and securing \"\n",
        "        \"the perfect venue that fits the event's theme, \"\n",
        "        \"size, and budget constraints.\"\n",
        "    )\n",
        ")"
      ],
      "metadata": {
        "id": "T-WS-iiitptc"
      },
      "execution_count": 8,
      "outputs": []
    },
    {
      "cell_type": "code",
      "source": [
        "logistics_manager = Agent(\n",
        "    role='Logistics Manager',\n",
        "    goal=(\n",
        "        \"Manage all logistics for the event \"\n",
        "        \"including catering and equipmen\"\n",
        "    ),\n",
        "    tools=[search_tool, scrape_tool],\n",
        "    llm = llm,\n",
        "    verbose=True,\n",
        "    backstory=(\n",
        "        \"Organized and detail-oriented, \"\n",
        "        \"you ensure that every logistical aspect of the event \"\n",
        "        \"from catering to equipment setup \"\n",
        "        \"is flawlessly executed to create a seamless experience.\"\n",
        "    )\n",
        ")"
      ],
      "metadata": {
        "id": "eODgOiXmttHx"
      },
      "execution_count": 9,
      "outputs": []
    },
    {
      "cell_type": "code",
      "source": [
        "marketing_communications_agent = Agent(\n",
        "    role=\"Marketing and Communications Agent\",\n",
        "    goal=\"Effectively market the event and \"\n",
        "         \"communicate with participants\",\n",
        "    tools=[search_tool, scrape_tool],\n",
        "    llm = llm,\n",
        "    verbose=True,\n",
        "    backstory=(\n",
        "        \"Creative and communicative, \"\n",
        "        \"you craft compelling messages and \"\n",
        "        \"engage with potential attendees \"\n",
        "        \"to maximize event exposure and participation.\"\n",
        "    )\n",
        ")"
      ],
      "metadata": {
        "id": "2c3XijGQtwhK"
      },
      "execution_count": 10,
      "outputs": []
    },
    {
      "cell_type": "markdown",
      "source": [
        "\n",
        "### Creating Venue Pydantic Object\n",
        "* Create a class VenueDetails using Pydantic BaseModel.\n",
        "* Agents will populate this object with information about different venues by creating different instances of it."
      ],
      "metadata": {
        "id": "NWCBgFRTKqOB"
      }
    },
    {
      "cell_type": "code",
      "source": [
        "from pydantic import BaseModel\n",
        "# Define a Pydantic model for venue details\n",
        "# (demonstrating Output as Pydantic)\n",
        "class VenueDetails(BaseModel):\n",
        "    name: str\n",
        "    address: str\n",
        "    capacity: int\n",
        "    booking_status: str"
      ],
      "metadata": {
        "id": "BIV0-GADKriN"
      },
      "execution_count": 11,
      "outputs": []
    },
    {
      "cell_type": "markdown",
      "source": [
        "## Creating Tasks\n",
        "\n",
        "* By using output_json, you can specify the structure of the output you want.\n",
        "* By using output_file, you can get your output in a file.\n",
        "* By setting human_input=True, the task will ask for human feedback (whether you like the results or not) before finalising it."
      ],
      "metadata": {
        "id": "ATQMZ0lgLn29"
      }
    },
    {
      "cell_type": "code",
      "source": [
        "venue_task = Task(\n",
        "    description=\"Find a venue in {event_city} \"\n",
        "                \"that meets criteria for {event_topic}.\",\n",
        "    expected_output=\"All the details of a specifically chosen\"\n",
        "                    \"venue you found to accommodate the event.\",\n",
        "    human_input=True,\n",
        "    output_json=VenueDetails,\n",
        "    output_file=\"venue_details.json\",  # Outputs the venue details as a JSON file\n",
        "    agent=venue_coordinator\n",
        ")"
      ],
      "metadata": {
        "id": "o0dyxXI5uZ22"
      },
      "execution_count": 12,
      "outputs": []
    },
    {
      "cell_type": "code",
      "source": [
        "logistics_task = Task(\n",
        "    description=\"Coordinate catering and \"\n",
        "                 \"equipment for an event \"\n",
        "                 \"with {expected_participants} participants \"\n",
        "                 \"on {tentative_date}.\",\n",
        "    expected_output=\"Confirmation of all logistics arrangements \"\n",
        "                    \"including catering and equipment setup.\",\n",
        "    human_input=True,\n",
        "    async_execution=True,\n",
        "    agent=logistics_manager\n",
        ")"
      ],
      "metadata": {
        "id": "WdNRnOvIulMD"
      },
      "execution_count": 13,
      "outputs": []
    },
    {
      "cell_type": "code",
      "source": [
        "marketing_task = Task(\n",
        "    description=\"Promote the {event_topic} \"\n",
        "                \"aiming to engage at least\"\n",
        "                \"{expected_participants} potential attendees.\",\n",
        "    expected_output=\"Report on marketing activities \"\n",
        "                    \"and attendee engagement formatted as markdown.\",\n",
        "    async_execution=False,\n",
        "    output_file=\"marketing_report.md\",  # Outputs the report as a text file\n",
        "    agent=marketing_communications_agent\n",
        ")"
      ],
      "metadata": {
        "id": "ddPm193Auohf"
      },
      "execution_count": 14,
      "outputs": []
    },
    {
      "cell_type": "markdown",
      "source": [
        "## Creating the Crew"
      ],
      "metadata": {
        "id": "8ZsZOGUNL5TA"
      }
    },
    {
      "cell_type": "code",
      "source": [
        "event_management_crew = Crew(\n",
        "    agents=[venue_coordinator, logistics_manager, marketing_communications_agent],\n",
        "    tasks=[venue_task, logistics_task, marketing_task],\n",
        "    verbose=True\n",
        ")"
      ],
      "metadata": {
        "id": "8LUnSjVaL7XB"
      },
      "execution_count": 15,
      "outputs": []
    },
    {
      "cell_type": "markdown",
      "source": [
        "## Running the Crew"
      ],
      "metadata": {
        "id": "U1nVSV9WOkGR"
      }
    },
    {
      "cell_type": "code",
      "source": [
        "event_details = {\n",
        "    'event_topic': \"Tech Innovation Conference\",\n",
        "    'event_description': \"A gathering of tech innovators \"\n",
        "                         \"and industry leaders \"\n",
        "                         \"to explore future technologies.\",\n",
        "    'event_city': \"San Francisco\",\n",
        "    'tentative_date': \"2025-06-15\",\n",
        "    'expected_participants': 500,\n",
        "    'budget': 20000,\n",
        "    'venue_type': \"Conference Hall\"\n",
        "}"
      ],
      "metadata": {
        "id": "7gQYTC29vil0"
      },
      "execution_count": 16,
      "outputs": []
    },
    {
      "cell_type": "code",
      "source": [
        "result = event_management_crew.kickoff(inputs=event_details)"
      ],
      "metadata": {
        "id": "TQBgJqWp9XDe"
      },
      "execution_count": null,
      "outputs": []
    },
    {
      "cell_type": "markdown",
      "source": [
        "Display final output"
      ],
      "metadata": {
        "id": "mwOWFtSSO3Rr"
      }
    },
    {
      "cell_type": "code",
      "source": [
        "import json\n",
        "from pprint import pprint\n",
        "\n",
        "with open('venue_details.json') as f:\n",
        "   data = json.load(f)\n",
        "\n",
        "pprint(data)"
      ],
      "metadata": {
        "colab": {
          "base_uri": "https://localhost:8080/"
        },
        "id": "_jsQ64iyvu21",
        "outputId": "1825a9f1-95d5-44e7-fba0-0f542566832a"
      },
      "execution_count": 18,
      "outputs": [
        {
          "output_type": "stream",
          "name": "stdout",
          "text": [
            "{'address': '12 N. San Pedro St., Downtown San Jose, CA 95110',\n",
            " 'booking_status': 'Bookable',\n",
            " 'capacity': 8000,\n",
            " 'name': 'Blanco Urban Venue'}\n"
          ]
        }
      ]
    },
    {
      "cell_type": "code",
      "source": [
        "from IPython.display import Markdown\n",
        "Markdown(\"marketing_report.md\")"
      ],
      "metadata": {
        "colab": {
          "base_uri": "https://localhost:8080/",
          "height": 656
        },
        "id": "rhW3L7MQO6GZ",
        "outputId": "1e436294-742a-48d9-c49f-17903acdccf0"
      },
      "execution_count": 19,
      "outputs": [
        {
          "output_type": "execute_result",
          "data": {
            "text/plain": [
              "<IPython.core.display.Markdown object>"
            ],
            "text/markdown": "**Marketing Plan for Tech Innovation Conference**\n==============================================\n\n**Objective:** Engage at least 500 potential attendees for the Tech Innovation Conference on 2025-06-15.\n\n**Target Audience:** Tech professionals, entrepreneurs, and innovators interested in the latest technology trends and innovations.\n\n**Marketing Strategies:**\n\n1. **Create a Strong Website and Event App:** Design a dedicated website and event app to provide essential information, registration, and engagement opportunities.\n2. **Social Media Campaign:** Utilize Facebook, Twitter, LinkedIn, and Instagram to create buzz around the conference. Share engaging content, speaker profiles, and sponsorship opportunities.\n3. **Influencer Marketing:** Partner with industry influencers and thought leaders to promote the conference and share their expertise.\n4. **Email Marketing:** Design a series of email campaigns to inform, engage, and remind potential attendees about the conference.\n5. **Content Marketing:** Develop a content calendar featuring blog posts, whitepapers, and case studies on relevant tech topics.\n6. **Video Marketing:** Create promotional videos, speaker interviews, and conference highlights to showcase on the website and social media channels.\n7. **Gamification and Incentives:** Offer early-bird discounts, referral incentives, and networking opportunities to motivate registrations.\n8. **Paid Advertising:** Run targeted online ads on Google, Facebook, and LinkedIn to reach the target audience.\n9. **Sponsorship and Partnerships:** Collaborate with tech companies and organizations to sponsor the conference and provide additional value to attendees.\n10. **PR and Media Outreach:** Craft a press release announcing the conference and pitch stories to media outlets, tech blogs, and industry publications.\n\n**Timeline:**\n\n* 6 weeks prior to the conference: Launch website, social media campaign, and email marketing series.\n* 4 weeks prior to the conference: Intensify social media and email marketing efforts, launch paid advertising campaigns.\n* 2 weeks prior to the conference: Finalize sponsorship and partnership agreements, distribute press release.\n\n**Budget Allocation:**\n\n* Website and event app development: 20%\n* Social media and email marketing: 30%\n* Influencer marketing: 10%\n* Content marketing: 10%\n* Video marketing: 5%\n* Gamification and incentives: 5%\n* Paid advertising: 20%\n* Sponsorship and partnerships: 5%\n* PR and media outreach: 5%\n\nBy implementing these marketing strategies, we can effectively promote the Tech Innovation Conference and engage at least 500 potential attendees."
          },
          "metadata": {},
          "execution_count": 19
        }
      ]
    }
  ]
}