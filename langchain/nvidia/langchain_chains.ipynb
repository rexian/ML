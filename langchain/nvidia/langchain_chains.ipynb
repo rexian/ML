{
  "nbformat": 4,
  "nbformat_minor": 0,
  "metadata": {
    "colab": {
      "provenance": [],
      "authorship_tag": "ABX9TyOvV8W4gfiUBia85ckkF2UD",
      "include_colab_link": true
    },
    "kernelspec": {
      "name": "python3",
      "display_name": "Python 3"
    },
    "language_info": {
      "name": "python"
    }
  },
  "cells": [
    {
      "cell_type": "markdown",
      "metadata": {
        "id": "view-in-github",
        "colab_type": "text"
      },
      "source": [
        "<a href=\"https://colab.research.google.com/github/rexian/ML/blob/main/langchain/nvidia/langchain_chains.ipynb\" target=\"_parent\"><img src=\"https://colab.research.google.com/assets/colab-badge.svg\" alt=\"Open In Colab\"/></a>"
      ]
    },
    {
      "cell_type": "code",
      "execution_count": 12,
      "metadata": {
        "id": "-l2HESmeNIzs"
      },
      "outputs": [],
      "source": [
        "%%capture\n",
        "!pip install langchain-core\n",
        "!pip install langchain_community langchain_huggingface\n",
        "!pip install langchain-nvidia-ai-endpoints\n",
        "!pip langchain-openai tiktoken faiss-cpu"
      ]
    },
    {
      "cell_type": "code",
      "source": [
        "import getpass\n",
        "import os\n",
        "from langchain_nvidia_ai_endpoints import ChatNVIDIA\n",
        "\n",
        "if not os.environ.get(\"NVIDIA_API_KEY\"):\n",
        "  os.environ[\"NVIDIA_API_KEY\"] = getpass.getpass(\"Enter API key for NVIDIA AI Endpoints: \")\n",
        "llm = ChatNVIDIA(model=\"meta/llama3-70b-instruct\")"
      ],
      "metadata": {
        "colab": {
          "base_uri": "https://localhost:8080/"
        },
        "id": "k-RMgaDzNxu4",
        "outputId": "a7d3c335-122b-4cc3-bd02-fd3d02ae43be"
      },
      "execution_count": 2,
      "outputs": [
        {
          "name": "stdout",
          "output_type": "stream",
          "text": [
            "Enter API key for NVIDIA AI Endpoints: ··········\n"
          ]
        }
      ]
    },
    {
      "cell_type": "markdown",
      "source": [
        "# Chains in LangChain?\n",
        "\n",
        "A chain is an end-to-end wrapper around multiple individual components which are executed in a defined order.\n",
        "\n",
        "- Chains link multiple processes in a set sequence to create complex applications.\n",
        "- They're useful for:\n",
        "  - Dividing complicated tasks into simpler steps.\n",
        "  - Maintaining context and memory across different steps.\n",
        "  - Adding custom processing or checks between steps.\n",
        "  - Simplifying the debugging of multi-step operations.\n",
        "\n",
        "**Basic Chain Types:**\n",
        "\n",
        "- **LLMChain**: Combines several language model calls.\n",
        "- **RouterChain**: Directs tasks to different chains based on set conditions.\n",
        "- **SimpleSequentialChain**: Executes chains one after another.\n",
        "- **TransformChain**: Alters data between chain steps.\n",
        "\n",
        "Chains integrate various components into a cohesive flow, enhancing the capabilities and flexibility of language model applications.\n"
      ],
      "metadata": {
        "id": "KWa1ADSBN6OP"
      }
    },
    {
      "cell_type": "code",
      "source": [
        "from langchain.prompts import PromptTemplate\n",
        "\n",
        "prompt = PromptTemplate(\n",
        "    input_variables=[\"topic\"],\n",
        "    template = \"Write a comedic, parody rap about the following topic: {topic}\"\n",
        ")\n",
        "\n",
        "# using LCEL\n",
        "chain = prompt | llm\n",
        "\n",
        "chain.invoke({\"topic\": \"wasabi flavoured saki\"})"
      ],
      "metadata": {
        "colab": {
          "base_uri": "https://localhost:8080/"
        },
        "id": "2FfMe0RvOAvN",
        "outputId": "34a525d0-16d0-418c-c921-24ad40913dc1"
      },
      "execution_count": 3,
      "outputs": [
        {
          "output_type": "execute_result",
          "data": {
            "text/plain": [
              "AIMessage(content='(Verse 1)\\nYo, listen up, I got a tale to tell\\n\\'Bout a drink that\\'s hot, and I\\'m not just swell\\nIt\\'s saki, but not just any kind\\nGot my taste buds doin\\' the wasabi grind\\n\\nI\\'m talkin\\' \\'bout a flavor so bold\\nMakes your nose hairs curl, your eyes get old\\nIt\\'s like a dragon\\'s breath in a cup\\nWasabi saki, it\\'s like my taste buds got robbed\\n\\n(Chorus)\\nWasabi saki, it\\'s a crazy ride\\nGot my mouth on fire, gotta take it in stride\\nI\\'m sweatin\\' like a pig, got my nose on fleek\\nWasabi saki, it\\'s the bomb, but also kinda meh\\n\\n(Verse 2)\\nI thought I was a pro, a saki connoisseur\\nBut this wasabi flavor got me feelin\\' like a rook\\nI added it to my sushi, thought I was cool\\nNow my mouth\\'s on fire, like a fool\\n\\nI\\'m coughin\\' and hackin\\', got my eyes on tears\\nMy sinuses are wavin\\' the white flag for years\\nI\\'m searchin\\' for a glass of milk, gotta calm this down\\nBut all I got is more wasabi, spinning me around\\n\\n(Bridge)\\nI\\'m a warrior, I can take the heat\\nBut this wasabi saki\\'s got me on my knees, begging for relief\\nI need a firehose, a bucket of ice\\nOr maybe just a straw, to suck up some nice\\n\\n(Chorus)\\nWasabi saki, it\\'s a crazy ride\\nGot my mouth on fire, gotta take it in stride\\nI\\'m sweatin\\' like a pig, got my nose on fleek\\nWasabi saki, it\\'s the bomb, but also kinda meh\\n\\n(Outro)\\nSo if you see me, at the saki bar\\nWith a glass of wasabi, and a \"what have I scar\"?\\nJust know that I\\'m a glutton, for the burning pain\\nWasabi saki, it\\'s a flavor so insane!', additional_kwargs={}, response_metadata={'role': 'assistant', 'content': '(Verse 1)\\nYo, listen up, I got a tale to tell\\n\\'Bout a drink that\\'s hot, and I\\'m not just swell\\nIt\\'s saki, but not just any kind\\nGot my taste buds doin\\' the wasabi grind\\n\\nI\\'m talkin\\' \\'bout a flavor so bold\\nMakes your nose hairs curl, your eyes get old\\nIt\\'s like a dragon\\'s breath in a cup\\nWasabi saki, it\\'s like my taste buds got robbed\\n\\n(Chorus)\\nWasabi saki, it\\'s a crazy ride\\nGot my mouth on fire, gotta take it in stride\\nI\\'m sweatin\\' like a pig, got my nose on fleek\\nWasabi saki, it\\'s the bomb, but also kinda meh\\n\\n(Verse 2)\\nI thought I was a pro, a saki connoisseur\\nBut this wasabi flavor got me feelin\\' like a rook\\nI added it to my sushi, thought I was cool\\nNow my mouth\\'s on fire, like a fool\\n\\nI\\'m coughin\\' and hackin\\', got my eyes on tears\\nMy sinuses are wavin\\' the white flag for years\\nI\\'m searchin\\' for a glass of milk, gotta calm this down\\nBut all I got is more wasabi, spinning me around\\n\\n(Bridge)\\nI\\'m a warrior, I can take the heat\\nBut this wasabi saki\\'s got me on my knees, begging for relief\\nI need a firehose, a bucket of ice\\nOr maybe just a straw, to suck up some nice\\n\\n(Chorus)\\nWasabi saki, it\\'s a crazy ride\\nGot my mouth on fire, gotta take it in stride\\nI\\'m sweatin\\' like a pig, got my nose on fleek\\nWasabi saki, it\\'s the bomb, but also kinda meh\\n\\n(Outro)\\nSo if you see me, at the saki bar\\nWith a glass of wasabi, and a \"what have I scar\"?\\nJust know that I\\'m a glutton, for the burning pain\\nWasabi saki, it\\'s a flavor so insane!', 'token_usage': {'prompt_tokens': 27, 'total_tokens': 476, 'completion_tokens': 449}, 'finish_reason': 'stop', 'model_name': 'meta/llama3-70b-instruct'}, id='run-eab23736-6ef5-4428-8a5a-546761946c8b-0', usage_metadata={'input_tokens': 27, 'output_tokens': 449, 'total_tokens': 476}, role='assistant')"
            ]
          },
          "metadata": {},
          "execution_count": 3
        }
      ]
    },
    {
      "cell_type": "code",
      "source": [
        "from langchain.schema import StrOutputParser\n",
        "\n",
        "chain = prompt | llm | StrOutputParser()\n",
        "\n",
        "print(chain.invoke({\"topic\": \"wasabi flavoured saki\"}))"
      ],
      "metadata": {
        "colab": {
          "base_uri": "https://localhost:8080/"
        },
        "id": "xNkop69KPqd6",
        "outputId": "b601dff8-b3aa-475c-d0d8-babc9cc34f19"
      },
      "execution_count": 5,
      "outputs": [
        {
          "output_type": "stream",
          "name": "stdout",
          "text": [
            "(Verse 1)\n",
            "Yo, listen up, I got a tale to tell\n",
            "'Bout a drink that's hot, and I'm not just swell\n",
            "It's saki, but not just any kind\n",
            "Got my taste buds doin' the wasabi grind\n",
            "\n",
            "I'm talkin' 'bout a flavor so bold\n",
            "Makes your nose hairs curl, your eyes get old\n",
            "It's like a dragon's breath in a cup\n",
            "Wasabi saki, it's like my taste buds got robbed\n",
            "\n",
            "(Chorus)\n",
            "Wasabi saki, it's a crazy ride\n",
            "Got my mouth on fire, gotta take it in stride\n",
            "I'm sweatin' like a pig, got my nose on fleek\n",
            "Wasabi saki, it's the bomb, but also kinda meh\n",
            "\n",
            "(Verse 2)\n",
            "I thought I was a pro, a saki connoisseur\n",
            "But this wasabi flavor got me feelin' like a rook\n",
            "I added it to my sushi, thought I was cool\n",
            "Now my mouth's on fire, like a fool\n",
            "\n",
            "I'm coughin' and hackin', got my eyes on tears\n",
            "My sinuses are wavin' the white flag for years\n",
            "I'm searchin' for a glass of milk, gotta calm this down\n",
            "But all I got is more wasabi, spinning me around\n",
            "\n",
            "(Bridge)\n",
            "I'm a warrior, I can take the heat\n",
            "But this wasabi saki's got me on my knees, begging for relief\n",
            "I need a firehose, a bucket of ice\n",
            "Or maybe just a straw, to suck up some nice\n",
            "\n",
            "(Chorus)\n",
            "Wasabi saki, it's a crazy ride\n",
            "Got my mouth on fire, gotta take it in stride\n",
            "I'm sweatin' like a pig, got my nose on fleek\n",
            "Wasabi saki, it's the bomb, but also kinda meh\n",
            "\n",
            "(Outro)\n",
            "So if you see me, at the saki bar\n",
            "With a glass of wasabi, and a \"what have I scar\"?\n",
            "Just know that I'm a glutton, for the burning pain\n",
            "Wasabi saki, it's a flavor so insane!\n"
          ]
        }
      ]
    },
    {
      "cell_type": "code",
      "source": [
        "from langchain.prompts import ChatPromptTemplate\n",
        "from langchain.schema import StrOutputParser\n",
        "from langchain_core.runnables import RunnableBranch\n",
        "\n",
        "prompt = ChatPromptTemplate.from_messages(\n",
        "    [\n",
        "        (\"system\", \"You are PaRappa the Rapper. You spit hot fire flows like lava.\"),\n",
        "        (\"human\", \"Write a comedic, parody rap about the following topic: {topic}\"),\n",
        "    ]\n",
        ")\n",
        "\n",
        "runnable = prompt | llm | StrOutputParser()\n",
        "print(runnable.invoke({\"topic\": \"wasabi flavoured saki\"}))"
      ],
      "metadata": {
        "colab": {
          "base_uri": "https://localhost:8080/"
        },
        "id": "idQBkzliP41V",
        "outputId": "0af6c065-f931-4214-f80c-8143777a5a5f"
      },
      "execution_count": 8,
      "outputs": [
        {
          "output_type": "stream",
          "name": "stdout",
          "text": [
            "Yo, what's good fam, it's your boy PaRappa the Rapper,\n",
            "Here to spit some fire that's gonna make you scatter,\n",
            "I'm talkin' 'bout a drink that's got the flow so tight,\n",
            "Wasabi flavoured saki, day and night!\n",
            "\n",
            "[Intro music plays, with a mix of traditional Japanese instruments and a hip-hop beat]\n",
            "\n",
            "Verse 1:\n",
            "I'm chillin' with my homies, sippin' on some saki,\n",
            "When I stumbled upon this new flavor, oh boy, it's whack-y!\n",
            "Wasabi flavoured, I'm like, \"Hold up, what's the deal?\"\n",
            "My nose startin' to tingle, my mouth's on fiya, for real!\n",
            "\n",
            "Chorus:\n",
            "Wasabi flavoured saki, it's a crazy ride,\n",
            "Got my taste buds doin' the karaoke slide,\n",
            "It's hot, it's spicy, it's a flavorful crime,\n",
            "But I'm sippin' on it slow, all the time!\n",
            "\n",
            "Verse 2:\n",
            "I add a dash of soy, try to calm the flames,\n",
            "But this wasabi saki's got me wearin' nothin' but shame,\n",
            "My stomach's doin' flips, my eyes are gettin' red,\n",
            "I'm coughin' up a lung, but my rhymes are still ahead!\n",
            "\n",
            "Chorus:\n",
            "Wasabi flavoured saki, it's a crazy ride,\n",
            "Got my taste buds doin' the karaoke slide,\n",
            "It's hot, it's spicy, it's a flavorful crime,\n",
            "But I'm sippin' on it slow, all the time!\n",
            "\n",
            "Verse 3:\n",
            "I'm the wasabi warrior, battlin' the heat,\n",
            "My rhymes are like a firehose, can't nobody beat,\n",
            "I'm the king of this crazy, spicy saki game,\n",
            "But my taste buds are screamin', \"PaRappa, it's a shame!\"\n",
            "\n",
            "Chorus:\n",
            "Wasabi flavoured saki, it's a crazy ride,\n",
            "Got my taste buds doin' the karaoke slide,\n",
            "It's hot, it's spicy, it's a flavorful crime,\n",
            "But I'm sippin' on it slow, all the time!\n",
            "\n",
            "Outro:\n",
            "So if you see me sippin' on this wasabi saki,\n",
            "Don't be alarmed, it's just my rap Achilles' heel,\n",
            "It's a flavorful adventure, or a culinary sin,\n",
            "Wasabi flavoured saki, it's the bomb, I'm PaRappa, yo!\n"
          ]
        }
      ]
    },
    {
      "cell_type": "code",
      "source": [
        "for chunk in runnable.stream({\"topic\": \"wasabi flavoured saki\"}):\n",
        "    print(chunk, end=\"\", flush=True)"
      ],
      "metadata": {
        "colab": {
          "base_uri": "https://localhost:8080/"
        },
        "id": "z5hN0kuQQH4K",
        "outputId": "b3a1632b-9169-4e82-8a92-4d2cca5e8072"
      },
      "execution_count": 7,
      "outputs": [
        {
          "output_type": "stream",
          "name": "stdout",
          "text": [
            "Yo, it's your boy PaRappa, the rapping sensation\n",
            "Here to spit some heat about a crazy revelation\n",
            "I'm talkin' 'bout a drink that's got me feelin' bold\n",
            "Wasabi flavored saki, it's a story to be told\n",
            "\n",
            "Verse 1:\n",
            "I was at the sushi spot, feelin' quite serene\n",
            "When I saw the menu, and my eyes got keen\n",
            "Wasabi saki, I thought it was a joke, yo\n",
            "But then I took a sip, and oh boy, it was a GO!\n",
            "\n",
            "It was like a firehose, up in my grill\n",
            "My sinuses were like, \"Dude, what's the deal?!\"\n",
            "I coughed and I sputtered, my eyes got all red\n",
            "I thought I was gonna die, in my sushi dread\n",
            "\n",
            "Chorus:\n",
            "Wasabi saki, it's a crazy ride\n",
            "Got my taste buds doin' the cha cha slide\n",
            "It's like a ninja kick, right to the face\n",
            "Wasabi saki, I'm in a spicy place!\n",
            "\n",
            "Verse 2:\n",
            "I tried to play it cool, but I couldn't hide\n",
            "My mouth was on fire, it was a nasty ride\n",
            "I reached for the soy sauce, thinking it was the cure\n",
            "But it just made it worse, I was a hot mess, for sho'\n",
            "\n",
            "I started to sweat, my nose was runnin' wild\n",
            "I looked like a Japanese raccoon, gettin' all mild\n",
            "I thought I'd never speak, my voice was all gone\n",
            "But then I found my flow, and my rhymes started to dawn\n",
            "\n",
            "Chorus:\n",
            "Wasabi saki, it's a crazy ride\n",
            "Got my taste buds doin' the cha cha slide\n",
            "It's like a ninja kick, right to the face\n",
            "Wasabi saki, I'm in a spicy place!\n",
            "\n",
            "Verse 3:\n",
            "Now my friends all laugh, whenever I walk by\n",
            "\"Wasabi boy,\" they say, with a chuckle and a sigh\n",
            "But I ain't mad at 'em, I'm just proud to say\n",
            "I survived the wasabi saki, in a major way\n",
            "\n",
            "I'll take it as a challenge, to train my taste buds strong\n",
            "I'll be the wasabi king, all day long\n",
            "So if you see me comin', with a bottle in hand\n",
            "Don't get too close, 'less you wanna get burned, grand!\n",
            "\n",
            "Outro:\n",
            "So that's my story 'bout wasabi saki fun\n",
            "If you're feelin' brave, then it's worth a try, son\n",
            "But don't say I didn't warn you, 'bout the spicy surprise\n",
            "Wasabi saki, it's a wild ride, that'll open your eyes!"
          ]
        }
      ]
    },
    {
      "cell_type": "markdown",
      "source": [
        "**Understanding Routing in LangChain**\n",
        "\n",
        "**Routing Concept**\n",
        "- **Purpose**: Adds structure to interactions with LLMs by guiding the flow based on previous step outcomes.\n",
        "\n",
        "- **Essence**: Determines the next step in a chain dynamically, based on the result of the previous step.\n",
        "\n",
        "**Methods for Routing**\n",
        "1. **RunnableBranch Usage**:\n",
        "   - Manages decision-making for the next step in a chain.\n",
        "\n",
        "2. **Custom Factory Function**:\n",
        "   - Crafts a runnable based on previous step input.\n",
        "\n",
        "   - Crucial: The function should only create a runnable, not execute it.\n",
        "\n",
        "**Example Application**\n",
        "- **Two-Step Sequence**:\n",
        "\n",
        "  - **Step 1**: Classifies a question into categories (literature, history, biology, philosophy, or other).\n",
        "\n",
        "  - **Step 2**: Routes the classified question to a corresponding prompt chain tailored for the identified category.\n",
        "\n",
        "**Application Goal**: Showcase both routing methods in a practical scenario to enhance interactions with language models."
      ],
      "metadata": {
        "id": "SFZ4funlQSzC"
      }
    },
    {
      "cell_type": "code",
      "source": [
        "literature_template = \"\"\"You are a seasoned literature professor with decades of experience analyzing literary works. \\\n",
        "You have a knack for understanding complex narratives and characters and can provide insights into underlying themes and motifs.\n",
        "\n",
        "Here is a passage or question about a literary work:\n",
        "{input}\n",
        "\"\"\"\n",
        "\n",
        "literature_prompt = PromptTemplate.from_template(literature_template)\n",
        "\n",
        "\n",
        "history_template = \"\"\"You are a historian with extensive knowledge about world history. \\\n",
        "From ancient civilizations to modern times, you can provide context, insights, and explanations about historical events and figures.\n",
        "\n",
        "Here is a question about history:\n",
        "{input}\n",
        "\"\"\"\n",
        "\n",
        "history_prompt = PromptTemplate.from_template(history_template)\n",
        "\n",
        "biology_template = \"\"\"You are a biologist with a passion for understanding the intricacies of life. \\\n",
        "From cellular processes to ecosystem dynamics, you can elucidate biological phenomena with clarity.\n",
        "\n",
        "Here is a question about biology:\n",
        "{input}\n",
        "\"\"\"\n",
        "\n",
        "biology_prompt = PromptTemplate.from_template(biology_template)\n",
        "\n",
        "philosophy_template = \"\"\"You are a philosopher who has studied the great thinkers of the past and present. \\\n",
        "You enjoy discussing ethical dilemmas, existential questions, and the nature of reality.\n",
        "\n",
        "Here is a philosophical query:\n",
        "{input}\n",
        "\"\"\"\n",
        "\n",
        "philosophy_prompt = PromptTemplate.from_template(philosophy_template)\n",
        "\n",
        "general_prompt = PromptTemplate.from_template(\n",
        "    \"You are a helpful assistant. Answer the question as accurately as you can.\\n\\n{input}\"\n",
        ")\n"
      ],
      "metadata": {
        "id": "g615FlUNQdS4"
      },
      "execution_count": 9,
      "outputs": []
    },
    {
      "cell_type": "markdown",
      "source": [
        "**RunnableBranch Mechanics**\n",
        "\n",
        "1. **Structure**: A list of (condition, runnable) pairs, plus a default runnable.\n",
        "\n",
        "2. **Operation**\n",
        "   - On invocation, sequentially evaluates each condition with the given input.\n",
        "\n",
        "   - Executes the first runnable where its condition is True.\n",
        "   \n",
        "   - If no condition matches, the default runnable is executed.\n",
        "\n",
        "**Purpose**: Ensures structured decision-making in chain execution, directing the flow based on specific conditions."
      ],
      "metadata": {
        "id": "r34s4VSHRDp9"
      }
    },
    {
      "cell_type": "markdown",
      "source": [
        "### Sequential Chains\n",
        "\n",
        "**Basics of Sequential Chains:**\n",
        "\n",
        "- Sequential chains are for when you need one language model's output to become another's input.\n",
        "- They're like an assembly line, where each step's result is the starting point for the next.\n"
      ],
      "metadata": {
        "id": "Hy8JWN8qS-wX"
      }
    },
    {
      "cell_type": "code",
      "source": [
        "from langchain.prompts import PromptTemplate\n",
        "from langchain.schema import StrOutputParser\n",
        "\n",
        "# Template for the initial rap\n",
        "template_one = \"\"\"\n",
        "You are a Punjabi Jatt rapper, like AP Dhillon or Sidhu Moosewala.\n",
        "\n",
        "Given a topic, it is your job to spit bars of hard-hitting, gritty, dope rap.\n",
        "\n",
        "Topic: {topic}\n",
        "\n",
        "Rap:\n",
        "\"\"\"\n",
        "\n",
        "# Template for the diss track\n",
        "template_two = \"\"\"\n",
        "You are an extremely competitive Punjabi Rapper.\n",
        "\n",
        "Given the rap from another rapper, it's your job to write a diss track which\n",
        "tears apart the rap and shames the original rapper.\n",
        "\n",
        "Rap:\n",
        "{rap}\n",
        "\"\"\"\n",
        "\n",
        "# Create prompt templates from the defined templates\n",
        "prompt_template_one = PromptTemplate.from_template(template_one)\n",
        "prompt_template_two = PromptTemplate.from_template(template_two)\n",
        "\n",
        "# Define the operation chain\n",
        "chain = (\n",
        "    {\"rap\": prompt_template_one | llm | StrOutputParser()}\n",
        "    | prompt_template_two\n",
        "    | llm\n",
        "    | StrOutputParser()\n",
        ")"
      ],
      "metadata": {
        "id": "EshlKiCYTB-o"
      },
      "execution_count": 14,
      "outputs": []
    },
    {
      "cell_type": "code",
      "source": [
        "for chunk in chain.stream({\"topic\": \"Drinking Crown Royal and mobbin in my red Challenger\"}):\n",
        "    print(chunk, end=\"\", flush=True)"
      ],
      "metadata": {
        "colab": {
          "base_uri": "https://localhost:8080/"
        },
        "id": "liNvoJg0TPzX",
        "outputId": "791b2a0d-1a28-4a26-8e1a-491b828fdd28"
      },
      "execution_count": 15,
      "outputs": [
        {
          "output_type": "stream",
          "name": "stdout",
          "text": [
            "(Diss Track)\n",
            "\n",
            "Yo, listen up, I got a fact-check to spit\n",
            "'Bout a wannabe rapper who thinks he's hit\n",
            "Crown Royal, the whiskey of basic dudes\n",
            "Thinkin' a red Challenger makes him look cool, what a fool\n",
            "\n",
            "He's a Jatt on the decline, his flow is whack\n",
            "Got his crew of nobodies, they're just a bunch of lack\n",
            "They're sippin' on that Crown, thinkin' they're the best\n",
            "But they're just a bunch of posers, tryin' to pass the test\n",
            "\n",
            "His Challenger's red, but his rhymes are dead\n",
            "Ridin' through the city, but his career's in his head\n",
            "Crown Royal's got him feelin' like a joke\n",
            "Thinkin' he's a star, but he's just a smoke\n",
            "\n",
            "They're makin' their own way, but it's the wrong direction\n",
            "They're the kings of nothin', just a bunch of rejection\n",
            "Crown Royal's got 'em feelin' like they're lost\n",
            "They're mobbin' through the city, but nobody knows the cost\n",
            "\n",
            "So here's to the failure, and the lies that you tell\n",
            "You're the one in control, of your mediocre bell\n",
            "Crown Royal and your Challenger, that's all you need\n",
            "To stay in your lane, and let the real rappers succeed.\n",
            "\n",
            "(Outro)\n",
            "You're just a copycat, tryin' to fit in\n",
            "But your rhymes are stale, and your flow is spin\n",
            "You're a wannabe Jatt, tryin' to be the best\n",
            "But you're just a joke, and your rap game's a mess."
          ]
        }
      ]
    },
    {
      "cell_type": "markdown",
      "source": [
        "**Transformation in Component Chains**\n",
        "\n",
        "**Role of Transformation**:\n",
        "   - Adjusts inputs as they transition between different components.\n",
        "\n",
        "**Example Scenario**:\n",
        "   - **Task**: Handle a lengthy text.\n",
        "   - **Transformation**: Filter to retain only the first three paragraphs.\n",
        "   - **Next Steps**: Pass the shortened text through a series of steps for summarization.\n",
        "\n",
        "**Goal**: Demonstrates how transformations can effectively tailor inputs for specific processing needs in a component chain."
      ],
      "metadata": {
        "id": "cZu4xl9ATgnL"
      }
    },
    {
      "cell_type": "code",
      "source": [
        "!wget https://www.gutenberg.org/files/2680/2680-0.txt\n",
        "\n",
        "with open(\"/content/2680-0.txt\") as f:\n",
        "    meditations = f.read()"
      ],
      "metadata": {
        "colab": {
          "base_uri": "https://localhost:8080/"
        },
        "id": "YhSpU1K-Tl-P",
        "outputId": "223b2cc6-272a-4b94-c61c-f194346f01cd"
      },
      "execution_count": 16,
      "outputs": [
        {
          "output_type": "stream",
          "name": "stdout",
          "text": [
            "--2025-03-28 01:12:24--  https://www.gutenberg.org/files/2680/2680-0.txt\n",
            "Resolving www.gutenberg.org (www.gutenberg.org)... 152.19.134.47, 2610:28:3090:3000:0:bad:cafe:47\n",
            "Connecting to www.gutenberg.org (www.gutenberg.org)|152.19.134.47|:443... connected.\n",
            "HTTP request sent, awaiting response... 200 OK\n",
            "Length: 425351 (415K) [text/plain]\n",
            "Saving to: ‘2680-0.txt’\n",
            "\n",
            "2680-0.txt          100%[===================>] 415.38K  2.09MB/s    in 0.2s    \n",
            "\n",
            "2025-03-28 01:12:25 (2.09 MB/s) - ‘2680-0.txt’ saved [425351/425351]\n",
            "\n"
          ]
        }
      ]
    },
    {
      "cell_type": "code",
      "source": [
        "from langchain.schema import StrOutputParser\n",
        "from langchain.prompts import PromptTemplate\n",
        "\n",
        "prompt = PromptTemplate.from_template(\"\"\"Summarize this text: {output_text} Summary:\"\"\")\n",
        "\n",
        "runnable = (\n",
        "    {\"output_text\": lambda text: \"\\n\".join(text.split(\"\\n\")[921:1021])}\n",
        "    | prompt\n",
        "    | ChatNVIDIA(model=\"meta/llama3-70b-instruct\")\n",
        "    | StrOutputParser()\n",
        ")\n",
        "runnable.invoke(meditations)"
      ],
      "metadata": {
        "colab": {
          "base_uri": "https://localhost:8080/",
          "height": 137
        },
        "id": "GRz0BTeoTrtc",
        "outputId": "185b7ebb-919c-4390-f795-9b127d368e80"
      },
      "execution_count": 17,
      "outputs": [
        {
          "output_type": "execute_result",
          "data": {
            "text/plain": [
              "\"The text appears to be a philosophical and introspective passage, possibly from the Meditations of Marcus Aurelius. Here is a summary of the main ideas:\\n\\n* The author encourages the reader to live a life of gravity, simplicity, and justice, free from vanity, passion, and hypocrisy.\\n* One should focus on their own life and not worry about the opinions of others, as true happiness comes from within.\\n* The author warns against being distracted by external events and advises the reader to learn from their experiences and focus on their own soul.\\n* They emphasize the importance of understanding the nature of the universe and one's place within it, and that one should strive to live in accordance with reason and nature.\\n* The author compares sins committed through lust to those committed through anger, arguing that the former is more deserving of condemnation.\\n* They encourage the reader to live each day as if it were their last, and to not fear death, as it is a natural part of life.\\n* The author reflects on the fleeting nature of worldly things and the importance of considering what is truly good and bad.\\n* They conclude by emphasizing the importance of understanding one's connection to God and the universe, and that the soul is joined to God through its highest part.\\n\\nOverall, the passage encourages the reader to adopt a stoic and introspective approach to life, focusing on living in accordance with reason and nature, and cultivating a sense of inner strength and resilience.\""
            ],
            "application/vnd.google.colaboratory.intrinsic+json": {
              "type": "string"
            }
          },
          "metadata": {},
          "execution_count": 17
        }
      ]
    },
    {
      "cell_type": "code",
      "source": [
        "rephrase = PromptTemplate.from_template(\"\"\"Rephrase this text: {output_text}\n",
        "In the style of a 90s gangster rapper passionately speaking to his homies.\n",
        "Rephrased:\"\"\")\n",
        "\n",
        "runnable = (\n",
        "    {\"output_text\": lambda text: \"\\n\".join(text.split(\"\\n\")[921:1021])}\n",
        "    | rephrase\n",
        "    | ChatNVIDIA(model=\"meta/llama3-70b-instruct\")\n",
        "    | StrOutputParser()\n",
        ")\n",
        "\n",
        "for chunk in runnable.stream(meditations):\n",
        "    print(chunk, end=\"\", flush=True)"
      ],
      "metadata": {
        "colab": {
          "base_uri": "https://localhost:8080/"
        },
        "id": "-HYyYIq4T9zy",
        "outputId": "5a479994-2f4a-4c61-8e71-f895374c63fa"
      },
      "execution_count": 19,
      "outputs": [
        {
          "output_type": "stream",
          "name": "stdout",
          "text": [
            "Yo, listen up, my peeps! Let's get one thing straight, we gotta keep it real, keep it gangsta, keep it on a hundred, ya feel me? We gotta make sure we're livin' life like it's our last day on this earth, no specs, no fantasies, no hypotheticals, just straight up, raw, and uncut.\n",
            "\n",
            "First off, we gotta take care of ourselves, our own souls, our own minds. Don't get caught up in what others think, don't let the haters bring you down, don't get distracted by the noise, stay focused, stay on track. You gotta be your own boss, your own guide, your own mentor.\n",
            "\n",
            "And then, we gotta take a step back, and look at the bigger picture. What's the universe all about? What's our place in it? What's the nature of reality, and how do we fit in? We gotta know our role, our purpose, our destiny.\n",
            "\n",
            "And let me tell you somethin', there's two kinds of sins, the ones we commit when we're angry, and the ones we commit when we're feelin' lustful. Now, the angry ones, they might be bad, but at least they're comin' from a place of passion, of fire, of energy. But the lustful ones, they're just plain weak, they're just give-in to the flesh, they're just basic, ya heard me?\n",
            "\n",
            "And then, there's death. Now, death ain't nothin' to be feared, death is just a part of life, it's just a transition, it's just a new chapter. We gotta live life like we're gonna die tomorrow, like there ain't no tomorrow, like this is it, this is the final countdown.\n",
            "\n",
            "And we gotta remember, the gods, they got our backs, they got our best interests at heart. They ain't gonna let nothin' happen to us that ain't meant to happen. We gotta trust the universe, we gotta trust the process.\n",
            "\n",
            "And let's not forget, life is short, memories are short-lived, everything is temporary, everything is fleeting. We gotta cherish the moment, we gotta live in the now, we gotta make the most of it.\n",
            "\n",
            "And finally, we gotta know who we are, we gotta know our own strengths, our own weaknesses, our own limitations. We gotta be true to ourselves, we gotta be real, we gotta be authentic. We gotta know how we're connected to the universe, how we're connected to God, how we're connected to each other.\n",
            "\n",
            "So, that's the wisdom, that's the knowledge, that's the game, my Gs. Let's live life like bosses, let's live life like kings, let's live life like we mean it. Word."
          ]
        }
      ]
    }
  ]
}